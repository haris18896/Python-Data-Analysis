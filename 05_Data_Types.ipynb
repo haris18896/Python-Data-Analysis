{
  "nbformat": 4,
  "nbformat_minor": 0,
  "metadata": {
    "colab": {
      "provenance": [],
      "toc_visible": true,
      "authorship_tag": "ABX9TyMzNmj2B9qXvV2utwbK8em4",
      "include_colab_link": true
    },
    "kernelspec": {
      "name": "python3",
      "display_name": "Python 3"
    },
    "language_info": {
      "name": "python"
    }
  },
  "cells": [
    {
      "cell_type": "markdown",
      "metadata": {
        "id": "view-in-github",
        "colab_type": "text"
      },
      "source": [
        "<a href=\"https://colab.research.google.com/github/haris18896/Python-Data-Analysis/blob/main/05_Data_Types.ipynb\" target=\"_parent\"><img src=\"https://colab.research.google.com/assets/colab-badge.svg\" alt=\"Open In Colab\"/></a>"
      ]
    },
    {
      "cell_type": "code",
      "source": [
        "job_skill = 'SQL'\n",
        "applicant_skill = 'SQL'\n",
        "years_experience = 6\n",
        "\n",
        "# if job_skill == applicant_skill :\n",
        "#    print('Skills Match')\n",
        "if job_skill in applicant_skill and years_experience >=5:\n",
        "    print('Experience Match, SQL Match')\n",
        "elif years_experience >= 5:\n",
        "    print('Experience Match; No SQL')\n",
        "else:\n",
        "    print('No Expereince, NO SQL')"
      ],
      "metadata": {
        "colab": {
          "base_uri": "https://localhost:8080/"
        },
        "id": "eibqmvSqtXAl",
        "outputId": "84043557-7c2c-441c-9bf5-5d4d10624977"
      },
      "execution_count": 50,
      "outputs": [
        {
          "output_type": "stream",
          "name": "stdout",
          "text": [
            "Experience Match, SQL Match\n"
          ]
        }
      ]
    },
    {
      "cell_type": "markdown",
      "source": [
        "# Lists"
      ],
      "metadata": {
        "id": "V-NaJrMQuAQg"
      }
    },
    {
      "cell_type": "code",
      "source": [],
      "metadata": {
        "id": "A-ZaHT3xu5XZ"
      },
      "execution_count": null,
      "outputs": []
    },
    {
      "cell_type": "markdown",
      "source": [
        "# Dictionary"
      ],
      "metadata": {
        "id": "jmbINN7UuAjs"
      }
    },
    {
      "cell_type": "markdown",
      "source": [
        "# Sets"
      ],
      "metadata": {
        "id": "WjBJkiGBuAzg"
      }
    },
    {
      "cell_type": "markdown",
      "source": [
        "# Typles"
      ],
      "metadata": {
        "id": "mCIeXaKmuBDJ"
      }
    }
  ]
}