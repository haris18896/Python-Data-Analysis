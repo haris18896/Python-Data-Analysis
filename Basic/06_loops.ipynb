{
 "nbformat": 4,
 "nbformat_minor": 0,
 "metadata": {
  "colab": {
   "provenance": [],
   "toc_visible": true,
   "authorship_tag": "ABX9TyNZQBgzbjhWKyqipQx1Jo3p",
   "include_colab_link": true
  },
  "kernelspec": {
   "name": "python3",
   "language": "python",
   "display_name": "Python 3 (ipykernel)"
  },
  "language_info": {
   "name": "python"
  }
 },
 "cells": [
  {
   "cell_type": "markdown",
   "metadata": {
    "id": "view-in-github",
    "colab_type": "text"
   },
   "source": [
    "<a href=\"https://colab.research.google.com/github/haris18896/Python-Data-Analysis/blob/main/loops.ipynb\" target=\"_parent\"><img src=\"https://colab.research.google.com/assets/colab-badge.svg\" alt=\"Open In Colab\"/></a>"
   ]
  },
  {
   "cell_type": "markdown",
   "source": [
    "# Loops"
   ],
   "metadata": {
    "id": "qYIDFHI6bMQL"
   }
  },
  {
   "cell_type": "code",
   "source": [
    "job_list = [\n",
    "    \"Software Engineer\",\n",
    "    \"Web Developer\",\n",
    "    \"Mobile Developer\",\n",
    "    \"Game Developer\",\n",
    "    \"Data Scientist\",\n",
    "    \"Machine Learning Engineer\",\n",
    "    \"DevOps Engineer\",\n",
    "    \"Cloud Engineer\",\n",
    "    \"Security Engineer\",\n",
    "    \"Database Administrator\",\n",
    "    \"Systems Analyst\",\n",
    "    \"Software Tester\",\n",
    "    \"Technical Writer\",\n",
    "    \"Product Manager\",\n",
    "    \"Project Manager\",\n",
    "    \"Business Analyst\",\n",
    "    \"Technical Support Engineer\",\n",
    "    \"Software Architect\",\n",
    "    \"UI/UX Designer\",\n",
    "    \"Front-End Developer\",\n",
    "    \"Back-End Developer\",\n",
    "    \"Full-Stack Developer\",\n",
    "    \"Embedded Systems Engineer\",\n",
    "    \"Robotics Engineer\",\n",
    "    \"Artificial Intelligence Engineer\",\n",
    "    \"Blockchain Developer\",\n",
    "    \"Cryptocurrency Developer\",\n",
    "    \"Software Quality Assurance Engineer\",\n",
    "    \"Software Configuration Management Engineer\",\n",
    "    \"Software Release Engineer\",\n",
    "    \"Software Maintenance Engineer\",\n",
    "    \"Software Localization Engineer\",\n",
    "    \"Software Internationalization Engineer\",\n",
    "    \"Software Documentation Engineer\",\n",
    "    \"Software Training Engineer\",\n",
    "    \"Software Sales Engineer\",\n",
    "    \"Software Marketing Engineer\",\n",
    "    \"Software Evangelist\",\n",
    "    \"Open Source Software Developer\",\n",
    "    \"Free and Open Source Software Developer\",\n",
    "    \"Linux Kernel Developer\",\n",
    "    \"Android Developer\",\n",
    "    \"iOS Developer\",\n",
    "    \"Windows Developer\",\n",
    "    \"MacOS Developer\",\n",
    "    \"Embedded Linux Developer\",\n",
    "    \"Real-Time Operating System Developer\",\n",
    "    \"Network Programmer\",\n",
    "    \"Systems Programmer\",\n",
    "    \"Firmware Engineer\",\n",
    "    \"Hardware Engineer\",\n",
    "    \"Electrical Engineer\",\n",
    "    \"Computer Engineer\",\n",
    "    \"Computer Scientist\",\n",
    "    \"Software Researcher\",\n",
    "    \"Artificial Intelligence Researcher\",\n",
    "    \"Machine Learning Researcher\",\n",
    "    \"Data Mining Researcher\",\n",
    "    \"Natural Language Processing Researcher\",\n",
    "    \"Computer Vision Researcher\",\n",
    "    \"Robotics Researcher\",\n",
    "    \"Software Engineering Professor\",\n",
    "    \"Computer Science Professor\",\n",
    "    \"Artificial Intelligence Professor\",\n",
    "    \"Machine Learning Professor\",\n",
    "    \"Data Science Professor\",\n",
    "    \"Programming Instructor\",\n",
    "    \"Computer Science Instructor\",\n",
    "    \"Artificial Intelligence Instructor\",\n",
    "    \"Machine Learning Instructor\",\n",
    "    \"Data Science Instructor\",\n",
    "]"
   ],
   "metadata": {
    "id": "_FB_ZlrrbOAE",
    "ExecuteTime": {
     "end_time": "2024-06-11T10:40:12.993805Z",
     "start_time": "2024-06-11T10:40:12.985643Z"
    }
   },
   "execution_count": 2,
   "outputs": []
  },
  {
   "cell_type": "code",
   "source": [
    "analyst_list = []\n",
    "\n",
    "for job in job_list:\n",
    "    if \"Web\" in job:\n",
    "      analyst_list.append(job)\n"
   ],
   "metadata": {
    "id": "G6brKtIWbQNs",
    "ExecuteTime": {
     "end_time": "2024-06-11T10:40:13.884833Z",
     "start_time": "2024-06-11T10:40:13.882269Z"
    }
   },
   "execution_count": 3,
   "outputs": []
  },
  {
   "cell_type": "code",
   "source": [
    "analyst_list"
   ],
   "metadata": {
    "colab": {
     "base_uri": "https://localhost:8080/"
    },
    "id": "etSBvBfob1PY",
    "outputId": "f3467198-65b1-4f88-c243-8a3af2645824",
    "ExecuteTime": {
     "end_time": "2024-06-11T10:40:19.337483Z",
     "start_time": "2024-06-11T10:40:19.331038Z"
    }
   },
   "execution_count": 4,
   "outputs": [
    {
     "data": {
      "text/plain": "['Web Developer']"
     },
     "execution_count": 4,
     "metadata": {},
     "output_type": "execute_result"
    }
   ]
  },
  {
   "cell_type": "code",
   "source": [
    "len(analyst_list)"
   ],
   "metadata": {
    "colab": {
     "base_uri": "https://localhost:8080/"
    },
    "id": "1K0PJV6Sb2eB",
    "outputId": "6518d7aa-6bba-4dca-e16b-38c997f923a8",
    "ExecuteTime": {
     "end_time": "2024-06-11T10:40:21.959051Z",
     "start_time": "2024-06-11T10:40:21.953738Z"
    }
   },
   "execution_count": 5,
   "outputs": [
    {
     "data": {
      "text/plain": "1"
     },
     "execution_count": 5,
     "metadata": {},
     "output_type": "execute_result"
    }
   ]
  },
  {
   "cell_type": "code",
   "source": [
    "numbers = [0,1,2,3,4,5,6,7]"
   ],
   "metadata": {
    "id": "XTFo1VNjcArZ",
    "ExecuteTime": {
     "end_time": "2024-06-11T10:40:23.752410Z",
     "start_time": "2024-06-11T10:40:23.749425Z"
    }
   },
   "execution_count": 6,
   "outputs": []
  },
  {
   "cell_type": "code",
   "source": [
    "for number in numbers:\n",
    "  print(number)"
   ],
   "metadata": {
    "colab": {
     "base_uri": "https://localhost:8080/"
    },
    "id": "090WcHn1cEBU",
    "outputId": "839606b8-cee7-40ac-a392-3dff47d4a661",
    "ExecuteTime": {
     "end_time": "2024-06-11T10:40:24.782980Z",
     "start_time": "2024-06-11T10:40:24.768158Z"
    }
   },
   "execution_count": 7,
   "outputs": [
    {
     "name": "stdout",
     "output_type": "stream",
     "text": [
      "0\n",
      "1\n",
      "2\n",
      "3\n",
      "4\n",
      "5\n",
      "6\n",
      "7\n"
     ]
    }
   ]
  },
  {
   "cell_type": "code",
   "source": [
    "characters = 'PYTHON'"
   ],
   "metadata": {
    "id": "BpP7koEIcHHk"
   },
   "execution_count": 11,
   "outputs": []
  },
  {
   "cell_type": "code",
   "source": [
    "for character in characters:\n",
    "  print(character)"
   ],
   "metadata": {
    "colab": {
     "base_uri": "https://localhost:8080/"
    },
    "id": "VOyfOycAcKE_",
    "outputId": "36ae083f-fe5a-40f6-a225-a8ce852d1f59"
   },
   "execution_count": 12,
   "outputs": [
    {
     "output_type": "stream",
     "name": "stdout",
     "text": [
      "P\n",
      "Y\n",
      "T\n",
      "H\n",
      "O\n",
      "N\n"
     ]
    }
   ]
  },
  {
   "cell_type": "code",
   "source": [
    "years_expereince = {\n",
    "    'Haris': 3,\n",
    "    'Ahmad': 2,\n",
    "    'Khan': 6\n",
    "}"
   ],
   "metadata": {
    "id": "h_WI_erIcMpX"
   },
   "execution_count": 17,
   "outputs": []
  },
  {
   "cell_type": "code",
   "source": [
    "for person in years_expereince:\n",
    "  print(person)"
   ],
   "metadata": {
    "colab": {
     "base_uri": "https://localhost:8080/"
    },
    "id": "I0qcKreUcTbE",
    "outputId": "77ac54b4-7795-41c4-9b5d-a16569244c5f"
   },
   "execution_count": 18,
   "outputs": [
    {
     "output_type": "stream",
     "name": "stdout",
     "text": [
      "Haris\n",
      "Ahmad\n",
      "Khan\n"
     ]
    }
   ]
  },
  {
   "cell_type": "code",
   "source": [
    "for person in years_expereince.values():\n",
    "  print(person)"
   ],
   "metadata": {
    "colab": {
     "base_uri": "https://localhost:8080/"
    },
    "id": "qhkh9n_gcYzZ",
    "outputId": "b57eb77f-11f1-4748-a72c-f6ba0b08a0df"
   },
   "execution_count": 19,
   "outputs": [
    {
     "output_type": "stream",
     "name": "stdout",
     "text": [
      "3\n",
      "2\n",
      "6\n"
     ]
    }
   ]
  },
  {
   "cell_type": "code",
   "source": [
    "for key, value in years_expereince.items():\n",
    "  print(key, 'has', value, 'expereince')"
   ],
   "metadata": {
    "colab": {
     "base_uri": "https://localhost:8080/"
    },
    "id": "_WzAu5o-cgLw",
    "outputId": "87662162-854a-4ff9-dd55-ca635dbb1c74"
   },
   "execution_count": 21,
   "outputs": [
    {
     "output_type": "stream",
     "name": "stdout",
     "text": [
      "Haris has 3 expereince\n",
      "Ahmad has 2 expereince\n",
      "Khan has 6 expereince\n"
     ]
    }
   ]
  },
  {
   "cell_type": "code",
   "source": [
    "for key, value in years_expereince.items():\n",
    "  if value >=5:\n",
    "    print(key, 'has', value, 'expereince')"
   ],
   "metadata": {
    "colab": {
     "base_uri": "https://localhost:8080/"
    },
    "id": "bfjaAS8ZclXj",
    "outputId": "263c632c-b3fa-46f7-8916-c1b600ad1431"
   },
   "execution_count": 22,
   "outputs": [
    {
     "output_type": "stream",
     "name": "stdout",
     "text": [
      "Khan has 6 expereince\n"
     ]
    }
   ]
  },
  {
   "cell_type": "code",
   "source": [
    "for _ in range(100):\n",
    "  print(_)"
   ],
   "metadata": {
    "colab": {
     "base_uri": "https://localhost:8080/"
    },
    "id": "ucCR_Oomcx2h",
    "outputId": "1dc81dd6-c380-4026-cf3f-1b351739f83f"
   },
   "execution_count": 23,
   "outputs": [
    {
     "output_type": "stream",
     "name": "stdout",
     "text": [
      "0\n",
      "1\n",
      "2\n",
      "3\n",
      "4\n",
      "5\n",
      "6\n",
      "7\n",
      "8\n",
      "9\n",
      "10\n",
      "11\n",
      "12\n",
      "13\n",
      "14\n",
      "15\n",
      "16\n",
      "17\n",
      "18\n",
      "19\n",
      "20\n",
      "21\n",
      "22\n",
      "23\n",
      "24\n",
      "25\n",
      "26\n",
      "27\n",
      "28\n",
      "29\n",
      "30\n",
      "31\n",
      "32\n",
      "33\n",
      "34\n",
      "35\n",
      "36\n",
      "37\n",
      "38\n",
      "39\n",
      "40\n",
      "41\n",
      "42\n",
      "43\n",
      "44\n",
      "45\n",
      "46\n",
      "47\n",
      "48\n",
      "49\n",
      "50\n",
      "51\n",
      "52\n",
      "53\n",
      "54\n",
      "55\n",
      "56\n",
      "57\n",
      "58\n",
      "59\n",
      "60\n",
      "61\n",
      "62\n",
      "63\n",
      "64\n",
      "65\n",
      "66\n",
      "67\n",
      "68\n",
      "69\n",
      "70\n",
      "71\n",
      "72\n",
      "73\n",
      "74\n",
      "75\n",
      "76\n",
      "77\n",
      "78\n",
      "79\n",
      "80\n",
      "81\n",
      "82\n",
      "83\n",
      "84\n",
      "85\n",
      "86\n",
      "87\n",
      "88\n",
      "89\n",
      "90\n",
      "91\n",
      "92\n",
      "93\n",
      "94\n",
      "95\n",
      "96\n",
      "97\n",
      "98\n",
      "99\n"
     ]
    }
   ]
  },
  {
   "cell_type": "code",
   "source": [
    "while True:\n",
    "  print('Hello World')\n",
    "  break"
   ],
   "metadata": {
    "colab": {
     "base_uri": "https://localhost:8080/"
    },
    "id": "B5GGpFW1c2pw",
    "outputId": "1f4115a8-0b62-4582-ce01-167ddb37faff"
   },
   "execution_count": 24,
   "outputs": [
    {
     "output_type": "stream",
     "name": "stdout",
     "text": [
      "Hello World\n"
     ]
    }
   ]
  },
  {
   "cell_type": "code",
   "source": [
    "count = 0\n",
    "while count < 10:\n",
    "  print(count)\n",
    "  count += 1"
   ],
   "metadata": {
    "colab": {
     "base_uri": "https://localhost:8080/"
    },
    "id": "MY3Ua1Zrc7If",
    "outputId": "f112c5ea-fc13-4dba-be2c-3b143eb968d7"
   },
   "execution_count": 25,
   "outputs": [
    {
     "output_type": "stream",
     "name": "stdout",
     "text": [
      "0\n",
      "1\n",
      "2\n",
      "3\n",
      "4\n",
      "5\n",
      "6\n",
      "7\n",
      "8\n",
      "9\n"
     ]
    }
   ]
  },
  {
   "cell_type": "code",
   "source": [
    "years = 0\n",
    "index = 0\n",
    "\n",
    "years_expereince = {\n",
    "    'Haris': 3,\n",
    "    'Ahmad': 2,\n",
    "    'Khan': 6\n",
    "}\n",
    "\n",
    "years_list = list(years_expereince.items())\n",
    "\n",
    "years_list\n"
   ],
   "metadata": {
    "colab": {
     "base_uri": "https://localhost:8080/"
    },
    "id": "Tw6UK41ydDta",
    "outputId": "95573eb7-d730-4443-8252-927208b29c36"
   },
   "execution_count": 43,
   "outputs": [
    {
     "output_type": "execute_result",
     "data": {
      "text/plain": [
       "[('Haris', 3), ('Ahmad', 2), ('Khan', 6)]"
      ]
     },
     "metadata": {},
     "execution_count": 43
    }
   ]
  },
  {
   "cell_type": "code",
   "source": [
    "while years < 5:\n",
    "  key, values = years_list[index]\n",
    "  print(key, values)\n",
    "  years += 1"
   ],
   "metadata": {
    "id": "4DLqbWildKCE"
   },
   "execution_count": 46,
   "outputs": []
  },
  {
   "cell_type": "markdown",
   "source": [
    "# List comprehension"
   ],
   "metadata": {
    "id": "3svJ3exreWpA"
   }
  },
  {
   "cell_type": "code",
   "source": [
    "## Shor Method\n",
    "\n",
    "numbers = [x for x in range(100)]\n",
    "\n",
    "numbers"
   ],
   "metadata": {
    "colab": {
     "base_uri": "https://localhost:8080/"
    },
    "collapsed": true,
    "id": "eZeL3BoAeZBS",
    "outputId": "d6cb73ab-4732-4ced-b14e-7a36d4722c89"
   },
   "execution_count": 51,
   "outputs": [
    {
     "output_type": "execute_result",
     "data": {
      "text/plain": [
       "[0,\n",
       " 1,\n",
       " 2,\n",
       " 3,\n",
       " 4,\n",
       " 5,\n",
       " 6,\n",
       " 7,\n",
       " 8,\n",
       " 9,\n",
       " 10,\n",
       " 11,\n",
       " 12,\n",
       " 13,\n",
       " 14,\n",
       " 15,\n",
       " 16,\n",
       " 17,\n",
       " 18,\n",
       " 19,\n",
       " 20,\n",
       " 21,\n",
       " 22,\n",
       " 23,\n",
       " 24,\n",
       " 25,\n",
       " 26,\n",
       " 27,\n",
       " 28,\n",
       " 29,\n",
       " 30,\n",
       " 31,\n",
       " 32,\n",
       " 33,\n",
       " 34,\n",
       " 35,\n",
       " 36,\n",
       " 37,\n",
       " 38,\n",
       " 39,\n",
       " 40,\n",
       " 41,\n",
       " 42,\n",
       " 43,\n",
       " 44,\n",
       " 45,\n",
       " 46,\n",
       " 47,\n",
       " 48,\n",
       " 49,\n",
       " 50,\n",
       " 51,\n",
       " 52,\n",
       " 53,\n",
       " 54,\n",
       " 55,\n",
       " 56,\n",
       " 57,\n",
       " 58,\n",
       " 59,\n",
       " 60,\n",
       " 61,\n",
       " 62,\n",
       " 63,\n",
       " 64,\n",
       " 65,\n",
       " 66,\n",
       " 67,\n",
       " 68,\n",
       " 69,\n",
       " 70,\n",
       " 71,\n",
       " 72,\n",
       " 73,\n",
       " 74,\n",
       " 75,\n",
       " 76,\n",
       " 77,\n",
       " 78,\n",
       " 79,\n",
       " 80,\n",
       " 81,\n",
       " 82,\n",
       " 83,\n",
       " 84,\n",
       " 85,\n",
       " 86,\n",
       " 87,\n",
       " 88,\n",
       " 89,\n",
       " 90,\n",
       " 91,\n",
       " 92,\n",
       " 93,\n",
       " 94,\n",
       " 95,\n",
       " 96,\n",
       " 97,\n",
       " 98,\n",
       " 99]"
      ]
     },
     "metadata": {},
     "execution_count": 51
    }
   ]
  },
  {
   "cell_type": "code",
   "source": [
    "#same as above\n",
    "\n",
    "numbers = []\n",
    "\n",
    "for number in range(100):\n",
    "  numbers.append(number)\n",
    "\n",
    "numbers"
   ],
   "metadata": {
    "colab": {
     "base_uri": "https://localhost:8080/"
    },
    "collapsed": true,
    "id": "y_FR-F_Pebmy",
    "outputId": "51ac9e64-f47e-4eeb-e859-837cc0317ba8"
   },
   "execution_count": 50,
   "outputs": [
    {
     "output_type": "execute_result",
     "data": {
      "text/plain": [
       "[0,\n",
       " 1,\n",
       " 2,\n",
       " 3,\n",
       " 4,\n",
       " 5,\n",
       " 6,\n",
       " 7,\n",
       " 8,\n",
       " 9,\n",
       " 10,\n",
       " 11,\n",
       " 12,\n",
       " 13,\n",
       " 14,\n",
       " 15,\n",
       " 16,\n",
       " 17,\n",
       " 18,\n",
       " 19,\n",
       " 20,\n",
       " 21,\n",
       " 22,\n",
       " 23,\n",
       " 24,\n",
       " 25,\n",
       " 26,\n",
       " 27,\n",
       " 28,\n",
       " 29,\n",
       " 30,\n",
       " 31,\n",
       " 32,\n",
       " 33,\n",
       " 34,\n",
       " 35,\n",
       " 36,\n",
       " 37,\n",
       " 38,\n",
       " 39,\n",
       " 40,\n",
       " 41,\n",
       " 42,\n",
       " 43,\n",
       " 44,\n",
       " 45,\n",
       " 46,\n",
       " 47,\n",
       " 48,\n",
       " 49,\n",
       " 50,\n",
       " 51,\n",
       " 52,\n",
       " 53,\n",
       " 54,\n",
       " 55,\n",
       " 56,\n",
       " 57,\n",
       " 58,\n",
       " 59,\n",
       " 60,\n",
       " 61,\n",
       " 62,\n",
       " 63,\n",
       " 64,\n",
       " 65,\n",
       " 66,\n",
       " 67,\n",
       " 68,\n",
       " 69,\n",
       " 70,\n",
       " 71,\n",
       " 72,\n",
       " 73,\n",
       " 74,\n",
       " 75,\n",
       " 76,\n",
       " 77,\n",
       " 78,\n",
       " 79,\n",
       " 80,\n",
       " 81,\n",
       " 82,\n",
       " 83,\n",
       " 84,\n",
       " 85,\n",
       " 86,\n",
       " 87,\n",
       " 88,\n",
       " 89,\n",
       " 90,\n",
       " 91,\n",
       " 92,\n",
       " 93,\n",
       " 94,\n",
       " 95,\n",
       " 96,\n",
       " 97,\n",
       " 98,\n",
       " 99]"
      ]
     },
     "metadata": {},
     "execution_count": 50
    }
   ]
  },
  {
   "cell_type": "code",
   "source": [
    "analyst_list = [job for job in job_list if \"Web\" in job]\n",
    "\n",
    "analyst_list"
   ],
   "metadata": {
    "colab": {
     "base_uri": "https://localhost:8080/"
    },
    "id": "_R3EBTb7ep-l",
    "outputId": "feb56b46-11f3-494e-cb0f-f23af48b1409"
   },
   "execution_count": 52,
   "outputs": [
    {
     "output_type": "execute_result",
     "data": {
      "text/plain": [
       "['Web Developer']"
      ]
     },
     "metadata": {},
     "execution_count": 52
    }
   ]
  },
  {
   "cell_type": "code",
   "source": [],
   "metadata": {
    "id": "87sO_M7IfSwR"
   },
   "execution_count": null,
   "outputs": []
  }
 ]
}
