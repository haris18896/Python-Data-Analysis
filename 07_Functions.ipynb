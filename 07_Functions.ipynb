{
  "nbformat": 4,
  "nbformat_minor": 0,
  "metadata": {
    "colab": {
      "provenance": [],
      "authorship_tag": "ABX9TyOM21Zxb8JA/gAcP8ZCnJfI",
      "include_colab_link": true
    },
    "kernelspec": {
      "name": "python3",
      "display_name": "Python 3"
    },
    "language_info": {
      "name": "python"
    }
  },
  "cells": [
    {
      "cell_type": "markdown",
      "metadata": {
        "id": "view-in-github",
        "colab_type": "text"
      },
      "source": [
        "<a href=\"https://colab.research.google.com/github/haris18896/Python-Data-Analysis/blob/main/07_Functions.ipynb\" target=\"_parent\"><img src=\"https://colab.research.google.com/assets/colab-badge.svg\" alt=\"Open In Colab\"/></a>"
      ]
    },
    {
      "cell_type": "markdown",
      "source": [
        "# Functions\n",
        "\n",
        "## What is a Function\n",
        "\n",
        "### Notes\n",
        "\n",
        "* A **function** is a block of code that only runs when it's called.\n",
        "* You can pass data (called **parameters**) into a function.\n",
        "* The function can return data as a result.\n",
        "\n",
        "## Importance\n",
        "\n",
        "Enable us to resuse the code and make it more modular, important for complex data analysis and plotting routines.\n",
        "\n",
        "\n",
        "## Types of Functions\n",
        "\n",
        "| Type of Function             | Example Function              | Section            |\n",
        "|------------------------------|-------------------------------|--------------------|\n",
        "| Built-In functions           | `max()`                       | 1. Getting Started |\n",
        "| User-defined functions       | `def my_function(): pass`     | 16. Functions      |\n",
        "| Lambda functions             | `lambda x: x + 1`             | 17. Lambda         |\n",
        "| Standard Library functions   | `math.sqrt()`                 | 18. Modules        |\n",
        "| Third-Party Library Functions| `numpy.array()`               | 19. Library        |\n",
        "\n",
        "Note: We won't be covering Generator, Asynchronous, or Recursive Functions as they are out of scope of Data Analytics.\n",
        "\n",
        "\n",
        "# [Builtin functions](https://docs.python.org/3/library/functions.html)\n",
        "\n",
        "\n"
      ],
      "metadata": {
        "id": "gBvf44e9fzPW"
      }
    },
    {
      "cell_type": "code",
      "source": [
        "help(all)"
      ],
      "metadata": {
        "colab": {
          "base_uri": "https://localhost:8080/"
        },
        "id": "SzrAtyxif2o6",
        "outputId": "6c55809e-4009-4f93-c054-83a73b17d712"
      },
      "execution_count": 6,
      "outputs": [
        {
          "output_type": "stream",
          "name": "stdout",
          "text": [
            "Help on built-in function all in module builtins:\n",
            "\n",
            "all(iterable, /)\n",
            "    Return True if bool(x) is True for all values x in the iterable.\n",
            "    \n",
            "    If the iterable is empty, return True.\n",
            "\n"
          ]
        }
      ]
    },
    {
      "cell_type": "code",
      "source": [
        "import types\n",
        "\n",
        "print([func for func in dir(__builtins__) if isinstance(getattr(__builtins__, func), types.BuiltinFunctionType)])"
      ],
      "metadata": {
        "colab": {
          "base_uri": "https://localhost:8080/"
        },
        "id": "dG6e74mhhuzg",
        "outputId": "e6e69792-240a-4b23-9ad0-d10761a156eb"
      },
      "execution_count": 4,
      "outputs": [
        {
          "output_type": "stream",
          "name": "stdout",
          "text": [
            "['__build_class__', '__import__', 'abs', 'aiter', 'all', 'anext', 'any', 'ascii', 'bin', 'breakpoint', 'callable', 'chr', 'compile', 'delattr', 'dir', 'divmod', 'eval', 'exec', 'format', 'getattr', 'globals', 'hasattr', 'hash', 'hex', 'id', 'isinstance', 'issubclass', 'iter', 'len', 'locals', 'max', 'min', 'next', 'oct', 'open', 'ord', 'pow', 'print', 'repr', 'round', 'setattr', 'sorted', 'sum', 'vars']\n"
          ]
        }
      ]
    },
    {
      "cell_type": "code",
      "source": [
        "salary_list = [10000, 120000, 130000, 50000, 197692]\n",
        "\n",
        "def calculate_salary(salary, rate=.1):\n",
        "  total_salary = salary * (1 + rate)\n",
        "\n",
        "  return total_salary\n",
        "\n",
        "total_salary_list = [calculate_salary(salary) for salary in salary_list]\n",
        "\n",
        "total_salary_list"
      ],
      "metadata": {
        "colab": {
          "base_uri": "https://localhost:8080/"
        },
        "id": "EcXdrv4GgtRr",
        "outputId": "79e8a9a6-27ee-407e-b6f2-427864f2b140"
      },
      "execution_count": 20,
      "outputs": [
        {
          "output_type": "execute_result",
          "data": {
            "text/plain": [
              "[11000.0, 132000.0, 143000.0, 55000.00000000001, 217461.2]"
            ]
          },
          "metadata": {},
          "execution_count": 20
        }
      ]
    },
    {
      "cell_type": "markdown",
      "source": [
        "# Lambda\n",
        "\n",
        "* anonymus functions\n",
        "* lambda x: x + 1"
      ],
      "metadata": {
        "id": "Zo0S9L5Skyh1"
      }
    },
    {
      "cell_type": "code",
      "source": [
        "mul_two = lambda x: x*2\n",
        "mul_two(2)"
      ],
      "metadata": {
        "colab": {
          "base_uri": "https://localhost:8080/"
        },
        "id": "LheXQFdDk5uc",
        "outputId": "55439714-ebc6-44e7-ce86-ccb55660b015"
      },
      "execution_count": 11,
      "outputs": [
        {
          "output_type": "execute_result",
          "data": {
            "text/plain": [
              "4"
            ]
          },
          "metadata": {},
          "execution_count": 11
        }
      ]
    },
    {
      "cell_type": "code",
      "source": [
        "(lambda x: x*2)(3)"
      ],
      "metadata": {
        "colab": {
          "base_uri": "https://localhost:8080/"
        },
        "id": "LEJ9CZS0lAwp",
        "outputId": "041b5990-9c13-4635-9421-4379400cbe08"
      },
      "execution_count": 12,
      "outputs": [
        {
          "output_type": "execute_result",
          "data": {
            "text/plain": [
              "6"
            ]
          },
          "metadata": {},
          "execution_count": 12
        }
      ]
    },
    {
      "cell_type": "code",
      "source": [
        "(lambda x, y : x * 2 + y*3)(3, 4)"
      ],
      "metadata": {
        "colab": {
          "base_uri": "https://localhost:8080/"
        },
        "id": "L3UCocr3lEQk",
        "outputId": "33dd218a-8922-4cea-f288-1299c75c29cc"
      },
      "execution_count": 13,
      "outputs": [
        {
          "output_type": "execute_result",
          "data": {
            "text/plain": [
              "18"
            ]
          },
          "metadata": {},
          "execution_count": 13
        }
      ]
    },
    {
      "cell_type": "code",
      "source": [
        "(lambda *args: sum(args))(1,2,3,4,5)"
      ],
      "metadata": {
        "colab": {
          "base_uri": "https://localhost:8080/"
        },
        "id": "eSuh8_YglK7d",
        "outputId": "02401e6a-d299-4736-8f9c-a4682552ea7b"
      },
      "execution_count": 14,
      "outputs": [
        {
          "output_type": "execute_result",
          "data": {
            "text/plain": [
              "15"
            ]
          },
          "metadata": {},
          "execution_count": 14
        }
      ]
    },
    {
      "cell_type": "code",
      "source": [
        "(lambda **kwargs: sum(kwargs.values()))(a=1, b=2, c=3)"
      ],
      "metadata": {
        "colab": {
          "base_uri": "https://localhost:8080/"
        },
        "id": "WlcY4uRtlPv9",
        "outputId": "17c92b51-1b71-49bc-b89c-a42876e3af58"
      },
      "execution_count": 16,
      "outputs": [
        {
          "output_type": "execute_result",
          "data": {
            "text/plain": [
              "6"
            ]
          },
          "metadata": {},
          "execution_count": 16
        }
      ]
    },
    {
      "cell_type": "code",
      "source": [
        "(lambda **kwargs: kwargs.values())(a=1, b=2, c=3)"
      ],
      "metadata": {
        "colab": {
          "base_uri": "https://localhost:8080/"
        },
        "id": "4rVTf1uplSQ7",
        "outputId": "2626a42c-cff9-4e44-f0ab-486a1d52de01"
      },
      "execution_count": 17,
      "outputs": [
        {
          "output_type": "execute_result",
          "data": {
            "text/plain": [
              "dict_values([1, 2, 3])"
            ]
          },
          "metadata": {},
          "execution_count": 17
        }
      ]
    },
    {
      "cell_type": "code",
      "source": [
        "(lambda salary, rate : salary * (1 + rate))(1000, 0.1)"
      ],
      "metadata": {
        "colab": {
          "base_uri": "https://localhost:8080/"
        },
        "id": "PcGZ2QGdld8p",
        "outputId": "d63e899a-21bd-465c-f6f0-295ece265384"
      },
      "execution_count": 18,
      "outputs": [
        {
          "output_type": "execute_result",
          "data": {
            "text/plain": [
              "1100.0"
            ]
          },
          "metadata": {},
          "execution_count": 18
        }
      ]
    },
    {
      "cell_type": "code",
      "source": [
        "total_salary_list = [(lambda x: x * (1 + 0.1))(salary) for salary in salary_list]\n",
        "\n",
        "total_salary_list"
      ],
      "metadata": {
        "colab": {
          "base_uri": "https://localhost:8080/"
        },
        "id": "SC9l82j6lmA4",
        "outputId": "a9efd5e8-2e04-4824-ee4c-b0e3bf06b50a"
      },
      "execution_count": 24,
      "outputs": [
        {
          "output_type": "execute_result",
          "data": {
            "text/plain": [
              "[11000.0, 132000.0, 143000.0, 55000.00000000001, 217461.2]"
            ]
          },
          "metadata": {},
          "execution_count": 24
        }
      ]
    },
    {
      "cell_type": "code",
      "source": [
        "job_data = [\n",
        "    {\n",
        "        'job_title': \"Data Scientist\",\n",
        "        \"job_skills\": [\"Python\", \"Machine Learning\", \"Statistics\"],\n",
        "        \"remote\": True\n",
        "    },\n",
        "     {\n",
        "         'job_title': \"Data Scientist\",\n",
        "        \"job_skills\": [\"SQL\", \"Data Visualization\", \"Data Cleaning\"],\n",
        "        \"remote\": False\n",
        "    },\n",
        "    {\n",
        "        'job_title':\"Machine Learning Engineer\",\n",
        "        \"job_skills\": [\"Python\", \"Machine Learning\", \"Cloud Computing\"],\n",
        "        \"remote\": True\n",
        "    },\n",
        "     {\n",
        "        'job_title':\"Data Engineer\",\n",
        "        \"job_skills\": [\"Python\", \"SQL\", \"Data Warehousing\"],\n",
        "        \"remote\": False\n",
        "    },\n",
        "    {\n",
        "        'job_title' : \"Business Intelligence Analyst\",\n",
        "        \"job_skills\": [\"Excel\", \"Power BI\", \"Data Analysis\"],\n",
        "        \"remote\": True\n",
        "    }\n",
        "]\n",
        "\n",
        "\n",
        "help(filter)"
      ],
      "metadata": {
        "colab": {
          "base_uri": "https://localhost:8080/"
        },
        "id": "aqNViHN2mSlP",
        "outputId": "658a8223-e408-4697-ccc5-d1a4cdc41df5"
      },
      "execution_count": 25,
      "outputs": [
        {
          "output_type": "stream",
          "name": "stdout",
          "text": [
            "Help on class filter in module builtins:\n",
            "\n",
            "class filter(object)\n",
            " |  filter(function or None, iterable) --> filter object\n",
            " |  \n",
            " |  Return an iterator yielding those items of iterable for which function(item)\n",
            " |  is true. If function is None, return the items that are true.\n",
            " |  \n",
            " |  Methods defined here:\n",
            " |  \n",
            " |  __getattribute__(self, name, /)\n",
            " |      Return getattr(self, name).\n",
            " |  \n",
            " |  __iter__(self, /)\n",
            " |      Implement iter(self).\n",
            " |  \n",
            " |  __next__(self, /)\n",
            " |      Implement next(self).\n",
            " |  \n",
            " |  __reduce__(...)\n",
            " |      Return state information for pickling.\n",
            " |  \n",
            " |  ----------------------------------------------------------------------\n",
            " |  Static methods defined here:\n",
            " |  \n",
            " |  __new__(*args, **kwargs) from builtins.type\n",
            " |      Create and return a new object.  See help(type) for accurate signature.\n",
            "\n"
          ]
        }
      ]
    },
    {
      "cell_type": "code",
      "source": [
        "list(filter(lambda job: job['remote'], job_data))"
      ],
      "metadata": {
        "colab": {
          "base_uri": "https://localhost:8080/"
        },
        "id": "yVdHzZYrnNPt",
        "outputId": "b858f812-f094-4fb2-fd04-c5f7f3eb8cd7"
      },
      "execution_count": 27,
      "outputs": [
        {
          "output_type": "execute_result",
          "data": {
            "text/plain": [
              "[{'job_title': 'Data Scientist',\n",
              "  'job_skills': ['Python', 'Machine Learning', 'Statistics'],\n",
              "  'remote': True},\n",
              " {'job_title': 'Machine Learning Engineer',\n",
              "  'job_skills': ['Python', 'Machine Learning', 'Cloud Computing'],\n",
              "  'remote': True},\n",
              " {'job_title': 'Business Intelligence Analyst',\n",
              "  'job_skills': ['Excel', 'Power BI', 'Data Analysis'],\n",
              "  'remote': True}]"
            ]
          },
          "metadata": {},
          "execution_count": 27
        }
      ]
    },
    {
      "cell_type": "code",
      "source": [
        "list(filter(lambda job: job['remote'] and 'Python' in job[\"job_skills\"], job_data))"
      ],
      "metadata": {
        "colab": {
          "base_uri": "https://localhost:8080/"
        },
        "id": "aIJ-aE4lnag3",
        "outputId": "ce8aa509-06eb-4d97-d641-dfbe4271c327"
      },
      "execution_count": 28,
      "outputs": [
        {
          "output_type": "execute_result",
          "data": {
            "text/plain": [
              "[{'job_title': 'Data Scientist',\n",
              "  'job_skills': ['Python', 'Machine Learning', 'Statistics'],\n",
              "  'remote': True},\n",
              " {'job_title': 'Machine Learning Engineer',\n",
              "  'job_skills': ['Python', 'Machine Learning', 'Cloud Computing'],\n",
              "  'remote': True}]"
            ]
          },
          "metadata": {},
          "execution_count": 28
        }
      ]
    },
    {
      "cell_type": "markdown",
      "source": [
        "# Module"
      ],
      "metadata": {
        "id": "ak6KmB7mntmw"
      }
    },
    {
      "cell_type": "code",
      "source": [],
      "metadata": {
        "id": "BrCXXKt5n3V_"
      },
      "execution_count": null,
      "outputs": []
    }
  ]
}