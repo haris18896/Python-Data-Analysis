{
  "nbformat": 4,
  "nbformat_minor": 0,
  "metadata": {
    "colab": {
      "provenance": [],
      "toc_visible": true,
      "authorship_tag": "ABX9TyM4zH1XfHCsDjHKvdxF0ORq",
      "include_colab_link": true
    },
    "kernelspec": {
      "name": "python3",
      "display_name": "Python 3"
    },
    "language_info": {
      "name": "python"
    }
  },
  "cells": [
    {
      "cell_type": "markdown",
      "metadata": {
        "id": "view-in-github",
        "colab_type": "text"
      },
      "source": [
        "<a href=\"https://colab.research.google.com/github/haris18896/Python-Data-Analysis/blob/main/07_Functions.ipynb\" target=\"_parent\"><img src=\"https://colab.research.google.com/assets/colab-badge.svg\" alt=\"Open In Colab\"/></a>"
      ]
    },
    {
      "cell_type": "markdown",
      "source": [
        "# Functions\n",
        "\n",
        "## What is a Function\n",
        "\n",
        "### Notes\n",
        "\n",
        "* A **function** is a block of code that only runs when it's called.\n",
        "* You can pass data (called **parameters**) into a function.\n",
        "* The function can return data as a result.\n",
        "\n",
        "## Importance\n",
        "\n",
        "Enable us to resuse the code and make it more modular, important for complex data analysis and plotting routines.\n",
        "\n",
        "\n",
        "## Types of Functions\n",
        "\n",
        "| Type of Function             | Example Function              | Section            |\n",
        "|------------------------------|-------------------------------|--------------------|\n",
        "| Built-In functions           | `max()`                       | 1. Getting Started |\n",
        "| User-defined functions       | `def my_function(): pass`     | 16. Functions      |\n",
        "| Lambda functions             | `lambda x: x + 1`             | 17. Lambda         |\n",
        "| Standard Library functions   | `math.sqrt()`                 | 18. Modules        |\n",
        "| Third-Party Library Functions| `numpy.array()`               | 19. Library        |\n",
        "\n",
        "Note: We won't be covering Generator, Asynchronous, or Recursive Functions as they are out of scope of Data Analytics.\n",
        "\n"
      ],
      "metadata": {
        "id": "gBvf44e9fzPW"
      }
    },
    {
      "cell_type": "code",
      "source": [
        "help(all)"
      ],
      "metadata": {
        "colab": {
          "base_uri": "https://localhost:8080/"
        },
        "id": "SzrAtyxif2o6",
        "outputId": "9453f40a-098f-490d-c847-3aa43ae953a5"
      },
      "execution_count": 2,
      "outputs": [
        {
          "output_type": "stream",
          "name": "stdout",
          "text": [
            "Help on built-in function all in module builtins:\n",
            "\n",
            "all(iterable, /)\n",
            "    Return True if bool(x) is True for all values x in the iterable.\n",
            "    \n",
            "    If the iterable is empty, return True.\n",
            "\n"
          ]
        }
      ]
    },
    {
      "cell_type": "code",
      "source": [
        "sill_list = ['python', 'java', 'sql']\n",
        "\n",
        "\n"
      ],
      "metadata": {
        "id": "EcXdrv4GgtRr"
      },
      "execution_count": 3,
      "outputs": []
    }
  ]
}