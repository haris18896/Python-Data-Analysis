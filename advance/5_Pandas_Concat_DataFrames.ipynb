{
 "cells": [
  {
   "cell_type": "markdown",
   "source": [
    "# Pandas : Concat DataFrames"
   ],
   "metadata": {
    "collapsed": false
   },
   "id": "45f6daa1e1c65127"
  },
  {
   "cell_type": "code",
   "execution_count": 2,
   "id": "initial_id",
   "metadata": {
    "collapsed": true,
    "ExecuteTime": {
     "end_time": "2024-06-11T12:36:11.856579Z",
     "start_time": "2024-06-11T12:35:56.324933Z"
    }
   },
   "outputs": [],
   "source": [
    "import pandas as pd\n",
    "from datasets import load_dataset\n",
    "import matplotlib.pyplot as plt  \n",
    "\n",
    "# Loading Data\n",
    "dataset = load_dataset('lukebarousse/data_jobs')\n",
    "df = dataset['train'].to_pandas()\n",
    "\n",
    "# Data Cleanup\n",
    "df['job_posted_date'] = pd.to_datetime(df['job_posted_date'])"
   ]
  },
  {
   "cell_type": "markdown",
   "source": [
    "## Notes\n",
    "\n",
    "* `concat()`: Combine DataFrames by rows (axis = 0) or columns (axis=1). \n",
    "* Sticks the DataFrames together without using any keys. "
   ],
   "metadata": {
    "collapsed": false
   },
   "id": "abb7079efb3204f3"
  },
  {
   "cell_type": "code",
   "execution_count": 3,
   "outputs": [
    {
     "data": {
      "text/plain": "   job_id                  job_title    company job_posted_date\n0       1             Data Scientist  Company A      2024-01-02\n1       2               Data Analyst  Company B      2024-01-07\n2       3  Machine Learning Engineer  Company C      2024-01-14\n3       4             Data Scientist  Company D      2024-01-19\n4       5              Data Engineer  Company E      2024-01-24",
      "text/html": "<div>\n<style scoped>\n    .dataframe tbody tr th:only-of-type {\n        vertical-align: middle;\n    }\n\n    .dataframe tbody tr th {\n        vertical-align: top;\n    }\n\n    .dataframe thead th {\n        text-align: right;\n    }\n</style>\n<table border=\"1\" class=\"dataframe\">\n  <thead>\n    <tr style=\"text-align: right;\">\n      <th></th>\n      <th>job_id</th>\n      <th>job_title</th>\n      <th>company</th>\n      <th>job_posted_date</th>\n    </tr>\n  </thead>\n  <tbody>\n    <tr>\n      <th>0</th>\n      <td>1</td>\n      <td>Data Scientist</td>\n      <td>Company A</td>\n      <td>2024-01-02</td>\n    </tr>\n    <tr>\n      <th>1</th>\n      <td>2</td>\n      <td>Data Analyst</td>\n      <td>Company B</td>\n      <td>2024-01-07</td>\n    </tr>\n    <tr>\n      <th>2</th>\n      <td>3</td>\n      <td>Machine Learning Engineer</td>\n      <td>Company C</td>\n      <td>2024-01-14</td>\n    </tr>\n    <tr>\n      <th>3</th>\n      <td>4</td>\n      <td>Data Scientist</td>\n      <td>Company D</td>\n      <td>2024-01-19</td>\n    </tr>\n    <tr>\n      <th>4</th>\n      <td>5</td>\n      <td>Data Engineer</td>\n      <td>Company E</td>\n      <td>2024-01-24</td>\n    </tr>\n  </tbody>\n</table>\n</div>"
     },
     "execution_count": 3,
     "metadata": {},
     "output_type": "execute_result"
    }
   ],
   "source": [
    "# Sample dataset of job postings in January\n",
    "job_postings_jan = pd.DataFrame({\n",
    "    'job_id': [1, 2, 3, 4, 5],\n",
    "    'job_title': ['Data Scientist', 'Data Analyst', 'Machine Learning Engineer', 'Data Scientist', 'Data Engineer'],\n",
    "    'company': ['Company A', 'Company B', 'Company C', 'Company D', 'Company E'],\n",
    "    'job_posted_date': pd.to_datetime(['2024-01-02', '2024-01-07', '2024-01-14', '2024-01-19', '2024-01-24'])\n",
    "})\n",
    "\n",
    "job_postings_jan"
   ],
   "metadata": {
    "collapsed": false,
    "ExecuteTime": {
     "end_time": "2024-06-11T12:36:26.462565Z",
     "start_time": "2024-06-11T12:36:26.452596Z"
    }
   },
   "id": "ad957712e8edcd71"
  },
  {
   "cell_type": "code",
   "execution_count": 4,
   "outputs": [
    {
     "data": {
      "text/plain": "   job_id                  job_title    company job_posted_date\n0       6             Data Scientist  Company F      2024-02-05\n1       7               Data Analyst  Company G      2024-02-09\n2       8  Machine Learning Engineer  Company H      2024-02-12\n3       9             Data Scientist  Company I      2024-02-18\n4      10              Data Engineer  Company J      2024-02-22",
      "text/html": "<div>\n<style scoped>\n    .dataframe tbody tr th:only-of-type {\n        vertical-align: middle;\n    }\n\n    .dataframe tbody tr th {\n        vertical-align: top;\n    }\n\n    .dataframe thead th {\n        text-align: right;\n    }\n</style>\n<table border=\"1\" class=\"dataframe\">\n  <thead>\n    <tr style=\"text-align: right;\">\n      <th></th>\n      <th>job_id</th>\n      <th>job_title</th>\n      <th>company</th>\n      <th>job_posted_date</th>\n    </tr>\n  </thead>\n  <tbody>\n    <tr>\n      <th>0</th>\n      <td>6</td>\n      <td>Data Scientist</td>\n      <td>Company F</td>\n      <td>2024-02-05</td>\n    </tr>\n    <tr>\n      <th>1</th>\n      <td>7</td>\n      <td>Data Analyst</td>\n      <td>Company G</td>\n      <td>2024-02-09</td>\n    </tr>\n    <tr>\n      <th>2</th>\n      <td>8</td>\n      <td>Machine Learning Engineer</td>\n      <td>Company H</td>\n      <td>2024-02-12</td>\n    </tr>\n    <tr>\n      <th>3</th>\n      <td>9</td>\n      <td>Data Scientist</td>\n      <td>Company I</td>\n      <td>2024-02-18</td>\n    </tr>\n    <tr>\n      <th>4</th>\n      <td>10</td>\n      <td>Data Engineer</td>\n      <td>Company J</td>\n      <td>2024-02-22</td>\n    </tr>\n  </tbody>\n</table>\n</div>"
     },
     "execution_count": 4,
     "metadata": {},
     "output_type": "execute_result"
    }
   ],
   "source": [
    "# Sample dataset of job postings in February\n",
    "job_postings_feb = pd.DataFrame({\n",
    "    'job_id': [6, 7, 8, 9, 10],\n",
    "    'job_title': ['Data Scientist', 'Data Analyst', 'Machine Learning Engineer', 'Data Scientist', 'Data Engineer'],\n",
    "    'company': ['Company F', 'Company G', 'Company H', 'Company I', 'Company J'],\n",
    "    'job_posted_date': pd.to_datetime(['2024-02-05', '2024-02-09', '2024-02-12', '2024-02-18', '2024-02-22'])\n",
    "})\n",
    "\n",
    "job_postings_feb"
   ],
   "metadata": {
    "collapsed": false,
    "ExecuteTime": {
     "end_time": "2024-06-11T12:36:32.129438Z",
     "start_time": "2024-06-11T12:36:32.123816Z"
    }
   },
   "id": "1cbb9b4deb34858"
  },
  {
   "cell_type": "code",
   "execution_count": 5,
   "outputs": [
    {
     "data": {
      "text/plain": "   job_id                  job_title    company job_posted_date\n0       1             Data Scientist  Company A      2024-01-02\n1       2               Data Analyst  Company B      2024-01-07\n2       3  Machine Learning Engineer  Company C      2024-01-14\n3       4             Data Scientist  Company D      2024-01-19\n4       5              Data Engineer  Company E      2024-01-24\n0       6             Data Scientist  Company F      2024-02-05\n1       7               Data Analyst  Company G      2024-02-09\n2       8  Machine Learning Engineer  Company H      2024-02-12\n3       9             Data Scientist  Company I      2024-02-18\n4      10              Data Engineer  Company J      2024-02-22",
      "text/html": "<div>\n<style scoped>\n    .dataframe tbody tr th:only-of-type {\n        vertical-align: middle;\n    }\n\n    .dataframe tbody tr th {\n        vertical-align: top;\n    }\n\n    .dataframe thead th {\n        text-align: right;\n    }\n</style>\n<table border=\"1\" class=\"dataframe\">\n  <thead>\n    <tr style=\"text-align: right;\">\n      <th></th>\n      <th>job_id</th>\n      <th>job_title</th>\n      <th>company</th>\n      <th>job_posted_date</th>\n    </tr>\n  </thead>\n  <tbody>\n    <tr>\n      <th>0</th>\n      <td>1</td>\n      <td>Data Scientist</td>\n      <td>Company A</td>\n      <td>2024-01-02</td>\n    </tr>\n    <tr>\n      <th>1</th>\n      <td>2</td>\n      <td>Data Analyst</td>\n      <td>Company B</td>\n      <td>2024-01-07</td>\n    </tr>\n    <tr>\n      <th>2</th>\n      <td>3</td>\n      <td>Machine Learning Engineer</td>\n      <td>Company C</td>\n      <td>2024-01-14</td>\n    </tr>\n    <tr>\n      <th>3</th>\n      <td>4</td>\n      <td>Data Scientist</td>\n      <td>Company D</td>\n      <td>2024-01-19</td>\n    </tr>\n    <tr>\n      <th>4</th>\n      <td>5</td>\n      <td>Data Engineer</td>\n      <td>Company E</td>\n      <td>2024-01-24</td>\n    </tr>\n    <tr>\n      <th>0</th>\n      <td>6</td>\n      <td>Data Scientist</td>\n      <td>Company F</td>\n      <td>2024-02-05</td>\n    </tr>\n    <tr>\n      <th>1</th>\n      <td>7</td>\n      <td>Data Analyst</td>\n      <td>Company G</td>\n      <td>2024-02-09</td>\n    </tr>\n    <tr>\n      <th>2</th>\n      <td>8</td>\n      <td>Machine Learning Engineer</td>\n      <td>Company H</td>\n      <td>2024-02-12</td>\n    </tr>\n    <tr>\n      <th>3</th>\n      <td>9</td>\n      <td>Data Scientist</td>\n      <td>Company I</td>\n      <td>2024-02-18</td>\n    </tr>\n    <tr>\n      <th>4</th>\n      <td>10</td>\n      <td>Data Engineer</td>\n      <td>Company J</td>\n      <td>2024-02-22</td>\n    </tr>\n  </tbody>\n</table>\n</div>"
     },
     "execution_count": 5,
     "metadata": {},
     "output_type": "execute_result"
    }
   ],
   "source": [
    "pd.concat([job_postings_jan, job_postings_feb])"
   ],
   "metadata": {
    "collapsed": false,
    "ExecuteTime": {
     "end_time": "2024-06-11T12:36:46.293066Z",
     "start_time": "2024-06-11T12:36:46.287772Z"
    }
   },
   "id": "fc230f38f9b16ab"
  },
  {
   "cell_type": "code",
   "execution_count": 6,
   "outputs": [
    {
     "data": {
      "text/plain": "   job_id                  job_title    company job_posted_date\n0       1             Data Scientist  Company A      2024-01-02\n1       2               Data Analyst  Company B      2024-01-07\n2       3  Machine Learning Engineer  Company C      2024-01-14\n3       4             Data Scientist  Company D      2024-01-19\n4       5              Data Engineer  Company E      2024-01-24\n5       6             Data Scientist  Company F      2024-02-05\n6       7               Data Analyst  Company G      2024-02-09\n7       8  Machine Learning Engineer  Company H      2024-02-12\n8       9             Data Scientist  Company I      2024-02-18\n9      10              Data Engineer  Company J      2024-02-22",
      "text/html": "<div>\n<style scoped>\n    .dataframe tbody tr th:only-of-type {\n        vertical-align: middle;\n    }\n\n    .dataframe tbody tr th {\n        vertical-align: top;\n    }\n\n    .dataframe thead th {\n        text-align: right;\n    }\n</style>\n<table border=\"1\" class=\"dataframe\">\n  <thead>\n    <tr style=\"text-align: right;\">\n      <th></th>\n      <th>job_id</th>\n      <th>job_title</th>\n      <th>company</th>\n      <th>job_posted_date</th>\n    </tr>\n  </thead>\n  <tbody>\n    <tr>\n      <th>0</th>\n      <td>1</td>\n      <td>Data Scientist</td>\n      <td>Company A</td>\n      <td>2024-01-02</td>\n    </tr>\n    <tr>\n      <th>1</th>\n      <td>2</td>\n      <td>Data Analyst</td>\n      <td>Company B</td>\n      <td>2024-01-07</td>\n    </tr>\n    <tr>\n      <th>2</th>\n      <td>3</td>\n      <td>Machine Learning Engineer</td>\n      <td>Company C</td>\n      <td>2024-01-14</td>\n    </tr>\n    <tr>\n      <th>3</th>\n      <td>4</td>\n      <td>Data Scientist</td>\n      <td>Company D</td>\n      <td>2024-01-19</td>\n    </tr>\n    <tr>\n      <th>4</th>\n      <td>5</td>\n      <td>Data Engineer</td>\n      <td>Company E</td>\n      <td>2024-01-24</td>\n    </tr>\n    <tr>\n      <th>5</th>\n      <td>6</td>\n      <td>Data Scientist</td>\n      <td>Company F</td>\n      <td>2024-02-05</td>\n    </tr>\n    <tr>\n      <th>6</th>\n      <td>7</td>\n      <td>Data Analyst</td>\n      <td>Company G</td>\n      <td>2024-02-09</td>\n    </tr>\n    <tr>\n      <th>7</th>\n      <td>8</td>\n      <td>Machine Learning Engineer</td>\n      <td>Company H</td>\n      <td>2024-02-12</td>\n    </tr>\n    <tr>\n      <th>8</th>\n      <td>9</td>\n      <td>Data Scientist</td>\n      <td>Company I</td>\n      <td>2024-02-18</td>\n    </tr>\n    <tr>\n      <th>9</th>\n      <td>10</td>\n      <td>Data Engineer</td>\n      <td>Company J</td>\n      <td>2024-02-22</td>\n    </tr>\n  </tbody>\n</table>\n</div>"
     },
     "execution_count": 6,
     "metadata": {},
     "output_type": "execute_result"
    }
   ],
   "source": [
    "pd.concat([job_postings_jan, job_postings_feb], ignore_index=True)"
   ],
   "metadata": {
    "collapsed": false,
    "ExecuteTime": {
     "end_time": "2024-06-11T12:37:02.444979Z",
     "start_time": "2024-06-11T12:37:02.432628Z"
    }
   },
   "id": "cedded5dba1728de"
  },
  {
   "cell_type": "code",
   "execution_count": 7,
   "outputs": [
    {
     "data": {
      "text/plain": "             job_title_short  \\\n0       Senior Data Engineer   \n1               Data Analyst   \n2              Data Engineer   \n3              Data Engineer   \n4              Data Engineer   \n...                      ...   \n785736     Software Engineer   \n785737          Data Analyst   \n785738      Business Analyst   \n785739         Data Engineer   \n785740     Software Engineer   \n\n                                                job_title  \\\n0       Senior Clinical Data Engineer / Principal Clin...   \n1                                            Data Analyst   \n2       Data Engineer/Scientist/Analyst, Mid or Senior...   \n3       LEAD ENGINEER - PRINCIPAL ANALYST - PRINCIPAL ...   \n4                                  Data Engineer- Sr Jobs   \n...                                                   ...   \n785736                                    DevOps Engineer   \n785737                                   CRM Data Analyst   \n785738                     Commercial Analyst - Start Now   \n785739  Principal Associate, Data Engineer (Remote-Eli...   \n785740                                 AWS System Analyst   \n\n                               job_location                    job_via  \\\n0                             Watertown, CT            via Work Nearby   \n1              Guadalajara, Jalisco, Mexico           via BeBee México   \n2                           Berlin, Germany               via LinkedIn   \n3                           San Antonio, TX          via Diversity.com   \n4                            Washington, DC         via Clearance Jobs   \n...                                     ...                        ...   \n785736                            Singapura        melalui Trabajo.org   \n785737                   Bad Rodach, Jerman  melalui BeBee Deutschland   \n785738                             Malaysia           melalui Ricebowl   \n785739  Newark, New Jersey, Amerika Serikat        melalui Recruit.net   \n785740                                India             melalui Trigyn   \n\n       job_schedule_type  job_work_from_home       search_location  \\\n0              Full-time               False  Texas, United States   \n1              Full-time               False                Mexico   \n2              Full-time               False               Germany   \n3              Full-time               False  Texas, United States   \n4              Full-time               False                 Sudan   \n...                  ...                 ...                   ...   \n785736   Pekerjaan tetap               False             Singapore   \n785737   Pekerjaan tetap               False               Germany   \n785738   Pekerjaan tetap               False              Malaysia   \n785739   Pekerjaan tetap               False                 Sudan   \n785740   Pekerjaan tetap               False                 India   \n\n           job_posted_date  job_no_degree_mention  job_health_insurance  \\\n0      2023-06-16 13:44:15                  False                 False   \n1      2023-01-14 13:18:07                  False                 False   \n2      2023-10-10 13:14:55                  False                 False   \n3      2023-07-04 13:01:41                   True                 False   \n4      2023-08-07 14:29:36                  False                 False   \n...                    ...                    ...                   ...   \n785736 2023-03-13 06:16:16                  False                 False   \n785737 2023-03-12 06:18:18                  False                 False   \n785738 2023-03-12 06:32:36                  False                 False   \n785739 2023-03-12 06:32:15                  False                 False   \n785740 2023-03-13 06:16:31                  False                 False   \n\n          job_country salary_rate  salary_year_avg  salary_hour_avg  \\\n0       United States        None              NaN              NaN   \n1              Mexico        None              NaN              NaN   \n2             Germany        None              NaN              NaN   \n3       United States        None              NaN              NaN   \n4               Sudan        None              NaN              NaN   \n...               ...         ...              ...              ...   \n785736      Singapore        None              NaN              NaN   \n785737        Germany        None              NaN              NaN   \n785738       Malaysia        None              NaN              NaN   \n785739          Sudan        None              NaN              NaN   \n785740          India        None              NaN              NaN   \n\n                              company_name  \\\n0                     Boehringer Ingelheim   \n1               Hewlett Packard Enterprise   \n2                 ALPHA Augmented Services   \n3             Southwest Research Institute   \n4                          Kristina Daniel   \n...                                    ...   \n785736  CAREERSTAR INTERNATIONAL PTE. LTD.   \n785737                    HABA FAMILYGROUP   \n785738               Lendlease Corporation   \n785739                         Capital One   \n785740                              Trigyn   \n\n                                               job_skills  \\\n0                                                    None   \n1       ['r', 'python', 'sql', 'nosql', 'power bi', 't...   \n2       ['python', 'sql', 'c#', 'azure', 'airflow', 'd...   \n3       ['python', 'c++', 'java', 'matlab', 'aws', 'te...   \n4       ['bash', 'python', 'oracle', 'aws', 'ansible',...   \n...                                                   ...   \n785736  ['bash', 'python', 'perl', 'linux', 'unix', 'k...   \n785737                     ['sas', 'sas', 'sql', 'excel']   \n785738                            ['powerpoint', 'excel']   \n785739  ['python', 'go', 'nosql', 'sql', 'mongo', 'she...   \n785740                                    ['aws', 'flow']   \n\n                                          job_type_skills  \n0                                                    None  \n1       {'analyst_tools': ['power bi', 'tableau'], 'pr...  \n2       {'analyst_tools': ['dax'], 'cloud': ['azure'],...  \n3       {'cloud': ['aws'], 'libraries': ['tensorflow',...  \n4       {'cloud': ['oracle', 'aws'], 'other': ['ansibl...  \n...                                                   ...  \n785736  {'os': ['linux', 'unix'], 'other': ['kubernete...  \n785737  {'analyst_tools': ['sas', 'excel'], 'programmi...  \n785738         {'analyst_tools': ['powerpoint', 'excel']}  \n785739  {'cloud': ['aws', 'snowflake', 'azure', 'redsh...  \n785740              {'cloud': ['aws'], 'other': ['flow']}  \n\n[785741 rows x 17 columns]",
      "text/html": "<div>\n<style scoped>\n    .dataframe tbody tr th:only-of-type {\n        vertical-align: middle;\n    }\n\n    .dataframe tbody tr th {\n        vertical-align: top;\n    }\n\n    .dataframe thead th {\n        text-align: right;\n    }\n</style>\n<table border=\"1\" class=\"dataframe\">\n  <thead>\n    <tr style=\"text-align: right;\">\n      <th></th>\n      <th>job_title_short</th>\n      <th>job_title</th>\n      <th>job_location</th>\n      <th>job_via</th>\n      <th>job_schedule_type</th>\n      <th>job_work_from_home</th>\n      <th>search_location</th>\n      <th>job_posted_date</th>\n      <th>job_no_degree_mention</th>\n      <th>job_health_insurance</th>\n      <th>job_country</th>\n      <th>salary_rate</th>\n      <th>salary_year_avg</th>\n      <th>salary_hour_avg</th>\n      <th>company_name</th>\n      <th>job_skills</th>\n      <th>job_type_skills</th>\n    </tr>\n  </thead>\n  <tbody>\n    <tr>\n      <th>0</th>\n      <td>Senior Data Engineer</td>\n      <td>Senior Clinical Data Engineer / Principal Clin...</td>\n      <td>Watertown, CT</td>\n      <td>via Work Nearby</td>\n      <td>Full-time</td>\n      <td>False</td>\n      <td>Texas, United States</td>\n      <td>2023-06-16 13:44:15</td>\n      <td>False</td>\n      <td>False</td>\n      <td>United States</td>\n      <td>None</td>\n      <td>NaN</td>\n      <td>NaN</td>\n      <td>Boehringer Ingelheim</td>\n      <td>None</td>\n      <td>None</td>\n    </tr>\n    <tr>\n      <th>1</th>\n      <td>Data Analyst</td>\n      <td>Data Analyst</td>\n      <td>Guadalajara, Jalisco, Mexico</td>\n      <td>via BeBee México</td>\n      <td>Full-time</td>\n      <td>False</td>\n      <td>Mexico</td>\n      <td>2023-01-14 13:18:07</td>\n      <td>False</td>\n      <td>False</td>\n      <td>Mexico</td>\n      <td>None</td>\n      <td>NaN</td>\n      <td>NaN</td>\n      <td>Hewlett Packard Enterprise</td>\n      <td>['r', 'python', 'sql', 'nosql', 'power bi', 't...</td>\n      <td>{'analyst_tools': ['power bi', 'tableau'], 'pr...</td>\n    </tr>\n    <tr>\n      <th>2</th>\n      <td>Data Engineer</td>\n      <td>Data Engineer/Scientist/Analyst, Mid or Senior...</td>\n      <td>Berlin, Germany</td>\n      <td>via LinkedIn</td>\n      <td>Full-time</td>\n      <td>False</td>\n      <td>Germany</td>\n      <td>2023-10-10 13:14:55</td>\n      <td>False</td>\n      <td>False</td>\n      <td>Germany</td>\n      <td>None</td>\n      <td>NaN</td>\n      <td>NaN</td>\n      <td>ALPHA Augmented Services</td>\n      <td>['python', 'sql', 'c#', 'azure', 'airflow', 'd...</td>\n      <td>{'analyst_tools': ['dax'], 'cloud': ['azure'],...</td>\n    </tr>\n    <tr>\n      <th>3</th>\n      <td>Data Engineer</td>\n      <td>LEAD ENGINEER - PRINCIPAL ANALYST - PRINCIPAL ...</td>\n      <td>San Antonio, TX</td>\n      <td>via Diversity.com</td>\n      <td>Full-time</td>\n      <td>False</td>\n      <td>Texas, United States</td>\n      <td>2023-07-04 13:01:41</td>\n      <td>True</td>\n      <td>False</td>\n      <td>United States</td>\n      <td>None</td>\n      <td>NaN</td>\n      <td>NaN</td>\n      <td>Southwest Research Institute</td>\n      <td>['python', 'c++', 'java', 'matlab', 'aws', 'te...</td>\n      <td>{'cloud': ['aws'], 'libraries': ['tensorflow',...</td>\n    </tr>\n    <tr>\n      <th>4</th>\n      <td>Data Engineer</td>\n      <td>Data Engineer- Sr Jobs</td>\n      <td>Washington, DC</td>\n      <td>via Clearance Jobs</td>\n      <td>Full-time</td>\n      <td>False</td>\n      <td>Sudan</td>\n      <td>2023-08-07 14:29:36</td>\n      <td>False</td>\n      <td>False</td>\n      <td>Sudan</td>\n      <td>None</td>\n      <td>NaN</td>\n      <td>NaN</td>\n      <td>Kristina Daniel</td>\n      <td>['bash', 'python', 'oracle', 'aws', 'ansible',...</td>\n      <td>{'cloud': ['oracle', 'aws'], 'other': ['ansibl...</td>\n    </tr>\n    <tr>\n      <th>...</th>\n      <td>...</td>\n      <td>...</td>\n      <td>...</td>\n      <td>...</td>\n      <td>...</td>\n      <td>...</td>\n      <td>...</td>\n      <td>...</td>\n      <td>...</td>\n      <td>...</td>\n      <td>...</td>\n      <td>...</td>\n      <td>...</td>\n      <td>...</td>\n      <td>...</td>\n      <td>...</td>\n      <td>...</td>\n    </tr>\n    <tr>\n      <th>785736</th>\n      <td>Software Engineer</td>\n      <td>DevOps Engineer</td>\n      <td>Singapura</td>\n      <td>melalui Trabajo.org</td>\n      <td>Pekerjaan tetap</td>\n      <td>False</td>\n      <td>Singapore</td>\n      <td>2023-03-13 06:16:16</td>\n      <td>False</td>\n      <td>False</td>\n      <td>Singapore</td>\n      <td>None</td>\n      <td>NaN</td>\n      <td>NaN</td>\n      <td>CAREERSTAR INTERNATIONAL PTE. LTD.</td>\n      <td>['bash', 'python', 'perl', 'linux', 'unix', 'k...</td>\n      <td>{'os': ['linux', 'unix'], 'other': ['kubernete...</td>\n    </tr>\n    <tr>\n      <th>785737</th>\n      <td>Data Analyst</td>\n      <td>CRM Data Analyst</td>\n      <td>Bad Rodach, Jerman</td>\n      <td>melalui BeBee Deutschland</td>\n      <td>Pekerjaan tetap</td>\n      <td>False</td>\n      <td>Germany</td>\n      <td>2023-03-12 06:18:18</td>\n      <td>False</td>\n      <td>False</td>\n      <td>Germany</td>\n      <td>None</td>\n      <td>NaN</td>\n      <td>NaN</td>\n      <td>HABA FAMILYGROUP</td>\n      <td>['sas', 'sas', 'sql', 'excel']</td>\n      <td>{'analyst_tools': ['sas', 'excel'], 'programmi...</td>\n    </tr>\n    <tr>\n      <th>785738</th>\n      <td>Business Analyst</td>\n      <td>Commercial Analyst - Start Now</td>\n      <td>Malaysia</td>\n      <td>melalui Ricebowl</td>\n      <td>Pekerjaan tetap</td>\n      <td>False</td>\n      <td>Malaysia</td>\n      <td>2023-03-12 06:32:36</td>\n      <td>False</td>\n      <td>False</td>\n      <td>Malaysia</td>\n      <td>None</td>\n      <td>NaN</td>\n      <td>NaN</td>\n      <td>Lendlease Corporation</td>\n      <td>['powerpoint', 'excel']</td>\n      <td>{'analyst_tools': ['powerpoint', 'excel']}</td>\n    </tr>\n    <tr>\n      <th>785739</th>\n      <td>Data Engineer</td>\n      <td>Principal Associate, Data Engineer (Remote-Eli...</td>\n      <td>Newark, New Jersey, Amerika Serikat</td>\n      <td>melalui Recruit.net</td>\n      <td>Pekerjaan tetap</td>\n      <td>False</td>\n      <td>Sudan</td>\n      <td>2023-03-12 06:32:15</td>\n      <td>False</td>\n      <td>False</td>\n      <td>Sudan</td>\n      <td>None</td>\n      <td>NaN</td>\n      <td>NaN</td>\n      <td>Capital One</td>\n      <td>['python', 'go', 'nosql', 'sql', 'mongo', 'she...</td>\n      <td>{'cloud': ['aws', 'snowflake', 'azure', 'redsh...</td>\n    </tr>\n    <tr>\n      <th>785740</th>\n      <td>Software Engineer</td>\n      <td>AWS System Analyst</td>\n      <td>India</td>\n      <td>melalui Trigyn</td>\n      <td>Pekerjaan tetap</td>\n      <td>False</td>\n      <td>India</td>\n      <td>2023-03-13 06:16:31</td>\n      <td>False</td>\n      <td>False</td>\n      <td>India</td>\n      <td>None</td>\n      <td>NaN</td>\n      <td>NaN</td>\n      <td>Trigyn</td>\n      <td>['aws', 'flow']</td>\n      <td>{'cloud': ['aws'], 'other': ['flow']}</td>\n    </tr>\n  </tbody>\n</table>\n<p>785741 rows × 17 columns</p>\n</div>"
     },
     "execution_count": 7,
     "metadata": {},
     "output_type": "execute_result"
    }
   ],
   "source": [
    "df"
   ],
   "metadata": {
    "collapsed": false,
    "ExecuteTime": {
     "end_time": "2024-06-11T12:37:10.154016Z",
     "start_time": "2024-06-11T12:37:10.130065Z"
    }
   },
   "id": "785d28790575a092"
  },
  {
   "cell_type": "code",
   "execution_count": null,
   "outputs": [],
   "source": [],
   "metadata": {
    "collapsed": false
   },
   "id": "2cde310ba9903cad"
  }
 ],
 "metadata": {
  "kernelspec": {
   "display_name": "Python 3",
   "language": "python",
   "name": "python3"
  },
  "language_info": {
   "codemirror_mode": {
    "name": "ipython",
    "version": 2
   },
   "file_extension": ".py",
   "mimetype": "text/x-python",
   "name": "python",
   "nbconvert_exporter": "python",
   "pygments_lexer": "ipython2",
   "version": "2.7.6"
  }
 },
 "nbformat": 4,
 "nbformat_minor": 5
}
