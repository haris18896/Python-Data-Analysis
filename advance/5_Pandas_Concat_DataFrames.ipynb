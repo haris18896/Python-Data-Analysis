{
 "cells": [
  {
   "cell_type": "markdown",
   "source": [
    "# Pandas : Concat DataFrames"
   ],
   "metadata": {
    "collapsed": false
   },
   "id": "45f6daa1e1c65127"
  },
  {
   "cell_type": "code",
   "execution_count": 2,
   "id": "initial_id",
   "metadata": {
    "collapsed": true,
    "ExecuteTime": {
     "end_time": "2024-06-11T12:36:11.856579Z",
     "start_time": "2024-06-11T12:35:56.324933Z"
    }
   },
   "outputs": [],
   "source": [
    "import pandas as pd\n",
    "from datasets import load_dataset\n",
    "import matplotlib.pyplot as plt  \n",
    "\n",
    "# Loading Data\n",
    "dataset = load_dataset('lukebarousse/data_jobs')\n",
    "df = dataset['train'].to_pandas()\n",
    "\n",
    "# Data Cleanup\n",
    "df['job_posted_date'] = pd.to_datetime(df['job_posted_date'])"
   ]
  },
  {
   "cell_type": "markdown",
   "source": [
    "## Notes\n",
    "\n",
    "* `concat()`: Combine DataFrames by rows (axis = 0) or columns (axis=1). \n",
    "* Sticks the DataFrames together without using any keys. "
   ],
   "metadata": {
    "collapsed": false
   },
   "id": "abb7079efb3204f3"
  },
  {
   "cell_type": "code",
   "execution_count": 3,
   "outputs": [
    {
     "data": {
      "text/plain": "   job_id                  job_title    company job_posted_date\n0       1             Data Scientist  Company A      2024-01-02\n1       2               Data Analyst  Company B      2024-01-07\n2       3  Machine Learning Engineer  Company C      2024-01-14\n3       4             Data Scientist  Company D      2024-01-19\n4       5              Data Engineer  Company E      2024-01-24",
      "text/html": "<div>\n<style scoped>\n    .dataframe tbody tr th:only-of-type {\n        vertical-align: middle;\n    }\n\n    .dataframe tbody tr th {\n        vertical-align: top;\n    }\n\n    .dataframe thead th {\n        text-align: right;\n    }\n</style>\n<table border=\"1\" class=\"dataframe\">\n  <thead>\n    <tr style=\"text-align: right;\">\n      <th></th>\n      <th>job_id</th>\n      <th>job_title</th>\n      <th>company</th>\n      <th>job_posted_date</th>\n    </tr>\n  </thead>\n  <tbody>\n    <tr>\n      <th>0</th>\n      <td>1</td>\n      <td>Data Scientist</td>\n      <td>Company A</td>\n      <td>2024-01-02</td>\n    </tr>\n    <tr>\n      <th>1</th>\n      <td>2</td>\n      <td>Data Analyst</td>\n      <td>Company B</td>\n      <td>2024-01-07</td>\n    </tr>\n    <tr>\n      <th>2</th>\n      <td>3</td>\n      <td>Machine Learning Engineer</td>\n      <td>Company C</td>\n      <td>2024-01-14</td>\n    </tr>\n    <tr>\n      <th>3</th>\n      <td>4</td>\n      <td>Data Scientist</td>\n      <td>Company D</td>\n      <td>2024-01-19</td>\n    </tr>\n    <tr>\n      <th>4</th>\n      <td>5</td>\n      <td>Data Engineer</td>\n      <td>Company E</td>\n      <td>2024-01-24</td>\n    </tr>\n  </tbody>\n</table>\n</div>"
     },
     "execution_count": 3,
     "metadata": {},
     "output_type": "execute_result"
    }
   ],
   "source": [
    "# Sample dataset of job postings in January\n",
    "job_postings_jan = pd.DataFrame({\n",
    "    'job_id': [1, 2, 3, 4, 5],\n",
    "    'job_title': ['Data Scientist', 'Data Analyst', 'Machine Learning Engineer', 'Data Scientist', 'Data Engineer'],\n",
    "    'company': ['Company A', 'Company B', 'Company C', 'Company D', 'Company E'],\n",
    "    'job_posted_date': pd.to_datetime(['2024-01-02', '2024-01-07', '2024-01-14', '2024-01-19', '2024-01-24'])\n",
    "})\n",
    "\n",
    "job_postings_jan"
   ],
   "metadata": {
    "collapsed": false,
    "ExecuteTime": {
     "end_time": "2024-06-11T12:36:26.462565Z",
     "start_time": "2024-06-11T12:36:26.452596Z"
    }
   },
   "id": "ad957712e8edcd71"
  },
  {
   "cell_type": "code",
   "execution_count": 4,
   "outputs": [
    {
     "data": {
      "text/plain": "   job_id                  job_title    company job_posted_date\n0       6             Data Scientist  Company F      2024-02-05\n1       7               Data Analyst  Company G      2024-02-09\n2       8  Machine Learning Engineer  Company H      2024-02-12\n3       9             Data Scientist  Company I      2024-02-18\n4      10              Data Engineer  Company J      2024-02-22",
      "text/html": "<div>\n<style scoped>\n    .dataframe tbody tr th:only-of-type {\n        vertical-align: middle;\n    }\n\n    .dataframe tbody tr th {\n        vertical-align: top;\n    }\n\n    .dataframe thead th {\n        text-align: right;\n    }\n</style>\n<table border=\"1\" class=\"dataframe\">\n  <thead>\n    <tr style=\"text-align: right;\">\n      <th></th>\n      <th>job_id</th>\n      <th>job_title</th>\n      <th>company</th>\n      <th>job_posted_date</th>\n    </tr>\n  </thead>\n  <tbody>\n    <tr>\n      <th>0</th>\n      <td>6</td>\n      <td>Data Scientist</td>\n      <td>Company F</td>\n      <td>2024-02-05</td>\n    </tr>\n    <tr>\n      <th>1</th>\n      <td>7</td>\n      <td>Data Analyst</td>\n      <td>Company G</td>\n      <td>2024-02-09</td>\n    </tr>\n    <tr>\n      <th>2</th>\n      <td>8</td>\n      <td>Machine Learning Engineer</td>\n      <td>Company H</td>\n      <td>2024-02-12</td>\n    </tr>\n    <tr>\n      <th>3</th>\n      <td>9</td>\n      <td>Data Scientist</td>\n      <td>Company I</td>\n      <td>2024-02-18</td>\n    </tr>\n    <tr>\n      <th>4</th>\n      <td>10</td>\n      <td>Data Engineer</td>\n      <td>Company J</td>\n      <td>2024-02-22</td>\n    </tr>\n  </tbody>\n</table>\n</div>"
     },
     "execution_count": 4,
     "metadata": {},
     "output_type": "execute_result"
    }
   ],
   "source": [
    "# Sample dataset of job postings in February\n",
    "job_postings_feb = pd.DataFrame({\n",
    "    'job_id': [6, 7, 8, 9, 10],\n",
    "    'job_title': ['Data Scientist', 'Data Analyst', 'Machine Learning Engineer', 'Data Scientist', 'Data Engineer'],\n",
    "    'company': ['Company F', 'Company G', 'Company H', 'Company I', 'Company J'],\n",
    "    'job_posted_date': pd.to_datetime(['2024-02-05', '2024-02-09', '2024-02-12', '2024-02-18', '2024-02-22'])\n",
    "})\n",
    "\n",
    "job_postings_feb"
   ],
   "metadata": {
    "collapsed": false,
    "ExecuteTime": {
     "end_time": "2024-06-11T12:36:32.129438Z",
     "start_time": "2024-06-11T12:36:32.123816Z"
    }
   },
   "id": "1cbb9b4deb34858"
  },
  {
   "cell_type": "code",
   "execution_count": 5,
   "outputs": [
    {
     "data": {
      "text/plain": "   job_id                  job_title    company job_posted_date\n0       1             Data Scientist  Company A      2024-01-02\n1       2               Data Analyst  Company B      2024-01-07\n2       3  Machine Learning Engineer  Company C      2024-01-14\n3       4             Data Scientist  Company D      2024-01-19\n4       5              Data Engineer  Company E      2024-01-24\n0       6             Data Scientist  Company F      2024-02-05\n1       7               Data Analyst  Company G      2024-02-09\n2       8  Machine Learning Engineer  Company H      2024-02-12\n3       9             Data Scientist  Company I      2024-02-18\n4      10              Data Engineer  Company J      2024-02-22",
      "text/html": "<div>\n<style scoped>\n    .dataframe tbody tr th:only-of-type {\n        vertical-align: middle;\n    }\n\n    .dataframe tbody tr th {\n        vertical-align: top;\n    }\n\n    .dataframe thead th {\n        text-align: right;\n    }\n</style>\n<table border=\"1\" class=\"dataframe\">\n  <thead>\n    <tr style=\"text-align: right;\">\n      <th></th>\n      <th>job_id</th>\n      <th>job_title</th>\n      <th>company</th>\n      <th>job_posted_date</th>\n    </tr>\n  </thead>\n  <tbody>\n    <tr>\n      <th>0</th>\n      <td>1</td>\n      <td>Data Scientist</td>\n      <td>Company A</td>\n      <td>2024-01-02</td>\n    </tr>\n    <tr>\n      <th>1</th>\n      <td>2</td>\n      <td>Data Analyst</td>\n      <td>Company B</td>\n      <td>2024-01-07</td>\n    </tr>\n    <tr>\n      <th>2</th>\n      <td>3</td>\n      <td>Machine Learning Engineer</td>\n      <td>Company C</td>\n      <td>2024-01-14</td>\n    </tr>\n    <tr>\n      <th>3</th>\n      <td>4</td>\n      <td>Data Scientist</td>\n      <td>Company D</td>\n      <td>2024-01-19</td>\n    </tr>\n    <tr>\n      <th>4</th>\n      <td>5</td>\n      <td>Data Engineer</td>\n      <td>Company E</td>\n      <td>2024-01-24</td>\n    </tr>\n    <tr>\n      <th>0</th>\n      <td>6</td>\n      <td>Data Scientist</td>\n      <td>Company F</td>\n      <td>2024-02-05</td>\n    </tr>\n    <tr>\n      <th>1</th>\n      <td>7</td>\n      <td>Data Analyst</td>\n      <td>Company G</td>\n      <td>2024-02-09</td>\n    </tr>\n    <tr>\n      <th>2</th>\n      <td>8</td>\n      <td>Machine Learning Engineer</td>\n      <td>Company H</td>\n      <td>2024-02-12</td>\n    </tr>\n    <tr>\n      <th>3</th>\n      <td>9</td>\n      <td>Data Scientist</td>\n      <td>Company I</td>\n      <td>2024-02-18</td>\n    </tr>\n    <tr>\n      <th>4</th>\n      <td>10</td>\n      <td>Data Engineer</td>\n      <td>Company J</td>\n      <td>2024-02-22</td>\n    </tr>\n  </tbody>\n</table>\n</div>"
     },
     "execution_count": 5,
     "metadata": {},
     "output_type": "execute_result"
    }
   ],
   "source": [
    "pd.concat([job_postings_jan, job_postings_feb])"
   ],
   "metadata": {
    "collapsed": false,
    "ExecuteTime": {
     "end_time": "2024-06-11T12:36:46.293066Z",
     "start_time": "2024-06-11T12:36:46.287772Z"
    }
   },
   "id": "fc230f38f9b16ab"
  },
  {
   "cell_type": "code",
   "execution_count": 6,
   "outputs": [
    {
     "data": {
      "text/plain": "   job_id                  job_title    company job_posted_date\n0       1             Data Scientist  Company A      2024-01-02\n1       2               Data Analyst  Company B      2024-01-07\n2       3  Machine Learning Engineer  Company C      2024-01-14\n3       4             Data Scientist  Company D      2024-01-19\n4       5              Data Engineer  Company E      2024-01-24\n5       6             Data Scientist  Company F      2024-02-05\n6       7               Data Analyst  Company G      2024-02-09\n7       8  Machine Learning Engineer  Company H      2024-02-12\n8       9             Data Scientist  Company I      2024-02-18\n9      10              Data Engineer  Company J      2024-02-22",
      "text/html": "<div>\n<style scoped>\n    .dataframe tbody tr th:only-of-type {\n        vertical-align: middle;\n    }\n\n    .dataframe tbody tr th {\n        vertical-align: top;\n    }\n\n    .dataframe thead th {\n        text-align: right;\n    }\n</style>\n<table border=\"1\" class=\"dataframe\">\n  <thead>\n    <tr style=\"text-align: right;\">\n      <th></th>\n      <th>job_id</th>\n      <th>job_title</th>\n      <th>company</th>\n      <th>job_posted_date</th>\n    </tr>\n  </thead>\n  <tbody>\n    <tr>\n      <th>0</th>\n      <td>1</td>\n      <td>Data Scientist</td>\n      <td>Company A</td>\n      <td>2024-01-02</td>\n    </tr>\n    <tr>\n      <th>1</th>\n      <td>2</td>\n      <td>Data Analyst</td>\n      <td>Company B</td>\n      <td>2024-01-07</td>\n    </tr>\n    <tr>\n      <th>2</th>\n      <td>3</td>\n      <td>Machine Learning Engineer</td>\n      <td>Company C</td>\n      <td>2024-01-14</td>\n    </tr>\n    <tr>\n      <th>3</th>\n      <td>4</td>\n      <td>Data Scientist</td>\n      <td>Company D</td>\n      <td>2024-01-19</td>\n    </tr>\n    <tr>\n      <th>4</th>\n      <td>5</td>\n      <td>Data Engineer</td>\n      <td>Company E</td>\n      <td>2024-01-24</td>\n    </tr>\n    <tr>\n      <th>5</th>\n      <td>6</td>\n      <td>Data Scientist</td>\n      <td>Company F</td>\n      <td>2024-02-05</td>\n    </tr>\n    <tr>\n      <th>6</th>\n      <td>7</td>\n      <td>Data Analyst</td>\n      <td>Company G</td>\n      <td>2024-02-09</td>\n    </tr>\n    <tr>\n      <th>7</th>\n      <td>8</td>\n      <td>Machine Learning Engineer</td>\n      <td>Company H</td>\n      <td>2024-02-12</td>\n    </tr>\n    <tr>\n      <th>8</th>\n      <td>9</td>\n      <td>Data Scientist</td>\n      <td>Company I</td>\n      <td>2024-02-18</td>\n    </tr>\n    <tr>\n      <th>9</th>\n      <td>10</td>\n      <td>Data Engineer</td>\n      <td>Company J</td>\n      <td>2024-02-22</td>\n    </tr>\n  </tbody>\n</table>\n</div>"
     },
     "execution_count": 6,
     "metadata": {},
     "output_type": "execute_result"
    }
   ],
   "source": [
    "pd.concat([job_postings_jan, job_postings_feb], ignore_index=True)"
   ],
   "metadata": {
    "collapsed": false,
    "ExecuteTime": {
     "end_time": "2024-06-11T12:37:02.444979Z",
     "start_time": "2024-06-11T12:37:02.432628Z"
    }
   },
   "id": "cedded5dba1728de"
  },
  {
   "cell_type": "code",
   "execution_count": 7,
   "outputs": [
    {
     "data": {
      "text/plain": "             job_title_short  \\\n0       Senior Data Engineer   \n1               Data Analyst   \n2              Data Engineer   \n3              Data Engineer   \n4              Data Engineer   \n...                      ...   \n785736     Software Engineer   \n785737          Data Analyst   \n785738      Business Analyst   \n785739         Data Engineer   \n785740     Software Engineer   \n\n                                                job_title  \\\n0       Senior Clinical Data Engineer / Principal Clin...   \n1                                            Data Analyst   \n2       Data Engineer/Scientist/Analyst, Mid or Senior...   \n3       LEAD ENGINEER - PRINCIPAL ANALYST - PRINCIPAL ...   \n4                                  Data Engineer- Sr Jobs   \n...                                                   ...   \n785736                                    DevOps Engineer   \n785737                                   CRM Data Analyst   \n785738                     Commercial Analyst - Start Now   \n785739  Principal Associate, Data Engineer (Remote-Eli...   \n785740                                 AWS System Analyst   \n\n                               job_location                    job_via  \\\n0                             Watertown, CT            via Work Nearby   \n1              Guadalajara, Jalisco, Mexico           via BeBee México   \n2                           Berlin, Germany               via LinkedIn   \n3                           San Antonio, TX          via Diversity.com   \n4                            Washington, DC         via Clearance Jobs   \n...                                     ...                        ...   \n785736                            Singapura        melalui Trabajo.org   \n785737                   Bad Rodach, Jerman  melalui BeBee Deutschland   \n785738                             Malaysia           melalui Ricebowl   \n785739  Newark, New Jersey, Amerika Serikat        melalui Recruit.net   \n785740                                India             melalui Trigyn   \n\n       job_schedule_type  job_work_from_home       search_location  \\\n0              Full-time               False  Texas, United States   \n1              Full-time               False                Mexico   \n2              Full-time               False               Germany   \n3              Full-time               False  Texas, United States   \n4              Full-time               False                 Sudan   \n...                  ...                 ...                   ...   \n785736   Pekerjaan tetap               False             Singapore   \n785737   Pekerjaan tetap               False               Germany   \n785738   Pekerjaan tetap               False              Malaysia   \n785739   Pekerjaan tetap               False                 Sudan   \n785740   Pekerjaan tetap               False                 India   \n\n           job_posted_date  job_no_degree_mention  job_health_insurance  \\\n0      2023-06-16 13:44:15                  False                 False   \n1      2023-01-14 13:18:07                  False                 False   \n2      2023-10-10 13:14:55                  False                 False   \n3      2023-07-04 13:01:41                   True                 False   \n4      2023-08-07 14:29:36                  False                 False   \n...                    ...                    ...                   ...   \n785736 2023-03-13 06:16:16                  False                 False   \n785737 2023-03-12 06:18:18                  False                 False   \n785738 2023-03-12 06:32:36                  False                 False   \n785739 2023-03-12 06:32:15                  False                 False   \n785740 2023-03-13 06:16:31                  False                 False   \n\n          job_country salary_rate  salary_year_avg  salary_hour_avg  \\\n0       United States        None              NaN              NaN   \n1              Mexico        None              NaN              NaN   \n2             Germany        None              NaN              NaN   \n3       United States        None              NaN              NaN   \n4               Sudan        None              NaN              NaN   \n...               ...         ...              ...              ...   \n785736      Singapore        None              NaN              NaN   \n785737        Germany        None              NaN              NaN   \n785738       Malaysia        None              NaN              NaN   \n785739          Sudan        None              NaN              NaN   \n785740          India        None              NaN              NaN   \n\n                              company_name  \\\n0                     Boehringer Ingelheim   \n1               Hewlett Packard Enterprise   \n2                 ALPHA Augmented Services   \n3             Southwest Research Institute   \n4                          Kristina Daniel   \n...                                    ...   \n785736  CAREERSTAR INTERNATIONAL PTE. LTD.   \n785737                    HABA FAMILYGROUP   \n785738               Lendlease Corporation   \n785739                         Capital One   \n785740                              Trigyn   \n\n                                               job_skills  \\\n0                                                    None   \n1       ['r', 'python', 'sql', 'nosql', 'power bi', 't...   \n2       ['python', 'sql', 'c#', 'azure', 'airflow', 'd...   \n3       ['python', 'c++', 'java', 'matlab', 'aws', 'te...   \n4       ['bash', 'python', 'oracle', 'aws', 'ansible',...   \n...                                                   ...   \n785736  ['bash', 'python', 'perl', 'linux', 'unix', 'k...   \n785737                     ['sas', 'sas', 'sql', 'excel']   \n785738                            ['powerpoint', 'excel']   \n785739  ['python', 'go', 'nosql', 'sql', 'mongo', 'she...   \n785740                                    ['aws', 'flow']   \n\n                                          job_type_skills  \n0                                                    None  \n1       {'analyst_tools': ['power bi', 'tableau'], 'pr...  \n2       {'analyst_tools': ['dax'], 'cloud': ['azure'],...  \n3       {'cloud': ['aws'], 'libraries': ['tensorflow',...  \n4       {'cloud': ['oracle', 'aws'], 'other': ['ansibl...  \n...                                                   ...  \n785736  {'os': ['linux', 'unix'], 'other': ['kubernete...  \n785737  {'analyst_tools': ['sas', 'excel'], 'programmi...  \n785738         {'analyst_tools': ['powerpoint', 'excel']}  \n785739  {'cloud': ['aws', 'snowflake', 'azure', 'redsh...  \n785740              {'cloud': ['aws'], 'other': ['flow']}  \n\n[785741 rows x 17 columns]",
      "text/html": "<div>\n<style scoped>\n    .dataframe tbody tr th:only-of-type {\n        vertical-align: middle;\n    }\n\n    .dataframe tbody tr th {\n        vertical-align: top;\n    }\n\n    .dataframe thead th {\n        text-align: right;\n    }\n</style>\n<table border=\"1\" class=\"dataframe\">\n  <thead>\n    <tr style=\"text-align: right;\">\n      <th></th>\n      <th>job_title_short</th>\n      <th>job_title</th>\n      <th>job_location</th>\n      <th>job_via</th>\n      <th>job_schedule_type</th>\n      <th>job_work_from_home</th>\n      <th>search_location</th>\n      <th>job_posted_date</th>\n      <th>job_no_degree_mention</th>\n      <th>job_health_insurance</th>\n      <th>job_country</th>\n      <th>salary_rate</th>\n      <th>salary_year_avg</th>\n      <th>salary_hour_avg</th>\n      <th>company_name</th>\n      <th>job_skills</th>\n      <th>job_type_skills</th>\n    </tr>\n  </thead>\n  <tbody>\n    <tr>\n      <th>0</th>\n      <td>Senior Data Engineer</td>\n      <td>Senior Clinical Data Engineer / Principal Clin...</td>\n      <td>Watertown, CT</td>\n      <td>via Work Nearby</td>\n      <td>Full-time</td>\n      <td>False</td>\n      <td>Texas, United States</td>\n      <td>2023-06-16 13:44:15</td>\n      <td>False</td>\n      <td>False</td>\n      <td>United States</td>\n      <td>None</td>\n      <td>NaN</td>\n      <td>NaN</td>\n      <td>Boehringer Ingelheim</td>\n      <td>None</td>\n      <td>None</td>\n    </tr>\n    <tr>\n      <th>1</th>\n      <td>Data Analyst</td>\n      <td>Data Analyst</td>\n      <td>Guadalajara, Jalisco, Mexico</td>\n      <td>via BeBee México</td>\n      <td>Full-time</td>\n      <td>False</td>\n      <td>Mexico</td>\n      <td>2023-01-14 13:18:07</td>\n      <td>False</td>\n      <td>False</td>\n      <td>Mexico</td>\n      <td>None</td>\n      <td>NaN</td>\n      <td>NaN</td>\n      <td>Hewlett Packard Enterprise</td>\n      <td>['r', 'python', 'sql', 'nosql', 'power bi', 't...</td>\n      <td>{'analyst_tools': ['power bi', 'tableau'], 'pr...</td>\n    </tr>\n    <tr>\n      <th>2</th>\n      <td>Data Engineer</td>\n      <td>Data Engineer/Scientist/Analyst, Mid or Senior...</td>\n      <td>Berlin, Germany</td>\n      <td>via LinkedIn</td>\n      <td>Full-time</td>\n      <td>False</td>\n      <td>Germany</td>\n      <td>2023-10-10 13:14:55</td>\n      <td>False</td>\n      <td>False</td>\n      <td>Germany</td>\n      <td>None</td>\n      <td>NaN</td>\n      <td>NaN</td>\n      <td>ALPHA Augmented Services</td>\n      <td>['python', 'sql', 'c#', 'azure', 'airflow', 'd...</td>\n      <td>{'analyst_tools': ['dax'], 'cloud': ['azure'],...</td>\n    </tr>\n    <tr>\n      <th>3</th>\n      <td>Data Engineer</td>\n      <td>LEAD ENGINEER - PRINCIPAL ANALYST - PRINCIPAL ...</td>\n      <td>San Antonio, TX</td>\n      <td>via Diversity.com</td>\n      <td>Full-time</td>\n      <td>False</td>\n      <td>Texas, United States</td>\n      <td>2023-07-04 13:01:41</td>\n      <td>True</td>\n      <td>False</td>\n      <td>United States</td>\n      <td>None</td>\n      <td>NaN</td>\n      <td>NaN</td>\n      <td>Southwest Research Institute</td>\n      <td>['python', 'c++', 'java', 'matlab', 'aws', 'te...</td>\n      <td>{'cloud': ['aws'], 'libraries': ['tensorflow',...</td>\n    </tr>\n    <tr>\n      <th>4</th>\n      <td>Data Engineer</td>\n      <td>Data Engineer- Sr Jobs</td>\n      <td>Washington, DC</td>\n      <td>via Clearance Jobs</td>\n      <td>Full-time</td>\n      <td>False</td>\n      <td>Sudan</td>\n      <td>2023-08-07 14:29:36</td>\n      <td>False</td>\n      <td>False</td>\n      <td>Sudan</td>\n      <td>None</td>\n      <td>NaN</td>\n      <td>NaN</td>\n      <td>Kristina Daniel</td>\n      <td>['bash', 'python', 'oracle', 'aws', 'ansible',...</td>\n      <td>{'cloud': ['oracle', 'aws'], 'other': ['ansibl...</td>\n    </tr>\n    <tr>\n      <th>...</th>\n      <td>...</td>\n      <td>...</td>\n      <td>...</td>\n      <td>...</td>\n      <td>...</td>\n      <td>...</td>\n      <td>...</td>\n      <td>...</td>\n      <td>...</td>\n      <td>...</td>\n      <td>...</td>\n      <td>...</td>\n      <td>...</td>\n      <td>...</td>\n      <td>...</td>\n      <td>...</td>\n      <td>...</td>\n    </tr>\n    <tr>\n      <th>785736</th>\n      <td>Software Engineer</td>\n      <td>DevOps Engineer</td>\n      <td>Singapura</td>\n      <td>melalui Trabajo.org</td>\n      <td>Pekerjaan tetap</td>\n      <td>False</td>\n      <td>Singapore</td>\n      <td>2023-03-13 06:16:16</td>\n      <td>False</td>\n      <td>False</td>\n      <td>Singapore</td>\n      <td>None</td>\n      <td>NaN</td>\n      <td>NaN</td>\n      <td>CAREERSTAR INTERNATIONAL PTE. LTD.</td>\n      <td>['bash', 'python', 'perl', 'linux', 'unix', 'k...</td>\n      <td>{'os': ['linux', 'unix'], 'other': ['kubernete...</td>\n    </tr>\n    <tr>\n      <th>785737</th>\n      <td>Data Analyst</td>\n      <td>CRM Data Analyst</td>\n      <td>Bad Rodach, Jerman</td>\n      <td>melalui BeBee Deutschland</td>\n      <td>Pekerjaan tetap</td>\n      <td>False</td>\n      <td>Germany</td>\n      <td>2023-03-12 06:18:18</td>\n      <td>False</td>\n      <td>False</td>\n      <td>Germany</td>\n      <td>None</td>\n      <td>NaN</td>\n      <td>NaN</td>\n      <td>HABA FAMILYGROUP</td>\n      <td>['sas', 'sas', 'sql', 'excel']</td>\n      <td>{'analyst_tools': ['sas', 'excel'], 'programmi...</td>\n    </tr>\n    <tr>\n      <th>785738</th>\n      <td>Business Analyst</td>\n      <td>Commercial Analyst - Start Now</td>\n      <td>Malaysia</td>\n      <td>melalui Ricebowl</td>\n      <td>Pekerjaan tetap</td>\n      <td>False</td>\n      <td>Malaysia</td>\n      <td>2023-03-12 06:32:36</td>\n      <td>False</td>\n      <td>False</td>\n      <td>Malaysia</td>\n      <td>None</td>\n      <td>NaN</td>\n      <td>NaN</td>\n      <td>Lendlease Corporation</td>\n      <td>['powerpoint', 'excel']</td>\n      <td>{'analyst_tools': ['powerpoint', 'excel']}</td>\n    </tr>\n    <tr>\n      <th>785739</th>\n      <td>Data Engineer</td>\n      <td>Principal Associate, Data Engineer (Remote-Eli...</td>\n      <td>Newark, New Jersey, Amerika Serikat</td>\n      <td>melalui Recruit.net</td>\n      <td>Pekerjaan tetap</td>\n      <td>False</td>\n      <td>Sudan</td>\n      <td>2023-03-12 06:32:15</td>\n      <td>False</td>\n      <td>False</td>\n      <td>Sudan</td>\n      <td>None</td>\n      <td>NaN</td>\n      <td>NaN</td>\n      <td>Capital One</td>\n      <td>['python', 'go', 'nosql', 'sql', 'mongo', 'she...</td>\n      <td>{'cloud': ['aws', 'snowflake', 'azure', 'redsh...</td>\n    </tr>\n    <tr>\n      <th>785740</th>\n      <td>Software Engineer</td>\n      <td>AWS System Analyst</td>\n      <td>India</td>\n      <td>melalui Trigyn</td>\n      <td>Pekerjaan tetap</td>\n      <td>False</td>\n      <td>India</td>\n      <td>2023-03-13 06:16:31</td>\n      <td>False</td>\n      <td>False</td>\n      <td>India</td>\n      <td>None</td>\n      <td>NaN</td>\n      <td>NaN</td>\n      <td>Trigyn</td>\n      <td>['aws', 'flow']</td>\n      <td>{'cloud': ['aws'], 'other': ['flow']}</td>\n    </tr>\n  </tbody>\n</table>\n<p>785741 rows × 17 columns</p>\n</div>"
     },
     "execution_count": 7,
     "metadata": {},
     "output_type": "execute_result"
    }
   ],
   "source": [
    "df"
   ],
   "metadata": {
    "collapsed": false,
    "ExecuteTime": {
     "end_time": "2024-06-11T12:37:10.154016Z",
     "start_time": "2024-06-11T12:37:10.130065Z"
    }
   },
   "id": "785d28790575a092"
  },
  {
   "cell_type": "markdown",
   "source": [
    "# Exporting\n",
    "\n",
    "* Reading and Writing CSV and Excel Files"
   ],
   "metadata": {
    "collapsed": false
   },
   "id": "d66c90144e7741c1"
  },
  {
   "cell_type": "code",
   "execution_count": 24,
   "outputs": [],
   "source": [
    "df.to_csv('dataframe.csv')"
   ],
   "metadata": {
    "collapsed": false,
    "ExecuteTime": {
     "end_time": "2024-06-11T12:49:52.382111Z",
     "start_time": "2024-06-11T12:49:52.008182Z"
    }
   },
   "id": "2cde310ba9903cad"
  },
  {
   "cell_type": "code",
   "execution_count": 25,
   "outputs": [
    {
     "ename": "AttributeError",
     "evalue": "'DataFrame' object has no attribute 'read_csv'",
     "output_type": "error",
     "traceback": [
      "\u001B[0;31m---------------------------------------------------------------------------\u001B[0m",
      "\u001B[0;31mAttributeError\u001B[0m                            Traceback (most recent call last)",
      "\u001B[0;32m/var/folders/gh/m3cnb0b569s06fb2gf6yt8m80000gn/T/ipykernel_26944/1844022032.py\u001B[0m in \u001B[0;36m?\u001B[0;34m()\u001B[0m\n\u001B[0;32m----> 1\u001B[0;31m \u001B[0mjob_postings_feb\u001B[0m\u001B[0;34m.\u001B[0m\u001B[0mread_csv\u001B[0m\u001B[0;34m(\u001B[0m\u001B[0;34m'dataframe.csv'\u001B[0m\u001B[0;34m)\u001B[0m\u001B[0;34m\u001B[0m\u001B[0;34m\u001B[0m\u001B[0m\n\u001B[0m",
      "\u001B[0;32m/opt/anaconda3/lib/python3.11/site-packages/pandas/core/generic.py\u001B[0m in \u001B[0;36m?\u001B[0;34m(self, name)\u001B[0m\n\u001B[1;32m   6200\u001B[0m             \u001B[0;32mand\u001B[0m \u001B[0mname\u001B[0m \u001B[0;32mnot\u001B[0m \u001B[0;32min\u001B[0m \u001B[0mself\u001B[0m\u001B[0;34m.\u001B[0m\u001B[0m_accessors\u001B[0m\u001B[0;34m\u001B[0m\u001B[0;34m\u001B[0m\u001B[0m\n\u001B[1;32m   6201\u001B[0m             \u001B[0;32mand\u001B[0m \u001B[0mself\u001B[0m\u001B[0;34m.\u001B[0m\u001B[0m_info_axis\u001B[0m\u001B[0;34m.\u001B[0m\u001B[0m_can_hold_identifiers_and_holds_name\u001B[0m\u001B[0;34m(\u001B[0m\u001B[0mname\u001B[0m\u001B[0;34m)\u001B[0m\u001B[0;34m\u001B[0m\u001B[0;34m\u001B[0m\u001B[0m\n\u001B[1;32m   6202\u001B[0m         ):\n\u001B[1;32m   6203\u001B[0m             \u001B[0;32mreturn\u001B[0m \u001B[0mself\u001B[0m\u001B[0;34m[\u001B[0m\u001B[0mname\u001B[0m\u001B[0;34m]\u001B[0m\u001B[0;34m\u001B[0m\u001B[0;34m\u001B[0m\u001B[0m\n\u001B[0;32m-> 6204\u001B[0;31m         \u001B[0;32mreturn\u001B[0m \u001B[0mobject\u001B[0m\u001B[0;34m.\u001B[0m\u001B[0m__getattribute__\u001B[0m\u001B[0;34m(\u001B[0m\u001B[0mself\u001B[0m\u001B[0;34m,\u001B[0m \u001B[0mname\u001B[0m\u001B[0;34m)\u001B[0m\u001B[0;34m\u001B[0m\u001B[0;34m\u001B[0m\u001B[0m\n\u001B[0m",
      "\u001B[0;31mAttributeError\u001B[0m: 'DataFrame' object has no attribute 'read_csv'"
     ]
    }
   ],
   "source": [
    "pd.read_csv('dataframe.csv')"
   ],
   "metadata": {
    "collapsed": false,
    "ExecuteTime": {
     "end_time": "2024-06-11T12:49:55.721429Z",
     "start_time": "2024-06-11T12:49:55.715742Z"
    }
   },
   "id": "cfe1f94c05dec45c"
  },
  {
   "cell_type": "code",
   "execution_count": 22,
   "outputs": [],
   "source": [
    "job_postings_jan.to_excel('dataframe.xlsx')"
   ],
   "metadata": {
    "collapsed": false,
    "ExecuteTime": {
     "end_time": "2024-06-11T12:49:31.098055Z",
     "start_time": "2024-06-11T12:49:31.075597Z"
    }
   },
   "id": "54d27e09cfcce69e"
  },
  {
   "cell_type": "code",
   "execution_count": 26,
   "outputs": [
    {
     "data": {
      "text/plain": "   Unnamed: 0  job_id                  job_title    company job_posted_date\n0           0       1             Data Scientist  Company A      2024-01-02\n1           1       2               Data Analyst  Company B      2024-01-07\n2           2       3  Machine Learning Engineer  Company C      2024-01-14\n3           3       4             Data Scientist  Company D      2024-01-19\n4           4       5              Data Engineer  Company E      2024-01-24",
      "text/html": "<div>\n<style scoped>\n    .dataframe tbody tr th:only-of-type {\n        vertical-align: middle;\n    }\n\n    .dataframe tbody tr th {\n        vertical-align: top;\n    }\n\n    .dataframe thead th {\n        text-align: right;\n    }\n</style>\n<table border=\"1\" class=\"dataframe\">\n  <thead>\n    <tr style=\"text-align: right;\">\n      <th></th>\n      <th>Unnamed: 0</th>\n      <th>job_id</th>\n      <th>job_title</th>\n      <th>company</th>\n      <th>job_posted_date</th>\n    </tr>\n  </thead>\n  <tbody>\n    <tr>\n      <th>0</th>\n      <td>0</td>\n      <td>1</td>\n      <td>Data Scientist</td>\n      <td>Company A</td>\n      <td>2024-01-02</td>\n    </tr>\n    <tr>\n      <th>1</th>\n      <td>1</td>\n      <td>2</td>\n      <td>Data Analyst</td>\n      <td>Company B</td>\n      <td>2024-01-07</td>\n    </tr>\n    <tr>\n      <th>2</th>\n      <td>2</td>\n      <td>3</td>\n      <td>Machine Learning Engineer</td>\n      <td>Company C</td>\n      <td>2024-01-14</td>\n    </tr>\n    <tr>\n      <th>3</th>\n      <td>3</td>\n      <td>4</td>\n      <td>Data Scientist</td>\n      <td>Company D</td>\n      <td>2024-01-19</td>\n    </tr>\n    <tr>\n      <th>4</th>\n      <td>4</td>\n      <td>5</td>\n      <td>Data Engineer</td>\n      <td>Company E</td>\n      <td>2024-01-24</td>\n    </tr>\n  </tbody>\n</table>\n</div>"
     },
     "execution_count": 26,
     "metadata": {},
     "output_type": "execute_result"
    }
   ],
   "source": [
    "pd.read_excel('dataframe.xlsx')"
   ],
   "metadata": {
    "collapsed": false,
    "ExecuteTime": {
     "end_time": "2024-06-11T12:50:04.583880Z",
     "start_time": "2024-06-11T12:50:04.563767Z"
    }
   },
   "id": "89f3e61d8cdd96dc"
  },
  {
   "cell_type": "markdown",
   "source": [
    "# Exporting to\n",
    "* to_sql()\n",
    "* to_parquet()\n",
    "* to_pickle()"
   ],
   "metadata": {
    "collapsed": false
   },
   "id": "d6e0ccbf473980c4"
  },
  {
   "cell_type": "markdown",
   "source": [
    "# to_sql()"
   ],
   "metadata": {
    "collapsed": false
   },
   "id": "1e236ed9fcd02c8f"
  },
  {
   "cell_type": "code",
   "execution_count": 32,
   "outputs": [
    {
     "ename": "ArgumentError",
     "evalue": "Invalid SQLite URL: sqlite://jobs.db\nValid SQLite URL forms are:\n sqlite:///:memory: (or, sqlite://)\n sqlite:///relative/path/to/file.db\n sqlite:////absolute/path/to/file.db",
     "output_type": "error",
     "traceback": [
      "\u001B[0;31m---------------------------------------------------------------------------\u001B[0m",
      "\u001B[0;31mArgumentError\u001B[0m                             Traceback (most recent call last)",
      "Cell \u001B[0;32mIn[32], line 2\u001B[0m\n\u001B[1;32m      1\u001B[0m \u001B[38;5;28;01mfrom\u001B[39;00m \u001B[38;5;21;01msqlalchemy\u001B[39;00m \u001B[38;5;28;01mimport\u001B[39;00m create_engine\n\u001B[0;32m----> 2\u001B[0m engine \u001B[38;5;241m=\u001B[39m create_engine(\u001B[38;5;124m'\u001B[39m\u001B[38;5;124msqlite://jobs.db\u001B[39m\u001B[38;5;124m'\u001B[39m)\n\u001B[1;32m      4\u001B[0m df\u001B[38;5;241m.\u001B[39mto_sql(\u001B[38;5;124m'\u001B[39m\u001B[38;5;124mjobs_table\u001B[39m\u001B[38;5;124m'\u001B[39m, con\u001B[38;5;241m=\u001B[39mengine, if_exist\u001B[38;5;241m=\u001B[39m\u001B[38;5;124m'\u001B[39m\u001B[38;5;124mappend\u001B[39m\u001B[38;5;124m'\u001B[39m, index\u001B[38;5;241m=\u001B[39m\u001B[38;5;28;01mFalse\u001B[39;00m)\n",
      "File \u001B[0;32m<string>:2\u001B[0m, in \u001B[0;36mcreate_engine\u001B[0;34m(url, **kwargs)\u001B[0m\n",
      "File \u001B[0;32m/opt/anaconda3/lib/python3.11/site-packages/sqlalchemy/util/deprecations.py:281\u001B[0m, in \u001B[0;36mdeprecated_params.<locals>.decorate.<locals>.warned\u001B[0;34m(fn, *args, **kwargs)\u001B[0m\n\u001B[1;32m    274\u001B[0m     \u001B[38;5;28;01mif\u001B[39;00m m \u001B[38;5;129;01min\u001B[39;00m kwargs:\n\u001B[1;32m    275\u001B[0m         _warn_with_version(\n\u001B[1;32m    276\u001B[0m             messages[m],\n\u001B[1;32m    277\u001B[0m             versions[m],\n\u001B[1;32m    278\u001B[0m             version_warnings[m],\n\u001B[1;32m    279\u001B[0m             stacklevel\u001B[38;5;241m=\u001B[39m\u001B[38;5;241m3\u001B[39m,\n\u001B[1;32m    280\u001B[0m         )\n\u001B[0;32m--> 281\u001B[0m \u001B[38;5;28;01mreturn\u001B[39;00m fn(\u001B[38;5;241m*\u001B[39margs, \u001B[38;5;241m*\u001B[39m\u001B[38;5;241m*\u001B[39mkwargs)\n",
      "File \u001B[0;32m/opt/anaconda3/lib/python3.11/site-packages/sqlalchemy/engine/create.py:617\u001B[0m, in \u001B[0;36mcreate_engine\u001B[0;34m(url, **kwargs)\u001B[0m\n\u001B[1;32m    614\u001B[0m dialect \u001B[38;5;241m=\u001B[39m dialect_cls(\u001B[38;5;241m*\u001B[39m\u001B[38;5;241m*\u001B[39mdialect_args)\n\u001B[1;32m    616\u001B[0m \u001B[38;5;66;03m# assemble connection arguments\u001B[39;00m\n\u001B[0;32m--> 617\u001B[0m (cargs_tup, cparams) \u001B[38;5;241m=\u001B[39m dialect\u001B[38;5;241m.\u001B[39mcreate_connect_args(u)\n\u001B[1;32m    618\u001B[0m cparams\u001B[38;5;241m.\u001B[39mupdate(pop_kwarg(\u001B[38;5;124m\"\u001B[39m\u001B[38;5;124mconnect_args\u001B[39m\u001B[38;5;124m\"\u001B[39m, {}))\n\u001B[1;32m    620\u001B[0m \u001B[38;5;28;01mif\u001B[39;00m \u001B[38;5;124m\"\u001B[39m\u001B[38;5;124masync_fallback\u001B[39m\u001B[38;5;124m\"\u001B[39m \u001B[38;5;129;01min\u001B[39;00m cparams \u001B[38;5;129;01mand\u001B[39;00m util\u001B[38;5;241m.\u001B[39masbool(cparams[\u001B[38;5;124m\"\u001B[39m\u001B[38;5;124masync_fallback\u001B[39m\u001B[38;5;124m\"\u001B[39m]):\n",
      "File \u001B[0;32m/opt/anaconda3/lib/python3.11/site-packages/sqlalchemy/dialects/sqlite/pysqlite.py:580\u001B[0m, in \u001B[0;36mSQLiteDialect_pysqlite.create_connect_args\u001B[0;34m(self, url)\u001B[0m\n\u001B[1;32m    578\u001B[0m \u001B[38;5;28;01mdef\u001B[39;00m \u001B[38;5;21mcreate_connect_args\u001B[39m(\u001B[38;5;28mself\u001B[39m, url):\n\u001B[1;32m    579\u001B[0m     \u001B[38;5;28;01mif\u001B[39;00m url\u001B[38;5;241m.\u001B[39musername \u001B[38;5;129;01mor\u001B[39;00m url\u001B[38;5;241m.\u001B[39mpassword \u001B[38;5;129;01mor\u001B[39;00m url\u001B[38;5;241m.\u001B[39mhost \u001B[38;5;129;01mor\u001B[39;00m url\u001B[38;5;241m.\u001B[39mport:\n\u001B[0;32m--> 580\u001B[0m         \u001B[38;5;28;01mraise\u001B[39;00m exc\u001B[38;5;241m.\u001B[39mArgumentError(\n\u001B[1;32m    581\u001B[0m             \u001B[38;5;124m\"\u001B[39m\u001B[38;5;124mInvalid SQLite URL: \u001B[39m\u001B[38;5;132;01m%s\u001B[39;00m\u001B[38;5;130;01m\\n\u001B[39;00m\u001B[38;5;124m\"\u001B[39m\n\u001B[1;32m    582\u001B[0m             \u001B[38;5;124m\"\u001B[39m\u001B[38;5;124mValid SQLite URL forms are:\u001B[39m\u001B[38;5;130;01m\\n\u001B[39;00m\u001B[38;5;124m\"\u001B[39m\n\u001B[1;32m    583\u001B[0m             \u001B[38;5;124m\"\u001B[39m\u001B[38;5;124m sqlite:///:memory: (or, sqlite://)\u001B[39m\u001B[38;5;130;01m\\n\u001B[39;00m\u001B[38;5;124m\"\u001B[39m\n\u001B[1;32m    584\u001B[0m             \u001B[38;5;124m\"\u001B[39m\u001B[38;5;124m sqlite:///relative/path/to/file.db\u001B[39m\u001B[38;5;130;01m\\n\u001B[39;00m\u001B[38;5;124m\"\u001B[39m\n\u001B[1;32m    585\u001B[0m             \u001B[38;5;124m\"\u001B[39m\u001B[38;5;124m sqlite:////absolute/path/to/file.db\u001B[39m\u001B[38;5;124m\"\u001B[39m \u001B[38;5;241m%\u001B[39m (url,)\n\u001B[1;32m    586\u001B[0m         )\n\u001B[1;32m    588\u001B[0m     \u001B[38;5;66;03m# theoretically, this list can be augmented, at least as far as\u001B[39;00m\n\u001B[1;32m    589\u001B[0m     \u001B[38;5;66;03m# parameter names accepted by sqlite3/pysqlite, using\u001B[39;00m\n\u001B[1;32m    590\u001B[0m     \u001B[38;5;66;03m# inspect.getfullargspec().  for the moment this seems like overkill\u001B[39;00m\n\u001B[1;32m    591\u001B[0m     \u001B[38;5;66;03m# as these parameters don't change very often, and as always,\u001B[39;00m\n\u001B[1;32m    592\u001B[0m     \u001B[38;5;66;03m# parameters passed to connect_args will always go to the\u001B[39;00m\n\u001B[1;32m    593\u001B[0m     \u001B[38;5;66;03m# sqlite3/pysqlite driver.\u001B[39;00m\n\u001B[1;32m    594\u001B[0m     pysqlite_args \u001B[38;5;241m=\u001B[39m [\n\u001B[1;32m    595\u001B[0m         (\u001B[38;5;124m\"\u001B[39m\u001B[38;5;124muri\u001B[39m\u001B[38;5;124m\"\u001B[39m, \u001B[38;5;28mbool\u001B[39m),\n\u001B[1;32m    596\u001B[0m         (\u001B[38;5;124m\"\u001B[39m\u001B[38;5;124mtimeout\u001B[39m\u001B[38;5;124m\"\u001B[39m, \u001B[38;5;28mfloat\u001B[39m),\n\u001B[0;32m   (...)\u001B[0m\n\u001B[1;32m    600\u001B[0m         (\u001B[38;5;124m\"\u001B[39m\u001B[38;5;124mcached_statements\u001B[39m\u001B[38;5;124m\"\u001B[39m, \u001B[38;5;28mint\u001B[39m),\n\u001B[1;32m    601\u001B[0m     ]\n",
      "\u001B[0;31mArgumentError\u001B[0m: Invalid SQLite URL: sqlite://jobs.db\nValid SQLite URL forms are:\n sqlite:///:memory: (or, sqlite://)\n sqlite:///relative/path/to/file.db\n sqlite:////absolute/path/to/file.db"
     ]
    }
   ],
   "source": [
    "from sqlalchemy import create_engine\n",
    "engine = create_engine('sqlite://jobs.db')\n",
    "\n",
    "df.to_sql('jobs_table', con=engine, if_exist='append', index=False)"
   ],
   "metadata": {
    "collapsed": false,
    "ExecuteTime": {
     "end_time": "2024-06-11T12:51:36.379677Z",
     "start_time": "2024-06-11T12:51:36.228151Z"
    }
   },
   "id": "9d7748e2e826abb7"
  },
  {
   "cell_type": "markdown",
   "source": [
    "# to_parquet()"
   ],
   "metadata": {
    "collapsed": false
   },
   "id": "606a3916c91c7942"
  },
  {
   "cell_type": "code",
   "execution_count": 27,
   "outputs": [],
   "source": [
    "df.to_parquet('jobs.parquet')"
   ],
   "metadata": {
    "collapsed": false,
    "ExecuteTime": {
     "end_time": "2024-06-11T12:50:55.513622Z",
     "start_time": "2024-06-11T12:50:54.176879Z"
    }
   },
   "id": "554f3e4a54aa7fd6"
  },
  {
   "cell_type": "code",
   "execution_count": 28,
   "outputs": [
    {
     "data": {
      "text/plain": "             job_title_short  \\\n0       Senior Data Engineer   \n1               Data Analyst   \n2              Data Engineer   \n3              Data Engineer   \n4              Data Engineer   \n...                      ...   \n785736     Software Engineer   \n785737          Data Analyst   \n785738      Business Analyst   \n785739         Data Engineer   \n785740     Software Engineer   \n\n                                                job_title  \\\n0       Senior Clinical Data Engineer / Principal Clin...   \n1                                            Data Analyst   \n2       Data Engineer/Scientist/Analyst, Mid or Senior...   \n3       LEAD ENGINEER - PRINCIPAL ANALYST - PRINCIPAL ...   \n4                                  Data Engineer- Sr Jobs   \n...                                                   ...   \n785736                                    DevOps Engineer   \n785737                                   CRM Data Analyst   \n785738                     Commercial Analyst - Start Now   \n785739  Principal Associate, Data Engineer (Remote-Eli...   \n785740                                 AWS System Analyst   \n\n                               job_location                    job_via  \\\n0                             Watertown, CT            via Work Nearby   \n1              Guadalajara, Jalisco, Mexico           via BeBee México   \n2                           Berlin, Germany               via LinkedIn   \n3                           San Antonio, TX          via Diversity.com   \n4                            Washington, DC         via Clearance Jobs   \n...                                     ...                        ...   \n785736                            Singapura        melalui Trabajo.org   \n785737                   Bad Rodach, Jerman  melalui BeBee Deutschland   \n785738                             Malaysia           melalui Ricebowl   \n785739  Newark, New Jersey, Amerika Serikat        melalui Recruit.net   \n785740                                India             melalui Trigyn   \n\n       job_schedule_type  job_work_from_home       search_location  \\\n0              Full-time               False  Texas, United States   \n1              Full-time               False                Mexico   \n2              Full-time               False               Germany   \n3              Full-time               False  Texas, United States   \n4              Full-time               False                 Sudan   \n...                  ...                 ...                   ...   \n785736   Pekerjaan tetap               False             Singapore   \n785737   Pekerjaan tetap               False               Germany   \n785738   Pekerjaan tetap               False              Malaysia   \n785739   Pekerjaan tetap               False                 Sudan   \n785740   Pekerjaan tetap               False                 India   \n\n       job_posted_date  job_no_degree_mention  job_health_insurance  \\\n0                  Jun                  False                 False   \n1                  Jan                  False                 False   \n2                  Oct                  False                 False   \n3                  Jul                   True                 False   \n4                  Aug                  False                 False   \n...                ...                    ...                   ...   \n785736             Mar                  False                 False   \n785737             Mar                  False                 False   \n785738             Mar                  False                 False   \n785739             Mar                  False                 False   \n785740             Mar                  False                 False   \n\n          job_country salary_rate  salary_year_avg  salary_hour_avg  \\\n0       United States        None              NaN              NaN   \n1              Mexico        None              NaN              NaN   \n2             Germany        None              NaN              NaN   \n3       United States        None              NaN              NaN   \n4               Sudan        None              NaN              NaN   \n...               ...         ...              ...              ...   \n785736      Singapore        None              NaN              NaN   \n785737        Germany        None              NaN              NaN   \n785738       Malaysia        None              NaN              NaN   \n785739          Sudan        None              NaN              NaN   \n785740          India        None              NaN              NaN   \n\n                              company_name  \\\n0                     Boehringer Ingelheim   \n1               Hewlett Packard Enterprise   \n2                 ALPHA Augmented Services   \n3             Southwest Research Institute   \n4                          Kristina Daniel   \n...                                    ...   \n785736  CAREERSTAR INTERNATIONAL PTE. LTD.   \n785737                    HABA FAMILYGROUP   \n785738               Lendlease Corporation   \n785739                         Capital One   \n785740                              Trigyn   \n\n                                               job_skills  \\\n0                                                    None   \n1       ['r', 'python', 'sql', 'nosql', 'power bi', 't...   \n2       ['python', 'sql', 'c#', 'azure', 'airflow', 'd...   \n3       ['python', 'c++', 'java', 'matlab', 'aws', 'te...   \n4       ['bash', 'python', 'oracle', 'aws', 'ansible',...   \n...                                                   ...   \n785736  ['bash', 'python', 'perl', 'linux', 'unix', 'k...   \n785737                     ['sas', 'sas', 'sql', 'excel']   \n785738                            ['powerpoint', 'excel']   \n785739  ['python', 'go', 'nosql', 'sql', 'mongo', 'she...   \n785740                                    ['aws', 'flow']   \n\n                                          job_type_skills  \n0                                                    None  \n1       {'analyst_tools': ['power bi', 'tableau'], 'pr...  \n2       {'analyst_tools': ['dax'], 'cloud': ['azure'],...  \n3       {'cloud': ['aws'], 'libraries': ['tensorflow',...  \n4       {'cloud': ['oracle', 'aws'], 'other': ['ansibl...  \n...                                                   ...  \n785736  {'os': ['linux', 'unix'], 'other': ['kubernete...  \n785737  {'analyst_tools': ['sas', 'excel'], 'programmi...  \n785738         {'analyst_tools': ['powerpoint', 'excel']}  \n785739  {'cloud': ['aws', 'snowflake', 'azure', 'redsh...  \n785740              {'cloud': ['aws'], 'other': ['flow']}  \n\n[785741 rows x 17 columns]",
      "text/html": "<div>\n<style scoped>\n    .dataframe tbody tr th:only-of-type {\n        vertical-align: middle;\n    }\n\n    .dataframe tbody tr th {\n        vertical-align: top;\n    }\n\n    .dataframe thead th {\n        text-align: right;\n    }\n</style>\n<table border=\"1\" class=\"dataframe\">\n  <thead>\n    <tr style=\"text-align: right;\">\n      <th></th>\n      <th>job_title_short</th>\n      <th>job_title</th>\n      <th>job_location</th>\n      <th>job_via</th>\n      <th>job_schedule_type</th>\n      <th>job_work_from_home</th>\n      <th>search_location</th>\n      <th>job_posted_date</th>\n      <th>job_no_degree_mention</th>\n      <th>job_health_insurance</th>\n      <th>job_country</th>\n      <th>salary_rate</th>\n      <th>salary_year_avg</th>\n      <th>salary_hour_avg</th>\n      <th>company_name</th>\n      <th>job_skills</th>\n      <th>job_type_skills</th>\n    </tr>\n  </thead>\n  <tbody>\n    <tr>\n      <th>0</th>\n      <td>Senior Data Engineer</td>\n      <td>Senior Clinical Data Engineer / Principal Clin...</td>\n      <td>Watertown, CT</td>\n      <td>via Work Nearby</td>\n      <td>Full-time</td>\n      <td>False</td>\n      <td>Texas, United States</td>\n      <td>Jun</td>\n      <td>False</td>\n      <td>False</td>\n      <td>United States</td>\n      <td>None</td>\n      <td>NaN</td>\n      <td>NaN</td>\n      <td>Boehringer Ingelheim</td>\n      <td>None</td>\n      <td>None</td>\n    </tr>\n    <tr>\n      <th>1</th>\n      <td>Data Analyst</td>\n      <td>Data Analyst</td>\n      <td>Guadalajara, Jalisco, Mexico</td>\n      <td>via BeBee México</td>\n      <td>Full-time</td>\n      <td>False</td>\n      <td>Mexico</td>\n      <td>Jan</td>\n      <td>False</td>\n      <td>False</td>\n      <td>Mexico</td>\n      <td>None</td>\n      <td>NaN</td>\n      <td>NaN</td>\n      <td>Hewlett Packard Enterprise</td>\n      <td>['r', 'python', 'sql', 'nosql', 'power bi', 't...</td>\n      <td>{'analyst_tools': ['power bi', 'tableau'], 'pr...</td>\n    </tr>\n    <tr>\n      <th>2</th>\n      <td>Data Engineer</td>\n      <td>Data Engineer/Scientist/Analyst, Mid or Senior...</td>\n      <td>Berlin, Germany</td>\n      <td>via LinkedIn</td>\n      <td>Full-time</td>\n      <td>False</td>\n      <td>Germany</td>\n      <td>Oct</td>\n      <td>False</td>\n      <td>False</td>\n      <td>Germany</td>\n      <td>None</td>\n      <td>NaN</td>\n      <td>NaN</td>\n      <td>ALPHA Augmented Services</td>\n      <td>['python', 'sql', 'c#', 'azure', 'airflow', 'd...</td>\n      <td>{'analyst_tools': ['dax'], 'cloud': ['azure'],...</td>\n    </tr>\n    <tr>\n      <th>3</th>\n      <td>Data Engineer</td>\n      <td>LEAD ENGINEER - PRINCIPAL ANALYST - PRINCIPAL ...</td>\n      <td>San Antonio, TX</td>\n      <td>via Diversity.com</td>\n      <td>Full-time</td>\n      <td>False</td>\n      <td>Texas, United States</td>\n      <td>Jul</td>\n      <td>True</td>\n      <td>False</td>\n      <td>United States</td>\n      <td>None</td>\n      <td>NaN</td>\n      <td>NaN</td>\n      <td>Southwest Research Institute</td>\n      <td>['python', 'c++', 'java', 'matlab', 'aws', 'te...</td>\n      <td>{'cloud': ['aws'], 'libraries': ['tensorflow',...</td>\n    </tr>\n    <tr>\n      <th>4</th>\n      <td>Data Engineer</td>\n      <td>Data Engineer- Sr Jobs</td>\n      <td>Washington, DC</td>\n      <td>via Clearance Jobs</td>\n      <td>Full-time</td>\n      <td>False</td>\n      <td>Sudan</td>\n      <td>Aug</td>\n      <td>False</td>\n      <td>False</td>\n      <td>Sudan</td>\n      <td>None</td>\n      <td>NaN</td>\n      <td>NaN</td>\n      <td>Kristina Daniel</td>\n      <td>['bash', 'python', 'oracle', 'aws', 'ansible',...</td>\n      <td>{'cloud': ['oracle', 'aws'], 'other': ['ansibl...</td>\n    </tr>\n    <tr>\n      <th>...</th>\n      <td>...</td>\n      <td>...</td>\n      <td>...</td>\n      <td>...</td>\n      <td>...</td>\n      <td>...</td>\n      <td>...</td>\n      <td>...</td>\n      <td>...</td>\n      <td>...</td>\n      <td>...</td>\n      <td>...</td>\n      <td>...</td>\n      <td>...</td>\n      <td>...</td>\n      <td>...</td>\n      <td>...</td>\n    </tr>\n    <tr>\n      <th>785736</th>\n      <td>Software Engineer</td>\n      <td>DevOps Engineer</td>\n      <td>Singapura</td>\n      <td>melalui Trabajo.org</td>\n      <td>Pekerjaan tetap</td>\n      <td>False</td>\n      <td>Singapore</td>\n      <td>Mar</td>\n      <td>False</td>\n      <td>False</td>\n      <td>Singapore</td>\n      <td>None</td>\n      <td>NaN</td>\n      <td>NaN</td>\n      <td>CAREERSTAR INTERNATIONAL PTE. LTD.</td>\n      <td>['bash', 'python', 'perl', 'linux', 'unix', 'k...</td>\n      <td>{'os': ['linux', 'unix'], 'other': ['kubernete...</td>\n    </tr>\n    <tr>\n      <th>785737</th>\n      <td>Data Analyst</td>\n      <td>CRM Data Analyst</td>\n      <td>Bad Rodach, Jerman</td>\n      <td>melalui BeBee Deutschland</td>\n      <td>Pekerjaan tetap</td>\n      <td>False</td>\n      <td>Germany</td>\n      <td>Mar</td>\n      <td>False</td>\n      <td>False</td>\n      <td>Germany</td>\n      <td>None</td>\n      <td>NaN</td>\n      <td>NaN</td>\n      <td>HABA FAMILYGROUP</td>\n      <td>['sas', 'sas', 'sql', 'excel']</td>\n      <td>{'analyst_tools': ['sas', 'excel'], 'programmi...</td>\n    </tr>\n    <tr>\n      <th>785738</th>\n      <td>Business Analyst</td>\n      <td>Commercial Analyst - Start Now</td>\n      <td>Malaysia</td>\n      <td>melalui Ricebowl</td>\n      <td>Pekerjaan tetap</td>\n      <td>False</td>\n      <td>Malaysia</td>\n      <td>Mar</td>\n      <td>False</td>\n      <td>False</td>\n      <td>Malaysia</td>\n      <td>None</td>\n      <td>NaN</td>\n      <td>NaN</td>\n      <td>Lendlease Corporation</td>\n      <td>['powerpoint', 'excel']</td>\n      <td>{'analyst_tools': ['powerpoint', 'excel']}</td>\n    </tr>\n    <tr>\n      <th>785739</th>\n      <td>Data Engineer</td>\n      <td>Principal Associate, Data Engineer (Remote-Eli...</td>\n      <td>Newark, New Jersey, Amerika Serikat</td>\n      <td>melalui Recruit.net</td>\n      <td>Pekerjaan tetap</td>\n      <td>False</td>\n      <td>Sudan</td>\n      <td>Mar</td>\n      <td>False</td>\n      <td>False</td>\n      <td>Sudan</td>\n      <td>None</td>\n      <td>NaN</td>\n      <td>NaN</td>\n      <td>Capital One</td>\n      <td>['python', 'go', 'nosql', 'sql', 'mongo', 'she...</td>\n      <td>{'cloud': ['aws', 'snowflake', 'azure', 'redsh...</td>\n    </tr>\n    <tr>\n      <th>785740</th>\n      <td>Software Engineer</td>\n      <td>AWS System Analyst</td>\n      <td>India</td>\n      <td>melalui Trigyn</td>\n      <td>Pekerjaan tetap</td>\n      <td>False</td>\n      <td>India</td>\n      <td>Mar</td>\n      <td>False</td>\n      <td>False</td>\n      <td>India</td>\n      <td>None</td>\n      <td>NaN</td>\n      <td>NaN</td>\n      <td>Trigyn</td>\n      <td>['aws', 'flow']</td>\n      <td>{'cloud': ['aws'], 'other': ['flow']}</td>\n    </tr>\n  </tbody>\n</table>\n<p>785741 rows × 17 columns</p>\n</div>"
     },
     "execution_count": 28,
     "metadata": {},
     "output_type": "execute_result"
    }
   ],
   "source": [
    "pd.read_parquet('jobs.parquet')"
   ],
   "metadata": {
    "collapsed": false,
    "ExecuteTime": {
     "end_time": "2024-06-11T12:50:59.658310Z",
     "start_time": "2024-06-11T12:50:57.524900Z"
    }
   },
   "id": "80d5b75865a62e2e"
  },
  {
   "cell_type": "markdown",
   "source": [
    "# to_pickle()"
   ],
   "metadata": {
    "collapsed": false
   },
   "id": "445326a7499ee9d0"
  },
  {
   "cell_type": "code",
   "execution_count": 29,
   "outputs": [],
   "source": [
    "df.to_pickle('jobs.pkl')"
   ],
   "metadata": {
    "collapsed": false,
    "ExecuteTime": {
     "end_time": "2024-06-11T12:51:19.638165Z",
     "start_time": "2024-06-11T12:51:18.735280Z"
    }
   },
   "id": "123fb18e8391ce48"
  },
  {
   "cell_type": "code",
   "execution_count": 30,
   "outputs": [
    {
     "data": {
      "text/plain": "             job_title_short  \\\n0       Senior Data Engineer   \n1               Data Analyst   \n2              Data Engineer   \n3              Data Engineer   \n4              Data Engineer   \n...                      ...   \n785736     Software Engineer   \n785737          Data Analyst   \n785738      Business Analyst   \n785739         Data Engineer   \n785740     Software Engineer   \n\n                                                job_title  \\\n0       Senior Clinical Data Engineer / Principal Clin...   \n1                                            Data Analyst   \n2       Data Engineer/Scientist/Analyst, Mid or Senior...   \n3       LEAD ENGINEER - PRINCIPAL ANALYST - PRINCIPAL ...   \n4                                  Data Engineer- Sr Jobs   \n...                                                   ...   \n785736                                    DevOps Engineer   \n785737                                   CRM Data Analyst   \n785738                     Commercial Analyst - Start Now   \n785739  Principal Associate, Data Engineer (Remote-Eli...   \n785740                                 AWS System Analyst   \n\n                               job_location                    job_via  \\\n0                             Watertown, CT            via Work Nearby   \n1              Guadalajara, Jalisco, Mexico           via BeBee México   \n2                           Berlin, Germany               via LinkedIn   \n3                           San Antonio, TX          via Diversity.com   \n4                            Washington, DC         via Clearance Jobs   \n...                                     ...                        ...   \n785736                            Singapura        melalui Trabajo.org   \n785737                   Bad Rodach, Jerman  melalui BeBee Deutschland   \n785738                             Malaysia           melalui Ricebowl   \n785739  Newark, New Jersey, Amerika Serikat        melalui Recruit.net   \n785740                                India             melalui Trigyn   \n\n       job_schedule_type  job_work_from_home       search_location  \\\n0              Full-time               False  Texas, United States   \n1              Full-time               False                Mexico   \n2              Full-time               False               Germany   \n3              Full-time               False  Texas, United States   \n4              Full-time               False                 Sudan   \n...                  ...                 ...                   ...   \n785736   Pekerjaan tetap               False             Singapore   \n785737   Pekerjaan tetap               False               Germany   \n785738   Pekerjaan tetap               False              Malaysia   \n785739   Pekerjaan tetap               False                 Sudan   \n785740   Pekerjaan tetap               False                 India   \n\n       job_posted_date  job_no_degree_mention  job_health_insurance  \\\n0                  Jun                  False                 False   \n1                  Jan                  False                 False   \n2                  Oct                  False                 False   \n3                  Jul                   True                 False   \n4                  Aug                  False                 False   \n...                ...                    ...                   ...   \n785736             Mar                  False                 False   \n785737             Mar                  False                 False   \n785738             Mar                  False                 False   \n785739             Mar                  False                 False   \n785740             Mar                  False                 False   \n\n          job_country salary_rate  salary_year_avg  salary_hour_avg  \\\n0       United States        None              NaN              NaN   \n1              Mexico        None              NaN              NaN   \n2             Germany        None              NaN              NaN   \n3       United States        None              NaN              NaN   \n4               Sudan        None              NaN              NaN   \n...               ...         ...              ...              ...   \n785736      Singapore        None              NaN              NaN   \n785737        Germany        None              NaN              NaN   \n785738       Malaysia        None              NaN              NaN   \n785739          Sudan        None              NaN              NaN   \n785740          India        None              NaN              NaN   \n\n                              company_name  \\\n0                     Boehringer Ingelheim   \n1               Hewlett Packard Enterprise   \n2                 ALPHA Augmented Services   \n3             Southwest Research Institute   \n4                          Kristina Daniel   \n...                                    ...   \n785736  CAREERSTAR INTERNATIONAL PTE. LTD.   \n785737                    HABA FAMILYGROUP   \n785738               Lendlease Corporation   \n785739                         Capital One   \n785740                              Trigyn   \n\n                                               job_skills  \\\n0                                                    None   \n1       ['r', 'python', 'sql', 'nosql', 'power bi', 't...   \n2       ['python', 'sql', 'c#', 'azure', 'airflow', 'd...   \n3       ['python', 'c++', 'java', 'matlab', 'aws', 'te...   \n4       ['bash', 'python', 'oracle', 'aws', 'ansible',...   \n...                                                   ...   \n785736  ['bash', 'python', 'perl', 'linux', 'unix', 'k...   \n785737                     ['sas', 'sas', 'sql', 'excel']   \n785738                            ['powerpoint', 'excel']   \n785739  ['python', 'go', 'nosql', 'sql', 'mongo', 'she...   \n785740                                    ['aws', 'flow']   \n\n                                          job_type_skills  \n0                                                    None  \n1       {'analyst_tools': ['power bi', 'tableau'], 'pr...  \n2       {'analyst_tools': ['dax'], 'cloud': ['azure'],...  \n3       {'cloud': ['aws'], 'libraries': ['tensorflow',...  \n4       {'cloud': ['oracle', 'aws'], 'other': ['ansibl...  \n...                                                   ...  \n785736  {'os': ['linux', 'unix'], 'other': ['kubernete...  \n785737  {'analyst_tools': ['sas', 'excel'], 'programmi...  \n785738         {'analyst_tools': ['powerpoint', 'excel']}  \n785739  {'cloud': ['aws', 'snowflake', 'azure', 'redsh...  \n785740              {'cloud': ['aws'], 'other': ['flow']}  \n\n[785741 rows x 17 columns]",
      "text/html": "<div>\n<style scoped>\n    .dataframe tbody tr th:only-of-type {\n        vertical-align: middle;\n    }\n\n    .dataframe tbody tr th {\n        vertical-align: top;\n    }\n\n    .dataframe thead th {\n        text-align: right;\n    }\n</style>\n<table border=\"1\" class=\"dataframe\">\n  <thead>\n    <tr style=\"text-align: right;\">\n      <th></th>\n      <th>job_title_short</th>\n      <th>job_title</th>\n      <th>job_location</th>\n      <th>job_via</th>\n      <th>job_schedule_type</th>\n      <th>job_work_from_home</th>\n      <th>search_location</th>\n      <th>job_posted_date</th>\n      <th>job_no_degree_mention</th>\n      <th>job_health_insurance</th>\n      <th>job_country</th>\n      <th>salary_rate</th>\n      <th>salary_year_avg</th>\n      <th>salary_hour_avg</th>\n      <th>company_name</th>\n      <th>job_skills</th>\n      <th>job_type_skills</th>\n    </tr>\n  </thead>\n  <tbody>\n    <tr>\n      <th>0</th>\n      <td>Senior Data Engineer</td>\n      <td>Senior Clinical Data Engineer / Principal Clin...</td>\n      <td>Watertown, CT</td>\n      <td>via Work Nearby</td>\n      <td>Full-time</td>\n      <td>False</td>\n      <td>Texas, United States</td>\n      <td>Jun</td>\n      <td>False</td>\n      <td>False</td>\n      <td>United States</td>\n      <td>None</td>\n      <td>NaN</td>\n      <td>NaN</td>\n      <td>Boehringer Ingelheim</td>\n      <td>None</td>\n      <td>None</td>\n    </tr>\n    <tr>\n      <th>1</th>\n      <td>Data Analyst</td>\n      <td>Data Analyst</td>\n      <td>Guadalajara, Jalisco, Mexico</td>\n      <td>via BeBee México</td>\n      <td>Full-time</td>\n      <td>False</td>\n      <td>Mexico</td>\n      <td>Jan</td>\n      <td>False</td>\n      <td>False</td>\n      <td>Mexico</td>\n      <td>None</td>\n      <td>NaN</td>\n      <td>NaN</td>\n      <td>Hewlett Packard Enterprise</td>\n      <td>['r', 'python', 'sql', 'nosql', 'power bi', 't...</td>\n      <td>{'analyst_tools': ['power bi', 'tableau'], 'pr...</td>\n    </tr>\n    <tr>\n      <th>2</th>\n      <td>Data Engineer</td>\n      <td>Data Engineer/Scientist/Analyst, Mid or Senior...</td>\n      <td>Berlin, Germany</td>\n      <td>via LinkedIn</td>\n      <td>Full-time</td>\n      <td>False</td>\n      <td>Germany</td>\n      <td>Oct</td>\n      <td>False</td>\n      <td>False</td>\n      <td>Germany</td>\n      <td>None</td>\n      <td>NaN</td>\n      <td>NaN</td>\n      <td>ALPHA Augmented Services</td>\n      <td>['python', 'sql', 'c#', 'azure', 'airflow', 'd...</td>\n      <td>{'analyst_tools': ['dax'], 'cloud': ['azure'],...</td>\n    </tr>\n    <tr>\n      <th>3</th>\n      <td>Data Engineer</td>\n      <td>LEAD ENGINEER - PRINCIPAL ANALYST - PRINCIPAL ...</td>\n      <td>San Antonio, TX</td>\n      <td>via Diversity.com</td>\n      <td>Full-time</td>\n      <td>False</td>\n      <td>Texas, United States</td>\n      <td>Jul</td>\n      <td>True</td>\n      <td>False</td>\n      <td>United States</td>\n      <td>None</td>\n      <td>NaN</td>\n      <td>NaN</td>\n      <td>Southwest Research Institute</td>\n      <td>['python', 'c++', 'java', 'matlab', 'aws', 'te...</td>\n      <td>{'cloud': ['aws'], 'libraries': ['tensorflow',...</td>\n    </tr>\n    <tr>\n      <th>4</th>\n      <td>Data Engineer</td>\n      <td>Data Engineer- Sr Jobs</td>\n      <td>Washington, DC</td>\n      <td>via Clearance Jobs</td>\n      <td>Full-time</td>\n      <td>False</td>\n      <td>Sudan</td>\n      <td>Aug</td>\n      <td>False</td>\n      <td>False</td>\n      <td>Sudan</td>\n      <td>None</td>\n      <td>NaN</td>\n      <td>NaN</td>\n      <td>Kristina Daniel</td>\n      <td>['bash', 'python', 'oracle', 'aws', 'ansible',...</td>\n      <td>{'cloud': ['oracle', 'aws'], 'other': ['ansibl...</td>\n    </tr>\n    <tr>\n      <th>...</th>\n      <td>...</td>\n      <td>...</td>\n      <td>...</td>\n      <td>...</td>\n      <td>...</td>\n      <td>...</td>\n      <td>...</td>\n      <td>...</td>\n      <td>...</td>\n      <td>...</td>\n      <td>...</td>\n      <td>...</td>\n      <td>...</td>\n      <td>...</td>\n      <td>...</td>\n      <td>...</td>\n      <td>...</td>\n    </tr>\n    <tr>\n      <th>785736</th>\n      <td>Software Engineer</td>\n      <td>DevOps Engineer</td>\n      <td>Singapura</td>\n      <td>melalui Trabajo.org</td>\n      <td>Pekerjaan tetap</td>\n      <td>False</td>\n      <td>Singapore</td>\n      <td>Mar</td>\n      <td>False</td>\n      <td>False</td>\n      <td>Singapore</td>\n      <td>None</td>\n      <td>NaN</td>\n      <td>NaN</td>\n      <td>CAREERSTAR INTERNATIONAL PTE. LTD.</td>\n      <td>['bash', 'python', 'perl', 'linux', 'unix', 'k...</td>\n      <td>{'os': ['linux', 'unix'], 'other': ['kubernete...</td>\n    </tr>\n    <tr>\n      <th>785737</th>\n      <td>Data Analyst</td>\n      <td>CRM Data Analyst</td>\n      <td>Bad Rodach, Jerman</td>\n      <td>melalui BeBee Deutschland</td>\n      <td>Pekerjaan tetap</td>\n      <td>False</td>\n      <td>Germany</td>\n      <td>Mar</td>\n      <td>False</td>\n      <td>False</td>\n      <td>Germany</td>\n      <td>None</td>\n      <td>NaN</td>\n      <td>NaN</td>\n      <td>HABA FAMILYGROUP</td>\n      <td>['sas', 'sas', 'sql', 'excel']</td>\n      <td>{'analyst_tools': ['sas', 'excel'], 'programmi...</td>\n    </tr>\n    <tr>\n      <th>785738</th>\n      <td>Business Analyst</td>\n      <td>Commercial Analyst - Start Now</td>\n      <td>Malaysia</td>\n      <td>melalui Ricebowl</td>\n      <td>Pekerjaan tetap</td>\n      <td>False</td>\n      <td>Malaysia</td>\n      <td>Mar</td>\n      <td>False</td>\n      <td>False</td>\n      <td>Malaysia</td>\n      <td>None</td>\n      <td>NaN</td>\n      <td>NaN</td>\n      <td>Lendlease Corporation</td>\n      <td>['powerpoint', 'excel']</td>\n      <td>{'analyst_tools': ['powerpoint', 'excel']}</td>\n    </tr>\n    <tr>\n      <th>785739</th>\n      <td>Data Engineer</td>\n      <td>Principal Associate, Data Engineer (Remote-Eli...</td>\n      <td>Newark, New Jersey, Amerika Serikat</td>\n      <td>melalui Recruit.net</td>\n      <td>Pekerjaan tetap</td>\n      <td>False</td>\n      <td>Sudan</td>\n      <td>Mar</td>\n      <td>False</td>\n      <td>False</td>\n      <td>Sudan</td>\n      <td>None</td>\n      <td>NaN</td>\n      <td>NaN</td>\n      <td>Capital One</td>\n      <td>['python', 'go', 'nosql', 'sql', 'mongo', 'she...</td>\n      <td>{'cloud': ['aws', 'snowflake', 'azure', 'redsh...</td>\n    </tr>\n    <tr>\n      <th>785740</th>\n      <td>Software Engineer</td>\n      <td>AWS System Analyst</td>\n      <td>India</td>\n      <td>melalui Trigyn</td>\n      <td>Pekerjaan tetap</td>\n      <td>False</td>\n      <td>India</td>\n      <td>Mar</td>\n      <td>False</td>\n      <td>False</td>\n      <td>India</td>\n      <td>None</td>\n      <td>NaN</td>\n      <td>NaN</td>\n      <td>Trigyn</td>\n      <td>['aws', 'flow']</td>\n      <td>{'cloud': ['aws'], 'other': ['flow']}</td>\n    </tr>\n  </tbody>\n</table>\n<p>785741 rows × 17 columns</p>\n</div>"
     },
     "execution_count": 30,
     "metadata": {},
     "output_type": "execute_result"
    }
   ],
   "source": [
    "pd.read_pickle('jobs.pkl')"
   ],
   "metadata": {
    "collapsed": false,
    "ExecuteTime": {
     "end_time": "2024-06-11T12:51:21.218926Z",
     "start_time": "2024-06-11T12:51:20.686949Z"
    }
   },
   "id": "e6ebca8d3ca52fec"
  },
  {
   "cell_type": "code",
   "execution_count": null,
   "outputs": [],
   "source": [],
   "metadata": {
    "collapsed": false
   },
   "id": "8bf6e0829c3fb614"
  }
 ],
 "metadata": {
  "kernelspec": {
   "display_name": "Python 3",
   "language": "python",
   "name": "python3"
  },
  "language_info": {
   "codemirror_mode": {
    "name": "ipython",
    "version": 2
   },
   "file_extension": ".py",
   "mimetype": "text/x-python",
   "name": "python",
   "nbconvert_exporter": "python",
   "pygments_lexer": "ipython2",
   "version": "2.7.6"
  }
 },
 "nbformat": 4,
 "nbformat_minor": 5
}
