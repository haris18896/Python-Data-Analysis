{
 "cells": [
  {
   "cell_type": "code",
   "execution_count": 1,
   "id": "initial_id",
   "metadata": {
    "collapsed": true,
    "ExecuteTime": {
     "end_time": "2024-06-12T07:07:10.365892Z",
     "start_time": "2024-06-12T07:06:51.267483Z"
    }
   },
   "outputs": [
    {
     "data": {
      "text/plain": "28        109500.0\n77        140000.0\n92        120000.0\n100       228222.0\n109        89000.0\n            ...   \n785624    139216.0\n785641    150000.0\n785648    221875.0\n785682    157500.0\n785692    157500.0\nName: salary_year_avg, Length: 22003, dtype: float64"
     },
     "execution_count": 1,
     "metadata": {},
     "output_type": "execute_result"
    }
   ],
   "source": [
    "import pandas as pd\n",
    "from datasets import load_dataset\n",
    "import matplotlib.pyplot as plt\n",
    "\n",
    "# Loading Data\n",
    "dataset = load_dataset(\"lukebarousse/data_jobs\")\n",
    "df = dataset['train'].to_pandas()\n",
    "\n",
    "# Data Cleaning\n",
    "df['job_posted_date'] = pd.to_datetime(df['job_posted_date'])\n",
    "df[pd.notna(df['salary_year_avg'])]['salary_year_avg']"
   ]
  },
  {
   "cell_type": "code",
   "execution_count": 13,
   "outputs": [
    {
     "data": {
      "text/plain": "  job_title_short              job_skills\n0    Data Analyst    [excel, sql, python]\n1  Data Scientist             [python, r]\n2   Data Engineer  [aws, python, airflow]",
      "text/html": "<div>\n<style scoped>\n    .dataframe tbody tr th:only-of-type {\n        vertical-align: middle;\n    }\n\n    .dataframe tbody tr th {\n        vertical-align: top;\n    }\n\n    .dataframe thead th {\n        text-align: right;\n    }\n</style>\n<table border=\"1\" class=\"dataframe\">\n  <thead>\n    <tr style=\"text-align: right;\">\n      <th></th>\n      <th>job_title_short</th>\n      <th>job_skills</th>\n    </tr>\n  </thead>\n  <tbody>\n    <tr>\n      <th>0</th>\n      <td>Data Analyst</td>\n      <td>[excel, sql, python]</td>\n    </tr>\n    <tr>\n      <th>1</th>\n      <td>Data Scientist</td>\n      <td>[python, r]</td>\n    </tr>\n    <tr>\n      <th>2</th>\n      <td>Data Engineer</td>\n      <td>[aws, python, airflow]</td>\n    </tr>\n  </tbody>\n</table>\n</div>"
     },
     "execution_count": 13,
     "metadata": {},
     "output_type": "execute_result"
    }
   ],
   "source": [
    "data = {\n",
    "    'job_title_short': ['Data Analyst', 'Data Scientist', 'Data Engineer'],\n",
    "    'job_skills': [['excel', 'sql', 'python'], ['python', 'r'], ['aws', 'python', 'airflow']]\n",
    "}\n",
    "\n",
    "df_skill = pd.DataFrame(data)\n",
    "df_skill_lists = df_skill.copy()\n",
    "df_skill_lists"
   ],
   "metadata": {
    "collapsed": false,
    "ExecuteTime": {
     "end_time": "2024-06-12T07:22:33.363366Z",
     "start_time": "2024-06-12T07:22:33.360533Z"
    }
   },
   "id": "246ce4da19eb1dcc"
  },
  {
   "cell_type": "code",
   "execution_count": 11,
   "outputs": [
    {
     "ename": "TypeError",
     "evalue": "unhashable type: 'list'",
     "output_type": "error",
     "traceback": [
      "\u001B[0;31m---------------------------------------------------------------------------\u001B[0m",
      "\u001B[0;31mTypeError\u001B[0m                                 Traceback (most recent call last)",
      "Cell \u001B[0;32mIn[11], line 1\u001B[0m\n\u001B[0;32m----> 1\u001B[0m df_skill_lists\u001B[38;5;241m.\u001B[39mvalue_counts(\u001B[38;5;124m'\u001B[39m\u001B[38;5;124mjob_skills\u001B[39m\u001B[38;5;124m'\u001B[39m)\n",
      "File \u001B[0;32m/opt/anaconda3/lib/python3.11/site-packages/pandas/core/frame.py:7264\u001B[0m, in \u001B[0;36mDataFrame.value_counts\u001B[0;34m(self, subset, normalize, sort, ascending, dropna)\u001B[0m\n\u001B[1;32m   7261\u001B[0m     subset \u001B[38;5;241m=\u001B[39m \u001B[38;5;28mself\u001B[39m\u001B[38;5;241m.\u001B[39mcolumns\u001B[38;5;241m.\u001B[39mtolist()\n\u001B[1;32m   7263\u001B[0m name \u001B[38;5;241m=\u001B[39m \u001B[38;5;124m\"\u001B[39m\u001B[38;5;124mproportion\u001B[39m\u001B[38;5;124m\"\u001B[39m \u001B[38;5;28;01mif\u001B[39;00m normalize \u001B[38;5;28;01melse\u001B[39;00m \u001B[38;5;124m\"\u001B[39m\u001B[38;5;124mcount\u001B[39m\u001B[38;5;124m\"\u001B[39m\n\u001B[0;32m-> 7264\u001B[0m counts \u001B[38;5;241m=\u001B[39m \u001B[38;5;28mself\u001B[39m\u001B[38;5;241m.\u001B[39mgroupby(subset, dropna\u001B[38;5;241m=\u001B[39mdropna, observed\u001B[38;5;241m=\u001B[39m\u001B[38;5;28;01mFalse\u001B[39;00m)\u001B[38;5;241m.\u001B[39mgrouper\u001B[38;5;241m.\u001B[39msize()\n\u001B[1;32m   7265\u001B[0m counts\u001B[38;5;241m.\u001B[39mname \u001B[38;5;241m=\u001B[39m name\n\u001B[1;32m   7267\u001B[0m \u001B[38;5;28;01mif\u001B[39;00m sort:\n",
      "File \u001B[0;32m/opt/anaconda3/lib/python3.11/site-packages/pandas/core/groupby/ops.py:690\u001B[0m, in \u001B[0;36mBaseGrouper.size\u001B[0;34m(self)\u001B[0m\n\u001B[1;32m    685\u001B[0m \u001B[38;5;129m@final\u001B[39m\n\u001B[1;32m    686\u001B[0m \u001B[38;5;28;01mdef\u001B[39;00m \u001B[38;5;21msize\u001B[39m(\u001B[38;5;28mself\u001B[39m) \u001B[38;5;241m-\u001B[39m\u001B[38;5;241m>\u001B[39m Series:\n\u001B[1;32m    687\u001B[0m \u001B[38;5;250m    \u001B[39m\u001B[38;5;124;03m\"\"\"\u001B[39;00m\n\u001B[1;32m    688\u001B[0m \u001B[38;5;124;03m    Compute group sizes.\u001B[39;00m\n\u001B[1;32m    689\u001B[0m \u001B[38;5;124;03m    \"\"\"\u001B[39;00m\n\u001B[0;32m--> 690\u001B[0m     ids, _, ngroups \u001B[38;5;241m=\u001B[39m \u001B[38;5;28mself\u001B[39m\u001B[38;5;241m.\u001B[39mgroup_info\n\u001B[1;32m    691\u001B[0m     out: np\u001B[38;5;241m.\u001B[39mndarray \u001B[38;5;241m|\u001B[39m \u001B[38;5;28mlist\u001B[39m\n\u001B[1;32m    692\u001B[0m     \u001B[38;5;28;01mif\u001B[39;00m ngroups:\n",
      "File \u001B[0;32mproperties.pyx:36\u001B[0m, in \u001B[0;36mpandas._libs.properties.CachedProperty.__get__\u001B[0;34m()\u001B[0m\n",
      "File \u001B[0;32m/opt/anaconda3/lib/python3.11/site-packages/pandas/core/groupby/ops.py:730\u001B[0m, in \u001B[0;36mBaseGrouper.group_info\u001B[0;34m(self)\u001B[0m\n\u001B[1;32m    728\u001B[0m \u001B[38;5;129m@cache_readonly\u001B[39m\n\u001B[1;32m    729\u001B[0m \u001B[38;5;28;01mdef\u001B[39;00m \u001B[38;5;21mgroup_info\u001B[39m(\u001B[38;5;28mself\u001B[39m) \u001B[38;5;241m-\u001B[39m\u001B[38;5;241m>\u001B[39m \u001B[38;5;28mtuple\u001B[39m[npt\u001B[38;5;241m.\u001B[39mNDArray[np\u001B[38;5;241m.\u001B[39mintp], npt\u001B[38;5;241m.\u001B[39mNDArray[np\u001B[38;5;241m.\u001B[39mintp], \u001B[38;5;28mint\u001B[39m]:\n\u001B[0;32m--> 730\u001B[0m     comp_ids, obs_group_ids \u001B[38;5;241m=\u001B[39m \u001B[38;5;28mself\u001B[39m\u001B[38;5;241m.\u001B[39m_get_compressed_codes()\n\u001B[1;32m    732\u001B[0m     ngroups \u001B[38;5;241m=\u001B[39m \u001B[38;5;28mlen\u001B[39m(obs_group_ids)\n\u001B[1;32m    733\u001B[0m     comp_ids \u001B[38;5;241m=\u001B[39m ensure_platform_int(comp_ids)\n",
      "File \u001B[0;32m/opt/anaconda3/lib/python3.11/site-packages/pandas/core/groupby/ops.py:754\u001B[0m, in \u001B[0;36mBaseGrouper._get_compressed_codes\u001B[0;34m(self)\u001B[0m\n\u001B[1;32m    751\u001B[0m     \u001B[38;5;66;03m# FIXME: compress_group_index's second return value is int64, not intp\u001B[39;00m\n\u001B[1;32m    753\u001B[0m ping \u001B[38;5;241m=\u001B[39m \u001B[38;5;28mself\u001B[39m\u001B[38;5;241m.\u001B[39mgroupings[\u001B[38;5;241m0\u001B[39m]\n\u001B[0;32m--> 754\u001B[0m \u001B[38;5;28;01mreturn\u001B[39;00m ping\u001B[38;5;241m.\u001B[39mcodes, np\u001B[38;5;241m.\u001B[39marange(\u001B[38;5;28mlen\u001B[39m(ping\u001B[38;5;241m.\u001B[39mgroup_index), dtype\u001B[38;5;241m=\u001B[39mnp\u001B[38;5;241m.\u001B[39mintp)\n",
      "File \u001B[0;32m/opt/anaconda3/lib/python3.11/site-packages/pandas/core/groupby/grouper.py:691\u001B[0m, in \u001B[0;36mGrouping.codes\u001B[0;34m(self)\u001B[0m\n\u001B[1;32m    689\u001B[0m \u001B[38;5;129m@property\u001B[39m\n\u001B[1;32m    690\u001B[0m \u001B[38;5;28;01mdef\u001B[39;00m \u001B[38;5;21mcodes\u001B[39m(\u001B[38;5;28mself\u001B[39m) \u001B[38;5;241m-\u001B[39m\u001B[38;5;241m>\u001B[39m npt\u001B[38;5;241m.\u001B[39mNDArray[np\u001B[38;5;241m.\u001B[39msignedinteger]:\n\u001B[0;32m--> 691\u001B[0m     \u001B[38;5;28;01mreturn\u001B[39;00m \u001B[38;5;28mself\u001B[39m\u001B[38;5;241m.\u001B[39m_codes_and_uniques[\u001B[38;5;241m0\u001B[39m]\n",
      "File \u001B[0;32mproperties.pyx:36\u001B[0m, in \u001B[0;36mpandas._libs.properties.CachedProperty.__get__\u001B[0;34m()\u001B[0m\n",
      "File \u001B[0;32m/opt/anaconda3/lib/python3.11/site-packages/pandas/core/groupby/grouper.py:801\u001B[0m, in \u001B[0;36mGrouping._codes_and_uniques\u001B[0;34m(self)\u001B[0m\n\u001B[1;32m    796\u001B[0m     uniques \u001B[38;5;241m=\u001B[39m \u001B[38;5;28mself\u001B[39m\u001B[38;5;241m.\u001B[39m_uniques\n\u001B[1;32m    797\u001B[0m \u001B[38;5;28;01melse\u001B[39;00m:\n\u001B[1;32m    798\u001B[0m     \u001B[38;5;66;03m# GH35667, replace dropna=False with use_na_sentinel=False\u001B[39;00m\n\u001B[1;32m    799\u001B[0m     \u001B[38;5;66;03m# error: Incompatible types in assignment (expression has type \"Union[\u001B[39;00m\n\u001B[1;32m    800\u001B[0m     \u001B[38;5;66;03m# ndarray[Any, Any], Index]\", variable has type \"Categorical\")\u001B[39;00m\n\u001B[0;32m--> 801\u001B[0m     codes, uniques \u001B[38;5;241m=\u001B[39m algorithms\u001B[38;5;241m.\u001B[39mfactorize(  \u001B[38;5;66;03m# type: ignore[assignment]\u001B[39;00m\n\u001B[1;32m    802\u001B[0m         \u001B[38;5;28mself\u001B[39m\u001B[38;5;241m.\u001B[39mgrouping_vector, sort\u001B[38;5;241m=\u001B[39m\u001B[38;5;28mself\u001B[39m\u001B[38;5;241m.\u001B[39m_sort, use_na_sentinel\u001B[38;5;241m=\u001B[39m\u001B[38;5;28mself\u001B[39m\u001B[38;5;241m.\u001B[39m_dropna\n\u001B[1;32m    803\u001B[0m     )\n\u001B[1;32m    804\u001B[0m \u001B[38;5;28;01mreturn\u001B[39;00m codes, uniques\n",
      "File \u001B[0;32m/opt/anaconda3/lib/python3.11/site-packages/pandas/core/algorithms.py:795\u001B[0m, in \u001B[0;36mfactorize\u001B[0;34m(values, sort, use_na_sentinel, size_hint)\u001B[0m\n\u001B[1;32m    792\u001B[0m             \u001B[38;5;66;03m# Don't modify (potentially user-provided) array\u001B[39;00m\n\u001B[1;32m    793\u001B[0m             values \u001B[38;5;241m=\u001B[39m np\u001B[38;5;241m.\u001B[39mwhere(null_mask, na_value, values)\n\u001B[0;32m--> 795\u001B[0m     codes, uniques \u001B[38;5;241m=\u001B[39m factorize_array(\n\u001B[1;32m    796\u001B[0m         values,\n\u001B[1;32m    797\u001B[0m         use_na_sentinel\u001B[38;5;241m=\u001B[39muse_na_sentinel,\n\u001B[1;32m    798\u001B[0m         size_hint\u001B[38;5;241m=\u001B[39msize_hint,\n\u001B[1;32m    799\u001B[0m     )\n\u001B[1;32m    801\u001B[0m \u001B[38;5;28;01mif\u001B[39;00m sort \u001B[38;5;129;01mand\u001B[39;00m \u001B[38;5;28mlen\u001B[39m(uniques) \u001B[38;5;241m>\u001B[39m \u001B[38;5;241m0\u001B[39m:\n\u001B[1;32m    802\u001B[0m     uniques, codes \u001B[38;5;241m=\u001B[39m safe_sort(\n\u001B[1;32m    803\u001B[0m         uniques,\n\u001B[1;32m    804\u001B[0m         codes,\n\u001B[0;32m   (...)\u001B[0m\n\u001B[1;32m    807\u001B[0m         verify\u001B[38;5;241m=\u001B[39m\u001B[38;5;28;01mFalse\u001B[39;00m,\n\u001B[1;32m    808\u001B[0m     )\n",
      "File \u001B[0;32m/opt/anaconda3/lib/python3.11/site-packages/pandas/core/algorithms.py:595\u001B[0m, in \u001B[0;36mfactorize_array\u001B[0;34m(values, use_na_sentinel, size_hint, na_value, mask)\u001B[0m\n\u001B[1;32m    592\u001B[0m hash_klass, values \u001B[38;5;241m=\u001B[39m _get_hashtable_algo(values)\n\u001B[1;32m    594\u001B[0m table \u001B[38;5;241m=\u001B[39m hash_klass(size_hint \u001B[38;5;129;01mor\u001B[39;00m \u001B[38;5;28mlen\u001B[39m(values))\n\u001B[0;32m--> 595\u001B[0m uniques, codes \u001B[38;5;241m=\u001B[39m table\u001B[38;5;241m.\u001B[39mfactorize(\n\u001B[1;32m    596\u001B[0m     values,\n\u001B[1;32m    597\u001B[0m     na_sentinel\u001B[38;5;241m=\u001B[39m\u001B[38;5;241m-\u001B[39m\u001B[38;5;241m1\u001B[39m,\n\u001B[1;32m    598\u001B[0m     na_value\u001B[38;5;241m=\u001B[39mna_value,\n\u001B[1;32m    599\u001B[0m     mask\u001B[38;5;241m=\u001B[39mmask,\n\u001B[1;32m    600\u001B[0m     ignore_na\u001B[38;5;241m=\u001B[39muse_na_sentinel,\n\u001B[1;32m    601\u001B[0m )\n\u001B[1;32m    603\u001B[0m \u001B[38;5;66;03m# re-cast e.g. i8->dt64/td64, uint8->bool\u001B[39;00m\n\u001B[1;32m    604\u001B[0m uniques \u001B[38;5;241m=\u001B[39m _reconstruct_data(uniques, original\u001B[38;5;241m.\u001B[39mdtype, original)\n",
      "File \u001B[0;32mpandas/_libs/hashtable_class_helper.pxi:7280\u001B[0m, in \u001B[0;36mpandas._libs.hashtable.PyObjectHashTable.factorize\u001B[0;34m()\u001B[0m\n",
      "File \u001B[0;32mpandas/_libs/hashtable_class_helper.pxi:7194\u001B[0m, in \u001B[0;36mpandas._libs.hashtable.PyObjectHashTable._unique\u001B[0;34m()\u001B[0m\n",
      "\u001B[0;31mTypeError\u001B[0m: unhashable type: 'list'"
     ]
    }
   ],
   "source": [
    "df_skill_lists.value_counts('job_skills')"
   ],
   "metadata": {
    "collapsed": false,
    "ExecuteTime": {
     "end_time": "2024-06-12T07:20:22.180758Z",
     "start_time": "2024-06-12T07:20:22.120469Z"
    }
   },
   "id": "42397209e4b706"
  },
  {
   "cell_type": "code",
   "execution_count": 12,
   "outputs": [
    {
     "data": {
      "text/plain": "       excel  sql  python  r  aws  airflow\n0          1    1       1  0    0        0\n1          0    0       1  1    0        0\n2          0    0       1  0    1        1\nTotal      1    1       3  1    1        1",
      "text/html": "<div>\n<style scoped>\n    .dataframe tbody tr th:only-of-type {\n        vertical-align: middle;\n    }\n\n    .dataframe tbody tr th {\n        vertical-align: top;\n    }\n\n    .dataframe thead th {\n        text-align: right;\n    }\n</style>\n<table border=\"1\" class=\"dataframe\">\n  <thead>\n    <tr style=\"text-align: right;\">\n      <th></th>\n      <th>excel</th>\n      <th>sql</th>\n      <th>python</th>\n      <th>r</th>\n      <th>aws</th>\n      <th>airflow</th>\n    </tr>\n  </thead>\n  <tbody>\n    <tr>\n      <th>0</th>\n      <td>1</td>\n      <td>1</td>\n      <td>1</td>\n      <td>0</td>\n      <td>0</td>\n      <td>0</td>\n    </tr>\n    <tr>\n      <th>1</th>\n      <td>0</td>\n      <td>0</td>\n      <td>1</td>\n      <td>1</td>\n      <td>0</td>\n      <td>0</td>\n    </tr>\n    <tr>\n      <th>2</th>\n      <td>0</td>\n      <td>0</td>\n      <td>1</td>\n      <td>0</td>\n      <td>1</td>\n      <td>1</td>\n    </tr>\n    <tr>\n      <th>Total</th>\n      <td>1</td>\n      <td>1</td>\n      <td>3</td>\n      <td>1</td>\n      <td>1</td>\n      <td>1</td>\n    </tr>\n  </tbody>\n</table>\n</div>"
     },
     "execution_count": 12,
     "metadata": {},
     "output_type": "execute_result"
    }
   ],
   "source": [
    "for row in df_skill_lists.itertuples():\n",
    "    for skill in row.job_skills:\n",
    "        df_skill_lists[skill] = df_skill_lists['job_skills'].apply(lambda x: skill in x)\n",
    "        df_skill_lists[skill] = df_skill_lists[skill].astype(int)\n",
    "        \n",
    "df_skill_lists.loc['Total'] = df_skill_lists.sum()\n",
    "\n",
    "df_skill_lists.iloc[:, 2:]"
   ],
   "metadata": {
    "collapsed": false,
    "ExecuteTime": {
     "end_time": "2024-06-12T07:22:10.661139Z",
     "start_time": "2024-06-12T07:22:10.659169Z"
    }
   },
   "id": "271b7b1a5456c142"
  },
  {
   "cell_type": "code",
   "execution_count": 31,
   "outputs": [
    {
     "data": {
      "text/plain": "  job_title_short job_skills\n0    Data Analyst      excel\n0    Data Analyst        sql\n0    Data Analyst     python\n1  Data Scientist     python\n1  Data Scientist          r\n2   Data Engineer        aws\n2   Data Engineer     python\n2   Data Engineer    airflow",
      "text/html": "<div>\n<style scoped>\n    .dataframe tbody tr th:only-of-type {\n        vertical-align: middle;\n    }\n\n    .dataframe tbody tr th {\n        vertical-align: top;\n    }\n\n    .dataframe thead th {\n        text-align: right;\n    }\n</style>\n<table border=\"1\" class=\"dataframe\">\n  <thead>\n    <tr style=\"text-align: right;\">\n      <th></th>\n      <th>job_title_short</th>\n      <th>job_skills</th>\n    </tr>\n  </thead>\n  <tbody>\n    <tr>\n      <th>0</th>\n      <td>Data Analyst</td>\n      <td>excel</td>\n    </tr>\n    <tr>\n      <th>0</th>\n      <td>Data Analyst</td>\n      <td>sql</td>\n    </tr>\n    <tr>\n      <th>0</th>\n      <td>Data Analyst</td>\n      <td>python</td>\n    </tr>\n    <tr>\n      <th>1</th>\n      <td>Data Scientist</td>\n      <td>python</td>\n    </tr>\n    <tr>\n      <th>1</th>\n      <td>Data Scientist</td>\n      <td>r</td>\n    </tr>\n    <tr>\n      <th>2</th>\n      <td>Data Engineer</td>\n      <td>aws</td>\n    </tr>\n    <tr>\n      <th>2</th>\n      <td>Data Engineer</td>\n      <td>python</td>\n    </tr>\n    <tr>\n      <th>2</th>\n      <td>Data Engineer</td>\n      <td>airflow</td>\n    </tr>\n  </tbody>\n</table>\n</div>"
     },
     "execution_count": 31,
     "metadata": {},
     "output_type": "execute_result"
    }
   ],
   "source": [
    "df_exploded = df_skill.explode('job_skills')\n",
    "df_exploded"
   ],
   "metadata": {
    "collapsed": false,
    "ExecuteTime": {
     "end_time": "2024-06-12T07:29:06.537976Z",
     "start_time": "2024-06-12T07:29:06.531996Z"
    }
   },
   "id": "464bc3b17bfded40"
  },
  {
   "cell_type": "code",
   "execution_count": 32,
   "outputs": [
    {
     "data": {
      "text/plain": "job_skills\npython     3\nairflow    1\naws        1\nexcel      1\nr          1\nsql        1\nName: count, dtype: int64"
     },
     "execution_count": 32,
     "metadata": {},
     "output_type": "execute_result"
    }
   ],
   "source": [
    "df_exploded.value_counts('job_skills')"
   ],
   "metadata": {
    "collapsed": false,
    "ExecuteTime": {
     "end_time": "2024-06-12T07:29:27.833328Z",
     "start_time": "2024-06-12T07:29:27.829319Z"
    }
   },
   "id": "7c9818d56e58f11a"
  },
  {
   "cell_type": "markdown",
   "source": [
    "## Notes\n",
    "* `explode()` - transforms each element of a list-like to a row\n",
    "* Expand list-like data within a DataFrame column into separate rows.\n",
    "* `value_counts()` - returns object containing counts of unique values.\n",
    "* Commonly used to split list data into individual rows for analysis (hint hint) or when working with JSON data in a DataFrame."
   ],
   "metadata": {
    "collapsed": false
   },
   "id": "3131daff942bb4d5"
  },
  {
   "cell_type": "code",
   "execution_count": 33,
   "outputs": [
    {
     "data": {
      "text/plain": "<Axes: xlabel='job_skills'>"
     },
     "execution_count": 33,
     "metadata": {},
     "output_type": "execute_result"
    },
    {
     "data": {
      "text/plain": "<Figure size 640x480 with 1 Axes>",
      "image/png": "[encoded data removed]"
     },
     "metadata": {},
     "output_type": "display_data"
    }
   ],
   "source": [
    "df_exploded.value_counts('job_skills').plot(kind='bar')"
   ],
   "metadata": {
    "collapsed": false,
    "ExecuteTime": {
     "end_time": "2024-06-12T07:29:44.695187Z",
     "start_time": "2024-06-12T07:29:44.457077Z"
    }
   },
   "id": "befa3db6514900b3"
  },
  {
   "cell_type": "code",
   "execution_count": 35,
   "outputs": [
    {
     "data": {
      "text/plain": "        job_title_short                                         job_skills\n0  Senior Data Engineer                                               None\n1          Data Analyst         [r, python, sql, nosql, power bi, tableau]\n2         Data Engineer  [python, sql, c#, azure, airflow, dax, docker,...\n3         Data Engineer  [python, c++, java, matlab, aws, tensorflow, k...\n4         Data Engineer  [bash, python, oracle, aws, ansible, puppet, j...",
      "text/html": "<div>\n<style scoped>\n    .dataframe tbody tr th:only-of-type {\n        vertical-align: middle;\n    }\n\n    .dataframe tbody tr th {\n        vertical-align: top;\n    }\n\n    .dataframe thead th {\n        text-align: right;\n    }\n</style>\n<table border=\"1\" class=\"dataframe\">\n  <thead>\n    <tr style=\"text-align: right;\">\n      <th></th>\n      <th>job_title_short</th>\n      <th>job_skills</th>\n    </tr>\n  </thead>\n  <tbody>\n    <tr>\n      <th>0</th>\n      <td>Senior Data Engineer</td>\n      <td>None</td>\n    </tr>\n    <tr>\n      <th>1</th>\n      <td>Data Analyst</td>\n      <td>[r, python, sql, nosql, power bi, tableau]</td>\n    </tr>\n    <tr>\n      <th>2</th>\n      <td>Data Engineer</td>\n      <td>[python, sql, c#, azure, airflow, dax, docker,...</td>\n    </tr>\n    <tr>\n      <th>3</th>\n      <td>Data Engineer</td>\n      <td>[python, c++, java, matlab, aws, tensorflow, k...</td>\n    </tr>\n    <tr>\n      <th>4</th>\n      <td>Data Engineer</td>\n      <td>[bash, python, oracle, aws, ansible, puppet, j...</td>\n    </tr>\n  </tbody>\n</table>\n</div>"
     },
     "execution_count": 35,
     "metadata": {},
     "output_type": "execute_result"
    }
   ],
   "source": [
    "import ast\n",
    "\n",
    "df['job_skills'] = df['job_skills'].apply(lambda x: ast.literal_eval(x) if pd.notna(x) else x)\n",
    "df[['job_title_short', 'job_skills']].head(5)\n"
   ],
   "metadata": {
    "collapsed": false,
    "ExecuteTime": {
     "end_time": "2024-06-12T07:31:12.666105Z",
     "start_time": "2024-06-12T07:31:03.360149Z"
    }
   },
   "id": "5eaf44a54c1298cc"
  },
  {
   "cell_type": "code",
   "execution_count": 36,
   "outputs": [],
   "source": [
    "df_exploded = df.explode('job_skills')"
   ],
   "metadata": {
    "collapsed": false,
    "ExecuteTime": {
     "end_time": "2024-06-12T07:31:18.303399Z",
     "start_time": "2024-06-12T07:31:16.235537Z"
    }
   },
   "id": "c5ad44d3ec32e68b"
  },
  {
   "cell_type": "code",
   "execution_count": 37,
   "outputs": [
    {
     "data": {
      "text/plain": "0               None\n1                  r\n1             python\n1                sql\n1              nosql\n             ...    \n785739         kafka\n785739    kubernetes\n785739        docker\n785740           aws\n785740          flow\nName: job_skills, Length: 3777320, dtype: object"
     },
     "execution_count": 37,
     "metadata": {},
     "output_type": "execute_result"
    }
   ],
   "source": [
    "df_exploded['job_skills']"
   ],
   "metadata": {
    "collapsed": false,
    "ExecuteTime": {
     "end_time": "2024-06-12T07:31:25.824437Z",
     "start_time": "2024-06-12T07:31:25.818049Z"
    }
   },
   "id": "8e95b949e84f23a2"
  },
  {
   "cell_type": "code",
   "execution_count": 39,
   "outputs": [
    {
     "data": {
      "text/plain": "<Figure size 640x480 with 1 Axes>",
      "image/png": "[encoded data removed]"
     },
     "metadata": {},
     "output_type": "display_data"
    }
   ],
   "source": [
    "df_exploded['job_skills'].value_counts().head(10).plot(kind='bar')\n",
    "plt.show()"
   ],
   "metadata": {
    "collapsed": false,
    "ExecuteTime": {
     "end_time": "2024-06-12T07:31:56.758331Z",
     "start_time": "2024-06-12T07:31:56.684001Z"
    }
   },
   "id": "b40c05a59885718b"
  },
  {
   "cell_type": "markdown",
   "source": [
    "## Calculate Skill Count"
   ],
   "metadata": {
    "collapsed": false
   },
   "id": "4f7a77f12407d868"
  },
  {
   "cell_type": "markdown",
   "source": [
    "* Then Clean up the skills. we already did this in the previous cell"
   ],
   "metadata": {
    "collapsed": false
   },
   "id": "caee5f3a54ae44bc"
  },
  {
   "cell_type": "code",
   "execution_count": 41,
   "outputs": [],
   "source": [
    "df_skill = df_skill.explode('job_skills')"
   ],
   "metadata": {
    "collapsed": false,
    "ExecuteTime": {
     "end_time": "2024-06-12T07:32:27.492993Z",
     "start_time": "2024-06-12T07:32:27.487542Z"
    }
   },
   "id": "31be5570c67684eb"
  },
  {
   "cell_type": "markdown",
   "source": [
    "* Now we'll calculate the skill count for each job"
   ],
   "metadata": {
    "collapsed": false
   },
   "id": "804897b6c0567c0d"
  },
  {
   "cell_type": "code",
   "execution_count": 42,
   "outputs": [
    {
     "name": "stdout",
     "output_type": "stream",
     "text": [
      "Type of skills_count:  <class 'pandas.core.series.Series'>\n"
     ]
    },
    {
     "data": {
      "text/plain": "job_skills  job_title_short\nairflow     Data Engineer      1\naws         Data Engineer      1\nexcel       Data Analyst       1\npython      Data Analyst       1\n            Data Engineer      1\n            Data Scientist     1\nr           Data Scientist     1\nsql         Data Analyst       1\ndtype: int64"
     },
     "execution_count": 42,
     "metadata": {},
     "output_type": "execute_result"
    }
   ],
   "source": [
    "skills_count = df_skill.groupby(['job_skills', 'job_title_short']).size()\n",
    "print('Type of skills_count: ', type(skills_count))\n",
    "skills_count"
   ],
   "metadata": {
    "collapsed": false,
    "ExecuteTime": {
     "end_time": "2024-06-12T07:33:18.192086Z",
     "start_time": "2024-06-12T07:33:18.173905Z"
    }
   },
   "id": "bd8eb30f1f93e411"
  },
  {
   "cell_type": "markdown",
   "source": [
    "* we'll reset_index to transform skill_count from a Series to a DataFrame"
   ],
   "metadata": {
    "collapsed": false
   },
   "id": "ac3938edaac6bf5b"
  },
  {
   "cell_type": "code",
   "execution_count": 43,
   "outputs": [
    {
     "data": {
      "text/plain": "  job_skills job_title_short  skill_count\n0    airflow   Data Engineer            1\n1        aws   Data Engineer            1\n2      excel    Data Analyst            1\n3     python    Data Analyst            1\n4     python   Data Engineer            1\n5     python  Data Scientist            1\n6          r  Data Scientist            1\n7        sql    Data Analyst            1",
      "text/html": "<div>\n<style scoped>\n    .dataframe tbody tr th:only-of-type {\n        vertical-align: middle;\n    }\n\n    .dataframe tbody tr th {\n        vertical-align: top;\n    }\n\n    .dataframe thead th {\n        text-align: right;\n    }\n</style>\n<table border=\"1\" class=\"dataframe\">\n  <thead>\n    <tr style=\"text-align: right;\">\n      <th></th>\n      <th>job_skills</th>\n      <th>job_title_short</th>\n      <th>skill_count</th>\n    </tr>\n  </thead>\n  <tbody>\n    <tr>\n      <th>0</th>\n      <td>airflow</td>\n      <td>Data Engineer</td>\n      <td>1</td>\n    </tr>\n    <tr>\n      <th>1</th>\n      <td>aws</td>\n      <td>Data Engineer</td>\n      <td>1</td>\n    </tr>\n    <tr>\n      <th>2</th>\n      <td>excel</td>\n      <td>Data Analyst</td>\n      <td>1</td>\n    </tr>\n    <tr>\n      <th>3</th>\n      <td>python</td>\n      <td>Data Analyst</td>\n      <td>1</td>\n    </tr>\n    <tr>\n      <th>4</th>\n      <td>python</td>\n      <td>Data Engineer</td>\n      <td>1</td>\n    </tr>\n    <tr>\n      <th>5</th>\n      <td>python</td>\n      <td>Data Scientist</td>\n      <td>1</td>\n    </tr>\n    <tr>\n      <th>6</th>\n      <td>r</td>\n      <td>Data Scientist</td>\n      <td>1</td>\n    </tr>\n    <tr>\n      <th>7</th>\n      <td>sql</td>\n      <td>Data Analyst</td>\n      <td>1</td>\n    </tr>\n  </tbody>\n</table>\n</div>"
     },
     "execution_count": 43,
     "metadata": {},
     "output_type": "execute_result"
    }
   ],
   "source": [
    "df_skill_count = skills_count.reset_index(name='skill_count')\n",
    "df_skill_count"
   ],
   "metadata": {
    "collapsed": false,
    "ExecuteTime": {
     "end_time": "2024-06-12T07:34:14.891619Z",
     "start_time": "2024-06-12T07:34:14.878586Z"
    }
   },
   "id": "5f3d2507f33e45a5"
  },
  {
   "cell_type": "markdown",
   "source": [
    "* we'll prep for plotting by data getting in descending order"
   ],
   "metadata": {
    "collapsed": false
   },
   "id": "c44f49b306d06603"
  },
  {
   "cell_type": "code",
   "execution_count": 45,
   "outputs": [
    {
     "data": {
      "text/plain": "  job_skills job_title_short  skill_count\n0    airflow   Data Engineer            1\n1        aws   Data Engineer            1\n2      excel    Data Analyst            1\n3     python    Data Analyst            1\n4     python   Data Engineer            1\n5     python  Data Scientist            1\n6          r  Data Scientist            1\n7        sql    Data Analyst            1",
      "text/html": "<div>\n<style scoped>\n    .dataframe tbody tr th:only-of-type {\n        vertical-align: middle;\n    }\n\n    .dataframe tbody tr th {\n        vertical-align: top;\n    }\n\n    .dataframe thead th {\n        text-align: right;\n    }\n</style>\n<table border=\"1\" class=\"dataframe\">\n  <thead>\n    <tr style=\"text-align: right;\">\n      <th></th>\n      <th>job_skills</th>\n      <th>job_title_short</th>\n      <th>skill_count</th>\n    </tr>\n  </thead>\n  <tbody>\n    <tr>\n      <th>0</th>\n      <td>airflow</td>\n      <td>Data Engineer</td>\n      <td>1</td>\n    </tr>\n    <tr>\n      <th>1</th>\n      <td>aws</td>\n      <td>Data Engineer</td>\n      <td>1</td>\n    </tr>\n    <tr>\n      <th>2</th>\n      <td>excel</td>\n      <td>Data Analyst</td>\n      <td>1</td>\n    </tr>\n    <tr>\n      <th>3</th>\n      <td>python</td>\n      <td>Data Analyst</td>\n      <td>1</td>\n    </tr>\n    <tr>\n      <th>4</th>\n      <td>python</td>\n      <td>Data Engineer</td>\n      <td>1</td>\n    </tr>\n    <tr>\n      <th>5</th>\n      <td>python</td>\n      <td>Data Scientist</td>\n      <td>1</td>\n    </tr>\n    <tr>\n      <th>6</th>\n      <td>r</td>\n      <td>Data Scientist</td>\n      <td>1</td>\n    </tr>\n    <tr>\n      <th>7</th>\n      <td>sql</td>\n      <td>Data Analyst</td>\n      <td>1</td>\n    </tr>\n  </tbody>\n</table>\n</div>"
     },
     "execution_count": 45,
     "metadata": {},
     "output_type": "execute_result"
    }
   ],
   "source": [
    "df_skill_count.sort_values(by='skill_count',  inplace=True)\n",
    "df_skill_count"
   ],
   "metadata": {
    "collapsed": false,
    "ExecuteTime": {
     "end_time": "2024-06-12T07:34:49.574916Z",
     "start_time": "2024-06-12T07:34:49.569801Z"
    }
   },
   "id": "b6c338d2d5693c27"
  },
  {
   "cell_type": "markdown",
   "source": [
    "* finally we'll graph the top 10 skills using a bar chart"
   ],
   "metadata": {
    "collapsed": false
   },
   "id": "5da2ffe8718f9a18"
  },
  {
   "cell_type": "code",
   "execution_count": 46,
   "outputs": [
    {
     "data": {
      "text/plain": "  job_skills job_title_short  skill_count\n2      excel    Data Analyst            1\n3     python    Data Analyst            1\n7        sql    Data Analyst            1",
      "text/html": "<div>\n<style scoped>\n    .dataframe tbody tr th:only-of-type {\n        vertical-align: middle;\n    }\n\n    .dataframe tbody tr th {\n        vertical-align: top;\n    }\n\n    .dataframe thead th {\n        text-align: right;\n    }\n</style>\n<table border=\"1\" class=\"dataframe\">\n  <thead>\n    <tr style=\"text-align: right;\">\n      <th></th>\n      <th>job_skills</th>\n      <th>job_title_short</th>\n      <th>skill_count</th>\n    </tr>\n  </thead>\n  <tbody>\n    <tr>\n      <th>2</th>\n      <td>excel</td>\n      <td>Data Analyst</td>\n      <td>1</td>\n    </tr>\n    <tr>\n      <th>3</th>\n      <td>python</td>\n      <td>Data Analyst</td>\n      <td>1</td>\n    </tr>\n    <tr>\n      <th>7</th>\n      <td>sql</td>\n      <td>Data Analyst</td>\n      <td>1</td>\n    </tr>\n  </tbody>\n</table>\n</div>"
     },
     "execution_count": 46,
     "metadata": {},
     "output_type": "execute_result"
    }
   ],
   "source": [
    "job_title = 'Data Analyst'\n",
    "head_value = 10\n",
    "\n",
    "df_skill_final = df_skill_count[df_skill_count['job_title_short'] == job_title].head(head_value)\n",
    "\n",
    "df_skill_final"
   ],
   "metadata": {
    "collapsed": false,
    "ExecuteTime": {
     "end_time": "2024-06-12T07:35:15.377874Z",
     "start_time": "2024-06-12T07:35:15.361675Z"
    }
   },
   "id": "8e0b51e71c4a6a7d"
  },
  {
   "cell_type": "code",
   "execution_count": 49,
   "outputs": [
    {
     "data": {
      "text/plain": "<Figure size 640x480 with 1 Axes>",
      "image/png": "[encoded data removed]"
     },
     "metadata": {},
     "output_type": "display_data"
    },
    {
     "data": {
      "text/plain": "<Figure size 640x480 with 1 Axes>",
      "image/png": "[encoded data removed]"
     },
     "metadata": {},
     "output_type": "display_data"
    }
   ],
   "source": [
    "df_skill_final.plot(kind='barh', x='job_skills', y='skill_count')\n",
    "plt.xlabel('Job Posting Count')\n",
    "plt.ylabel('')\n",
    "plt.title(f'Top {head_value} Skills for {job_title}s')\n",
    "plt.gca().invert_yaxis()  # To display the highest value on top\n",
    "plt.legend().set_visible(False)\n",
    "plt.show()\n",
    "plt.gca().invert_yaxis()"
   ],
   "metadata": {
    "collapsed": false,
    "ExecuteTime": {
     "end_time": "2024-06-12T07:36:34.858857Z",
     "start_time": "2024-06-12T07:36:34.728166Z"
    }
   },
   "id": "1a09e90384ea9d46"
  },
  {
   "cell_type": "code",
   "execution_count": null,
   "outputs": [],
   "source": [],
   "metadata": {
    "collapsed": false
   },
   "id": "c5ea3108f05d3810"
  }
 ],
 "metadata": {
  "kernelspec": {
   "display_name": "Python 3",
   "language": "python",
   "name": "python3"
  },
  "language_info": {
   "codemirror_mode": {
    "name": "ipython",
    "version": 2
   },
   "file_extension": ".py",
   "mimetype": "text/x-python",
   "name": "python",
   "nbconvert_exporter": "python",
   "pygments_lexer": "ipython2",
   "version": "2.7.6"
  }
 },
 "nbformat": 4,
 "nbformat_minor": 5
}
