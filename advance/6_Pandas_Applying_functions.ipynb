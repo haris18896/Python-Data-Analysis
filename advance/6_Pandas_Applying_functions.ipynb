{
 "cells": [
  {
   "cell_type": "code",
   "execution_count": 1,
   "outputs": [],
   "source": [
    "import pandas as pd\n",
    "from datasets import load_dataset\n",
    "import matplotlib.pyplot as plt\n",
    "\n",
    "# Loading Data\n",
    "dataset = load_dataset(\"lukebarousse/data_jobs\")\n",
    "df = dataset['train'].to_pandas()\n",
    "\n",
    "# Data Cleaning\n",
    "df['job_posted_date'] = pd.to_datetime(df['job_posted_date'])"
   ],
   "metadata": {
    "collapsed": false,
    "ExecuteTime": {
     "end_time": "2024-06-12T06:40:43.259647Z",
     "start_time": "2024-06-12T06:40:10.045169Z"
    }
   },
   "id": "6a8048238f7f405e"
  },
  {
   "cell_type": "code",
   "execution_count": 8,
   "outputs": [
    {
     "data": {
      "text/plain": "28        109500.0\n77        140000.0\n92        120000.0\n100       228222.0\n109        89000.0\n            ...   \n785624    139216.0\n785641    150000.0\n785648    221875.0\n785682    157500.0\n785692    157500.0\nName: salary_year_avg, Length: 22003, dtype: float64"
     },
     "execution_count": 8,
     "metadata": {},
     "output_type": "execute_result"
    }
   ],
   "source": [
    "df[pd.notna(df['salary_year_avg'])]['salary_year_avg']"
   ],
   "metadata": {
    "collapsed": false,
    "ExecuteTime": {
     "end_time": "2024-06-12T06:43:40.477848Z",
     "start_time": "2024-06-12T06:43:40.462398Z"
    }
   },
   "id": "fda60f0efbac283e"
  },
  {
   "cell_type": "code",
   "execution_count": 4,
   "id": "initial_id",
   "metadata": {
    "collapsed": true,
    "ExecuteTime": {
     "end_time": "2024-06-12T06:41:31.319275Z",
     "start_time": "2024-06-12T06:41:31.314974Z"
    }
   },
   "outputs": [
    {
     "name": "stdout",
     "output_type": "stream",
     "text": [
      "Help on method apply in module pandas.core.frame:\n",
      "\n",
      "apply(func: 'AggFuncType', axis: 'Axis' = 0, raw: 'bool' = False, result_type: \"Literal['expand', 'reduce', 'broadcast'] | None\" = None, args=(), by_row: \"Literal[False, 'compat']\" = 'compat', **kwargs) method of pandas.core.frame.DataFrame instance\n",
      "    Apply a function along an axis of the DataFrame.\n",
      "    \n",
      "    Objects passed to the function are Series objects whose index is\n",
      "    either the DataFrame's index (``axis=0``) or the DataFrame's columns\n",
      "    (``axis=1``). By default (``result_type=None``), the final return type\n",
      "    is inferred from the return type of the applied function. Otherwise,\n",
      "    it depends on the `result_type` argument.\n",
      "    \n",
      "    Parameters\n",
      "    ----------\n",
      "    func : function\n",
      "        Function to apply to each column or row.\n",
      "    axis : {0 or 'index', 1 or 'columns'}, default 0\n",
      "        Axis along which the function is applied:\n",
      "    \n",
      "        * 0 or 'index': apply function to each column.\n",
      "        * 1 or 'columns': apply function to each row.\n",
      "    \n",
      "    raw : bool, default False\n",
      "        Determines if row or column is passed as a Series or ndarray object:\n",
      "    \n",
      "        * ``False`` : passes each row or column as a Series to the\n",
      "          function.\n",
      "        * ``True`` : the passed function will receive ndarray objects\n",
      "          instead.\n",
      "          If you are just applying a NumPy reduction function this will\n",
      "          achieve much better performance.\n",
      "    \n",
      "    result_type : {'expand', 'reduce', 'broadcast', None}, default None\n",
      "        These only act when ``axis=1`` (columns):\n",
      "    \n",
      "        * 'expand' : list-like results will be turned into columns.\n",
      "        * 'reduce' : returns a Series if possible rather than expanding\n",
      "          list-like results. This is the opposite of 'expand'.\n",
      "        * 'broadcast' : results will be broadcast to the original shape\n",
      "          of the DataFrame, the original index and columns will be\n",
      "          retained.\n",
      "    \n",
      "        The default behaviour (None) depends on the return value of the\n",
      "        applied function: list-like results will be returned as a Series\n",
      "        of those. However if the apply function returns a Series these\n",
      "        are expanded to columns.\n",
      "    args : tuple\n",
      "        Positional arguments to pass to `func` in addition to the\n",
      "        array/series.\n",
      "    by_row : False or \"compat\", default \"compat\"\n",
      "        Only has an effect when ``func`` is a listlike or dictlike of funcs\n",
      "        and the func isn't a string.\n",
      "        If \"compat\", will if possible first translate the func into pandas\n",
      "        methods (e.g. ``Series().apply(np.sum)`` will be translated to\n",
      "        ``Series().sum()``). If that doesn't work, will try call to apply again with\n",
      "        ``by_row=True`` and if that fails, will call apply again with\n",
      "        ``by_row=False`` (backward compatible).\n",
      "        If False, the funcs will be passed the whole Series at once.\n",
      "    \n",
      "        .. versionadded:: 2.1.0\n",
      "    **kwargs\n",
      "        Additional keyword arguments to pass as keywords arguments to\n",
      "        `func`.\n",
      "    \n",
      "    Returns\n",
      "    -------\n",
      "    Series or DataFrame\n",
      "        Result of applying ``func`` along the given axis of the\n",
      "        DataFrame.\n",
      "    \n",
      "    See Also\n",
      "    --------\n",
      "    DataFrame.map: For elementwise operations.\n",
      "    DataFrame.aggregate: Only perform aggregating type operations.\n",
      "    DataFrame.transform: Only perform transforming type operations.\n",
      "    \n",
      "    Notes\n",
      "    -----\n",
      "    Functions that mutate the passed object can produce unexpected\n",
      "    behavior or errors and are not supported. See :ref:`gotchas.udf-mutation`\n",
      "    for more details.\n",
      "    \n",
      "    Examples\n",
      "    --------\n",
      "    >>> df = pd.DataFrame([[4, 9]] * 3, columns=['A', 'B'])\n",
      "    >>> df\n",
      "       A  B\n",
      "    0  4  9\n",
      "    1  4  9\n",
      "    2  4  9\n",
      "    \n",
      "    Using a numpy universal function (in this case the same as\n",
      "    ``np.sqrt(df)``):\n",
      "    \n",
      "    >>> df.apply(np.sqrt)\n",
      "         A    B\n",
      "    0  2.0  3.0\n",
      "    1  2.0  3.0\n",
      "    2  2.0  3.0\n",
      "    \n",
      "    Using a reducing function on either axis\n",
      "    \n",
      "    >>> df.apply(np.sum, axis=0)\n",
      "    A    12\n",
      "    B    27\n",
      "    dtype: int64\n",
      "    \n",
      "    >>> df.apply(np.sum, axis=1)\n",
      "    0    13\n",
      "    1    13\n",
      "    2    13\n",
      "    dtype: int64\n",
      "    \n",
      "    Returning a list-like will result in a Series\n",
      "    \n",
      "    >>> df.apply(lambda x: [1, 2], axis=1)\n",
      "    0    [1, 2]\n",
      "    1    [1, 2]\n",
      "    2    [1, 2]\n",
      "    dtype: object\n",
      "    \n",
      "    Passing ``result_type='expand'`` will expand list-like results\n",
      "    to columns of a Dataframe\n",
      "    \n",
      "    >>> df.apply(lambda x: [1, 2], axis=1, result_type='expand')\n",
      "       0  1\n",
      "    0  1  2\n",
      "    1  1  2\n",
      "    2  1  2\n",
      "    \n",
      "    Returning a Series inside the function is similar to passing\n",
      "    ``result_type='expand'``. The resulting column names\n",
      "    will be the Series index.\n",
      "    \n",
      "    >>> df.apply(lambda x: pd.Series([1, 2], index=['foo', 'bar']), axis=1)\n",
      "       foo  bar\n",
      "    0    1    2\n",
      "    1    1    2\n",
      "    2    1    2\n",
      "    \n",
      "    Passing ``result_type='broadcast'`` will ensure the same shape\n",
      "    result, whether list-like or scalar is returned by the function,\n",
      "    and broadcast it along the axis. The resulting column names will\n",
      "    be the originals.\n",
      "    \n",
      "    >>> df.apply(lambda x: [1, 2], axis=1, result_type='broadcast')\n",
      "       A  B\n",
      "    0  1  2\n",
      "    1  1  2\n",
      "    2  1  2\n"
     ]
    }
   ],
   "source": [
    "help(df.apply)"
   ]
  },
  {
   "cell_type": "code",
   "execution_count": 20,
   "outputs": [
    {
     "data": {
      "text/plain": "28        112785.00\n77        144200.00\n92        123600.00\n100       235068.66\n109        91670.00\n            ...    \n785624    143392.48\n785641    154500.00\n785648    228531.25\n785682    162225.00\n785692    162225.00\nName: salary_year_avg, Length: 22003, dtype: float64"
     },
     "execution_count": 20,
     "metadata": {},
     "output_type": "execute_result"
    }
   ],
   "source": [
    "def projected_salary(salary):\n",
    "    return salary * 1.03\n",
    "\n",
    "df_salary = df[pd.notna(df['salary_year_avg'])].copy()\n",
    "\n",
    "df_salary['salary_year_avg'].apply(projected_salary)"
   ],
   "metadata": {
    "collapsed": false,
    "ExecuteTime": {
     "end_time": "2024-06-12T06:46:34.263695Z",
     "start_time": "2024-06-12T06:46:34.223952Z"
    }
   },
   "id": "83f38014618df70b"
  },
  {
   "cell_type": "code",
   "execution_count": 22,
   "outputs": [],
   "source": [
    "df_salary['salary_year_inflated'] = df_salary['salary_year_avg'].apply(projected_salary) "
   ],
   "metadata": {
    "collapsed": false,
    "ExecuteTime": {
     "end_time": "2024-06-12T06:46:41.800968Z",
     "start_time": "2024-06-12T06:46:41.796721Z"
    }
   },
   "id": "4c6cb1b9070600c5"
  },
  {
   "cell_type": "code",
   "execution_count": 23,
   "outputs": [],
   "source": [
    "df_salary['salary_year_inflated'] = df_salary['salary_year_avg'].apply(lambda x: x * 1.03)"
   ],
   "metadata": {
    "collapsed": false,
    "ExecuteTime": {
     "end_time": "2024-06-12T06:47:09.325611Z",
     "start_time": "2024-06-12T06:47:09.319189Z"
    }
   },
   "id": "7d2560d4df6ef3ac"
  },
  {
   "cell_type": "code",
   "execution_count": 24,
   "outputs": [
    {
     "data": {
      "text/plain": "        salary_year_avg  salary_year_inflated\n28             109500.0             112785.00\n77             140000.0             144200.00\n92             120000.0             123600.00\n100            228222.0             235068.66\n109             89000.0              91670.00\n...                 ...                   ...\n785624         139216.0             143392.48\n785641         150000.0             154500.00\n785648         221875.0             228531.25\n785682         157500.0             162225.00\n785692         157500.0             162225.00\n\n[22003 rows x 2 columns]",
      "text/html": "<div>\n<style scoped>\n    .dataframe tbody tr th:only-of-type {\n        vertical-align: middle;\n    }\n\n    .dataframe tbody tr th {\n        vertical-align: top;\n    }\n\n    .dataframe thead th {\n        text-align: right;\n    }\n</style>\n<table border=\"1\" class=\"dataframe\">\n  <thead>\n    <tr style=\"text-align: right;\">\n      <th></th>\n      <th>salary_year_avg</th>\n      <th>salary_year_inflated</th>\n    </tr>\n  </thead>\n  <tbody>\n    <tr>\n      <th>28</th>\n      <td>109500.0</td>\n      <td>112785.00</td>\n    </tr>\n    <tr>\n      <th>77</th>\n      <td>140000.0</td>\n      <td>144200.00</td>\n    </tr>\n    <tr>\n      <th>92</th>\n      <td>120000.0</td>\n      <td>123600.00</td>\n    </tr>\n    <tr>\n      <th>100</th>\n      <td>228222.0</td>\n      <td>235068.66</td>\n    </tr>\n    <tr>\n      <th>109</th>\n      <td>89000.0</td>\n      <td>91670.00</td>\n    </tr>\n    <tr>\n      <th>...</th>\n      <td>...</td>\n      <td>...</td>\n    </tr>\n    <tr>\n      <th>785624</th>\n      <td>139216.0</td>\n      <td>143392.48</td>\n    </tr>\n    <tr>\n      <th>785641</th>\n      <td>150000.0</td>\n      <td>154500.00</td>\n    </tr>\n    <tr>\n      <th>785648</th>\n      <td>221875.0</td>\n      <td>228531.25</td>\n    </tr>\n    <tr>\n      <th>785682</th>\n      <td>157500.0</td>\n      <td>162225.00</td>\n    </tr>\n    <tr>\n      <th>785692</th>\n      <td>157500.0</td>\n      <td>162225.00</td>\n    </tr>\n  </tbody>\n</table>\n<p>22003 rows × 2 columns</p>\n</div>"
     },
     "execution_count": 24,
     "metadata": {},
     "output_type": "execute_result"
    }
   ],
   "source": [
    "df_salary[['salary_year_avg', 'salary_year_inflated']]"
   ],
   "metadata": {
    "collapsed": false,
    "ExecuteTime": {
     "end_time": "2024-06-12T06:49:34.719022Z",
     "start_time": "2024-06-12T06:49:34.711418Z"
    }
   },
   "id": "2b9fe426f09cfdc8"
  },
  {
   "cell_type": "markdown",
   "source": [
    "# Converting String to List"
   ],
   "metadata": {
    "collapsed": false
   },
   "id": "77a9bbe694cc96f7"
  },
  {
   "cell_type": "code",
   "execution_count": 31,
   "outputs": [
    {
     "data": {
      "text/plain": "str"
     },
     "execution_count": 31,
     "metadata": {},
     "output_type": "execute_result"
    }
   ],
   "source": [
    "df['job_skills'][1]"
   ],
   "metadata": {
    "collapsed": false,
    "ExecuteTime": {
     "end_time": "2024-06-12T06:53:00.761691Z",
     "start_time": "2024-06-12T06:53:00.757789Z"
    }
   },
   "id": "454aa14386beb0e5"
  },
  {
   "cell_type": "code",
   "execution_count": 29,
   "outputs": [
    {
     "data": {
      "text/plain": "['r', 'python', 'sql', 'nosql', 'power bi', 'tableau']"
     },
     "execution_count": 29,
     "metadata": {},
     "output_type": "execute_result"
    }
   ],
   "source": [
    "import ast\n",
    "\n",
    "ast.literal_eval(df['job_skills'][1])"
   ],
   "metadata": {
    "collapsed": false,
    "ExecuteTime": {
     "end_time": "2024-06-12T06:52:36.923854Z",
     "start_time": "2024-06-12T06:52:36.912973Z"
    }
   },
   "id": "2a1ee2447d82635"
  },
  {
   "cell_type": "code",
   "execution_count": 30,
   "outputs": [
    {
     "data": {
      "text/plain": "list"
     },
     "execution_count": 30,
     "metadata": {},
     "output_type": "execute_result"
    }
   ],
   "source": [
    "type(ast.literal_eval(df['job_skills'][1]))"
   ],
   "metadata": {
    "collapsed": false,
    "ExecuteTime": {
     "end_time": "2024-06-12T06:52:48.161376Z",
     "start_time": "2024-06-12T06:52:48.152022Z"
    }
   },
   "id": "e40edd39add35bbc"
  },
  {
   "cell_type": "code",
   "execution_count": 45,
   "outputs": [
    {
     "data": {
      "text/plain": "0                                                      None\n1                [r, python, sql, nosql, power bi, tableau]\n2         [python, sql, c#, azure, airflow, dax, docker,...\n3         [python, c++, java, matlab, aws, tensorflow, k...\n4         [bash, python, oracle, aws, ansible, puppet, j...\n                                ...                        \n785736    [bash, python, perl, linux, unix, kubernetes, ...\n785737                               [sas, sas, sql, excel]\n785738                                  [powerpoint, excel]\n785739    [python, go, nosql, sql, mongo, shell, mysql, ...\n785740                                          [aws, flow]\nName: job_skills, Length: 785741, dtype: object"
     },
     "execution_count": 45,
     "metadata": {},
     "output_type": "execute_result"
    }
   ],
   "source": [
    "def clean_list(skill_list):\n",
    "    if isinstance(skill_list, str):\n",
    "        return ast.literal_eval(skill_list)\n",
    "    else:\n",
    "        return skill_list\n",
    "\n",
    "df['job_skills'] = df['job_skills'].apply(clean_list)\n",
    "df['job_skills']\n"
   ],
   "metadata": {
    "collapsed": false,
    "ExecuteTime": {
     "end_time": "2024-06-12T07:01:07.111570Z",
     "start_time": "2024-06-12T07:01:06.906451Z"
    }
   },
   "id": "2e4c32fd22e50c30"
  },
  {
   "cell_type": "code",
   "execution_count": 39,
   "outputs": [
    {
     "data": {
      "text/plain": "0                                                      None\n1                [r, python, sql, nosql, power bi, tableau]\n2         [python, sql, c#, azure, airflow, dax, docker,...\n3         [python, c++, java, matlab, aws, tensorflow, k...\n4         [bash, python, oracle, aws, ansible, puppet, j...\n                                ...                        \n785736    [bash, python, perl, linux, unix, kubernetes, ...\n785737                               [sas, sas, sql, excel]\n785738                                  [powerpoint, excel]\n785739    [python, go, nosql, sql, mongo, shell, mysql, ...\n785740                                          [aws, flow]\nName: job_skills, Length: 785741, dtype: object"
     },
     "execution_count": 39,
     "metadata": {},
     "output_type": "execute_result"
    }
   ],
   "source": [
    "df['job_skills'] = df['job_skills'].apply(lambda skill_list: ast.literal_eval(skill_list) if isinstance(skill_list, str) else skill_list)\n",
    "df['job_skills']"
   ],
   "metadata": {
    "collapsed": false,
    "ExecuteTime": {
     "end_time": "2024-06-12T06:58:49.021325Z",
     "start_time": "2024-06-12T06:58:48.892725Z"
    }
   },
   "id": "c31e43f4081be3e"
  },
  {
   "cell_type": "code",
   "execution_count": 46,
   "outputs": [
    {
     "data": {
      "text/plain": "       job_title_short                                          job_title  \\\n28      Data Scientist                                CRM Data Specialist   \n77       Data Engineer                                      Data Engineer   \n92       Data Engineer            Remote - Data Engineer - Permanent - W2   \n100     Data Scientist            Data Scientist, Risk Data Mining - USDS   \n109       Data Analyst              Senior Supply Chain Analytics Analyst   \n...                ...                                                ...   \n785624   Data Engineer                   Data Analytics Engineer (Hybrid)   \n785641   Data Engineer                                      Data Engineer   \n785648  Data Scientist  Director Data Scientist - Commercial Platforms...   \n785682  Data Scientist  Data Scientist für datengetriebene Entwicklung...   \n785692  Data Scientist               Data Scientist- Hybrid Work Location   \n\n                                   job_location          job_via  \\\n28      San José Province, San José, Costa Rica  via Ai-Jobs.net   \n77                                Arlington, VA     via LinkedIn   \n92                                     Anywhere     via LinkedIn   \n100                           Mountain View, CA     via LinkedIn   \n109                                    Anywhere       via Get.It   \n...                                         ...              ...   \n785624                          Mt Prospect, IL  via Ai-Jobs.net   \n785641                             New York, NY         via Dice   \n785648                        Pleasant Hill, CA  via Ai-Jobs.net   \n785682                      Reutlingen, Germany  via Ai-Jobs.net   \n785692                               Dayton, OH  via Ai-Jobs.net   \n\n       job_schedule_type  job_work_from_home            search_location  \\\n28             Full-time               False                 Costa Rica   \n77             Full-time               False                      Sudan   \n92             Full-time                True    Illinois, United States   \n100            Full-time               False  California, United States   \n109            Full-time                True    Illinois, United States   \n...                  ...                 ...                        ...   \n785624         Full-time               False    Illinois, United States   \n785641         Full-time               False                    Georgia   \n785648         Full-time               False  California, United States   \n785682         Full-time               False                    Germany   \n785692         Full-time               False    Illinois, United States   \n\n           job_posted_date  job_no_degree_mention  job_health_insurance  \\\n28     2023-08-01 13:37:57                  False                 False   \n77     2023-06-26 14:22:54                  False                 False   \n92     2023-02-21 13:29:59                  False                  True   \n100    2023-07-31 13:01:18                  False                  True   \n109    2023-10-12 13:02:19                  False                  True   \n...                    ...                    ...                   ...   \n785624 2023-08-31 06:02:16                  False                  True   \n785641 2023-01-04 16:36:07                   True                 False   \n785648 2023-04-12 06:02:51                  False                  True   \n785682 2023-03-04 06:16:08                  False                 False   \n785692 2023-04-21 06:02:31                  False                  True   \n\n          job_country salary_rate  salary_year_avg  salary_hour_avg  \\\n28         Costa Rica        year         109500.0              NaN   \n77              Sudan        year         140000.0              NaN   \n92      United States        year         120000.0              NaN   \n100     United States        year         228222.0              NaN   \n109     United States        year          89000.0              NaN   \n...               ...         ...              ...              ...   \n785624  United States        year         139216.0              NaN   \n785641  United States        year         150000.0              NaN   \n785648  United States        year         221875.0              NaN   \n785682        Germany        year         157500.0              NaN   \n785692  United States        year         157500.0              NaN   \n\n                           company_name  \\\n28                             Netskope   \n77                           Intelletec   \n92                         Apex Systems   \n100                              TikTok   \n109     Get It Recruit - Transportation   \n...                                 ...   \n785624                      Bosch Group   \n785641            Engage Partners, Inc.   \n785648                           84.51°   \n785682                      Bosch Group   \n785692                           Tenet3   \n\n                                               job_skills  \\\n28                                      ['gdpr', 'excel']   \n77      ['mongodb', 'mongodb', 'python', 'r', 'sql', '...   \n92                                      ['sql', 'python']   \n100                     ['sql', 'r', 'python', 'express']   \n109                 ['python', 'r', 'alteryx', 'tableau']   \n...                                                   ...   \n785624  ['go', 'python', 'r', 'sql', 'oracle', 'window...   \n785641                                               None   \n785648          ['python', 'azure', 'snowflake', 'spark']   \n785682  ['python', 'hadoop', 'spark', 'airflow', 'kube...   \n785692                          ['python', 'matlab', 'r']   \n\n                                          job_type_skills  \\\n28      {'analyst_tools': ['excel'], 'libraries': ['gd...   \n77      {'analyst_tools': ['tableau'], 'cloud': ['orac...   \n92                     {'programming': ['sql', 'python']}   \n100     {'programming': ['sql', 'r', 'python'], 'webfr...   \n109     {'analyst_tools': ['alteryx', 'tableau'], 'pro...   \n...                                                   ...   \n785624  {'analyst_tools': ['alteryx', 'power bi', 'tab...   \n785641                                               None   \n785648  {'cloud': ['azure', 'snowflake'], 'libraries':...   \n785682  {'libraries': ['hadoop', 'spark', 'airflow'], ...   \n785692         {'programming': ['python', 'matlab', 'r']}   \n\n        salary_year_inflated  \n28                 112785.00  \n77                 144200.00  \n92                 123600.00  \n100                235068.66  \n109                 91670.00  \n...                      ...  \n785624             143392.48  \n785641             154500.00  \n785648             228531.25  \n785682             162225.00  \n785692             162225.00  \n\n[22003 rows x 18 columns]",
      "text/html": "<div>\n<style scoped>\n    .dataframe tbody tr th:only-of-type {\n        vertical-align: middle;\n    }\n\n    .dataframe tbody tr th {\n        vertical-align: top;\n    }\n\n    .dataframe thead th {\n        text-align: right;\n    }\n</style>\n<table border=\"1\" class=\"dataframe\">\n  <thead>\n    <tr style=\"text-align: right;\">\n      <th></th>\n      <th>job_title_short</th>\n      <th>job_title</th>\n      <th>job_location</th>\n      <th>job_via</th>\n      <th>job_schedule_type</th>\n      <th>job_work_from_home</th>\n      <th>search_location</th>\n      <th>job_posted_date</th>\n      <th>job_no_degree_mention</th>\n      <th>job_health_insurance</th>\n      <th>job_country</th>\n      <th>salary_rate</th>\n      <th>salary_year_avg</th>\n      <th>salary_hour_avg</th>\n      <th>company_name</th>\n      <th>job_skills</th>\n      <th>job_type_skills</th>\n      <th>salary_year_inflated</th>\n    </tr>\n  </thead>\n  <tbody>\n    <tr>\n      <th>28</th>\n      <td>Data Scientist</td>\n      <td>CRM Data Specialist</td>\n      <td>San José Province, San José, Costa Rica</td>\n      <td>via Ai-Jobs.net</td>\n      <td>Full-time</td>\n      <td>False</td>\n      <td>Costa Rica</td>\n      <td>2023-08-01 13:37:57</td>\n      <td>False</td>\n      <td>False</td>\n      <td>Costa Rica</td>\n      <td>year</td>\n      <td>109500.0</td>\n      <td>NaN</td>\n      <td>Netskope</td>\n      <td>['gdpr', 'excel']</td>\n      <td>{'analyst_tools': ['excel'], 'libraries': ['gd...</td>\n      <td>112785.00</td>\n    </tr>\n    <tr>\n      <th>77</th>\n      <td>Data Engineer</td>\n      <td>Data Engineer</td>\n      <td>Arlington, VA</td>\n      <td>via LinkedIn</td>\n      <td>Full-time</td>\n      <td>False</td>\n      <td>Sudan</td>\n      <td>2023-06-26 14:22:54</td>\n      <td>False</td>\n      <td>False</td>\n      <td>Sudan</td>\n      <td>year</td>\n      <td>140000.0</td>\n      <td>NaN</td>\n      <td>Intelletec</td>\n      <td>['mongodb', 'mongodb', 'python', 'r', 'sql', '...</td>\n      <td>{'analyst_tools': ['tableau'], 'cloud': ['orac...</td>\n      <td>144200.00</td>\n    </tr>\n    <tr>\n      <th>92</th>\n      <td>Data Engineer</td>\n      <td>Remote - Data Engineer - Permanent - W2</td>\n      <td>Anywhere</td>\n      <td>via LinkedIn</td>\n      <td>Full-time</td>\n      <td>True</td>\n      <td>Illinois, United States</td>\n      <td>2023-02-21 13:29:59</td>\n      <td>False</td>\n      <td>True</td>\n      <td>United States</td>\n      <td>year</td>\n      <td>120000.0</td>\n      <td>NaN</td>\n      <td>Apex Systems</td>\n      <td>['sql', 'python']</td>\n      <td>{'programming': ['sql', 'python']}</td>\n      <td>123600.00</td>\n    </tr>\n    <tr>\n      <th>100</th>\n      <td>Data Scientist</td>\n      <td>Data Scientist, Risk Data Mining - USDS</td>\n      <td>Mountain View, CA</td>\n      <td>via LinkedIn</td>\n      <td>Full-time</td>\n      <td>False</td>\n      <td>California, United States</td>\n      <td>2023-07-31 13:01:18</td>\n      <td>False</td>\n      <td>True</td>\n      <td>United States</td>\n      <td>year</td>\n      <td>228222.0</td>\n      <td>NaN</td>\n      <td>TikTok</td>\n      <td>['sql', 'r', 'python', 'express']</td>\n      <td>{'programming': ['sql', 'r', 'python'], 'webfr...</td>\n      <td>235068.66</td>\n    </tr>\n    <tr>\n      <th>109</th>\n      <td>Data Analyst</td>\n      <td>Senior Supply Chain Analytics Analyst</td>\n      <td>Anywhere</td>\n      <td>via Get.It</td>\n      <td>Full-time</td>\n      <td>True</td>\n      <td>Illinois, United States</td>\n      <td>2023-10-12 13:02:19</td>\n      <td>False</td>\n      <td>True</td>\n      <td>United States</td>\n      <td>year</td>\n      <td>89000.0</td>\n      <td>NaN</td>\n      <td>Get It Recruit - Transportation</td>\n      <td>['python', 'r', 'alteryx', 'tableau']</td>\n      <td>{'analyst_tools': ['alteryx', 'tableau'], 'pro...</td>\n      <td>91670.00</td>\n    </tr>\n    <tr>\n      <th>...</th>\n      <td>...</td>\n      <td>...</td>\n      <td>...</td>\n      <td>...</td>\n      <td>...</td>\n      <td>...</td>\n      <td>...</td>\n      <td>...</td>\n      <td>...</td>\n      <td>...</td>\n      <td>...</td>\n      <td>...</td>\n      <td>...</td>\n      <td>...</td>\n      <td>...</td>\n      <td>...</td>\n      <td>...</td>\n      <td>...</td>\n    </tr>\n    <tr>\n      <th>785624</th>\n      <td>Data Engineer</td>\n      <td>Data Analytics Engineer (Hybrid)</td>\n      <td>Mt Prospect, IL</td>\n      <td>via Ai-Jobs.net</td>\n      <td>Full-time</td>\n      <td>False</td>\n      <td>Illinois, United States</td>\n      <td>2023-08-31 06:02:16</td>\n      <td>False</td>\n      <td>True</td>\n      <td>United States</td>\n      <td>year</td>\n      <td>139216.0</td>\n      <td>NaN</td>\n      <td>Bosch Group</td>\n      <td>['go', 'python', 'r', 'sql', 'oracle', 'window...</td>\n      <td>{'analyst_tools': ['alteryx', 'power bi', 'tab...</td>\n      <td>143392.48</td>\n    </tr>\n    <tr>\n      <th>785641</th>\n      <td>Data Engineer</td>\n      <td>Data Engineer</td>\n      <td>New York, NY</td>\n      <td>via Dice</td>\n      <td>Full-time</td>\n      <td>False</td>\n      <td>Georgia</td>\n      <td>2023-01-04 16:36:07</td>\n      <td>True</td>\n      <td>False</td>\n      <td>United States</td>\n      <td>year</td>\n      <td>150000.0</td>\n      <td>NaN</td>\n      <td>Engage Partners, Inc.</td>\n      <td>None</td>\n      <td>None</td>\n      <td>154500.00</td>\n    </tr>\n    <tr>\n      <th>785648</th>\n      <td>Data Scientist</td>\n      <td>Director Data Scientist - Commercial Platforms...</td>\n      <td>Pleasant Hill, CA</td>\n      <td>via Ai-Jobs.net</td>\n      <td>Full-time</td>\n      <td>False</td>\n      <td>California, United States</td>\n      <td>2023-04-12 06:02:51</td>\n      <td>False</td>\n      <td>True</td>\n      <td>United States</td>\n      <td>year</td>\n      <td>221875.0</td>\n      <td>NaN</td>\n      <td>84.51°</td>\n      <td>['python', 'azure', 'snowflake', 'spark']</td>\n      <td>{'cloud': ['azure', 'snowflake'], 'libraries':...</td>\n      <td>228531.25</td>\n    </tr>\n    <tr>\n      <th>785682</th>\n      <td>Data Scientist</td>\n      <td>Data Scientist für datengetriebene Entwicklung...</td>\n      <td>Reutlingen, Germany</td>\n      <td>via Ai-Jobs.net</td>\n      <td>Full-time</td>\n      <td>False</td>\n      <td>Germany</td>\n      <td>2023-03-04 06:16:08</td>\n      <td>False</td>\n      <td>False</td>\n      <td>Germany</td>\n      <td>year</td>\n      <td>157500.0</td>\n      <td>NaN</td>\n      <td>Bosch Group</td>\n      <td>['python', 'hadoop', 'spark', 'airflow', 'kube...</td>\n      <td>{'libraries': ['hadoop', 'spark', 'airflow'], ...</td>\n      <td>162225.00</td>\n    </tr>\n    <tr>\n      <th>785692</th>\n      <td>Data Scientist</td>\n      <td>Data Scientist- Hybrid Work Location</td>\n      <td>Dayton, OH</td>\n      <td>via Ai-Jobs.net</td>\n      <td>Full-time</td>\n      <td>False</td>\n      <td>Illinois, United States</td>\n      <td>2023-04-21 06:02:31</td>\n      <td>False</td>\n      <td>True</td>\n      <td>United States</td>\n      <td>year</td>\n      <td>157500.0</td>\n      <td>NaN</td>\n      <td>Tenet3</td>\n      <td>['python', 'matlab', 'r']</td>\n      <td>{'programming': ['python', 'matlab', 'r']}</td>\n      <td>162225.00</td>\n    </tr>\n  </tbody>\n</table>\n<p>22003 rows × 18 columns</p>\n</div>"
     },
     "execution_count": 46,
     "metadata": {},
     "output_type": "execute_result"
    }
   ],
   "source": [
    "df_salary"
   ],
   "metadata": {
    "collapsed": false,
    "ExecuteTime": {
     "end_time": "2024-06-12T07:02:30.786672Z",
     "start_time": "2024-06-12T07:02:30.782481Z"
    }
   },
   "id": "85140cf3bb039d6a"
  },
  {
   "cell_type": "code",
   "execution_count": 47,
   "outputs": [],
   "source": [
    "df_salary['salary_year_inflated'] = df_salary['salary_year_avg'].apply(lambda x: x * 1.03)"
   ],
   "metadata": {
    "collapsed": false,
    "ExecuteTime": {
     "end_time": "2024-06-12T07:03:21.774883Z",
     "start_time": "2024-06-12T07:03:21.762353Z"
    }
   },
   "id": "b4027a22fc03b01d"
  },
  {
   "cell_type": "code",
   "execution_count": 49,
   "outputs": [
    {
     "data": {
      "text/plain": "        salary_year_inflated  salary_year_avg\n28                 112785.00         109500.0\n77                 144200.00         140000.0\n92                 123600.00         120000.0\n100                235068.66         228222.0\n109                 91670.00          89000.0\n...                      ...              ...\n785624             143392.48         139216.0\n785641             154500.00         150000.0\n785648             228531.25         221875.0\n785682             162225.00         157500.0\n785692             162225.00         157500.0\n\n[22003 rows x 2 columns]",
      "text/html": "<div>\n<style scoped>\n    .dataframe tbody tr th:only-of-type {\n        vertical-align: middle;\n    }\n\n    .dataframe tbody tr th {\n        vertical-align: top;\n    }\n\n    .dataframe thead th {\n        text-align: right;\n    }\n</style>\n<table border=\"1\" class=\"dataframe\">\n  <thead>\n    <tr style=\"text-align: right;\">\n      <th></th>\n      <th>salary_year_inflated</th>\n      <th>salary_year_avg</th>\n    </tr>\n  </thead>\n  <tbody>\n    <tr>\n      <th>28</th>\n      <td>112785.00</td>\n      <td>109500.0</td>\n    </tr>\n    <tr>\n      <th>77</th>\n      <td>144200.00</td>\n      <td>140000.0</td>\n    </tr>\n    <tr>\n      <th>92</th>\n      <td>123600.00</td>\n      <td>120000.0</td>\n    </tr>\n    <tr>\n      <th>100</th>\n      <td>235068.66</td>\n      <td>228222.0</td>\n    </tr>\n    <tr>\n      <th>109</th>\n      <td>91670.00</td>\n      <td>89000.0</td>\n    </tr>\n    <tr>\n      <th>...</th>\n      <td>...</td>\n      <td>...</td>\n    </tr>\n    <tr>\n      <th>785624</th>\n      <td>143392.48</td>\n      <td>139216.0</td>\n    </tr>\n    <tr>\n      <th>785641</th>\n      <td>154500.00</td>\n      <td>150000.0</td>\n    </tr>\n    <tr>\n      <th>785648</th>\n      <td>228531.25</td>\n      <td>221875.0</td>\n    </tr>\n    <tr>\n      <th>785682</th>\n      <td>162225.00</td>\n      <td>157500.0</td>\n    </tr>\n    <tr>\n      <th>785692</th>\n      <td>162225.00</td>\n      <td>157500.0</td>\n    </tr>\n  </tbody>\n</table>\n<p>22003 rows × 2 columns</p>\n</div>"
     },
     "execution_count": 49,
     "metadata": {},
     "output_type": "execute_result"
    }
   ],
   "source": [
    "df_salary[['salary_year_inflated', 'salary_year_avg']]"
   ],
   "metadata": {
    "collapsed": false,
    "ExecuteTime": {
     "end_time": "2024-06-12T07:03:43.449106Z",
     "start_time": "2024-06-12T07:03:43.443735Z"
    }
   },
   "id": "9f5d1ed29e9da1b5"
  },
  {
   "cell_type": "code",
   "execution_count": 50,
   "outputs": [
    {
     "data": {
      "text/plain": "       job_title_short  salary_year_avg  salary_year_inflated\n28      Data Scientist         109500.0             112785.00\n77       Data Engineer         140000.0             144200.00\n92       Data Engineer         120000.0             123600.00\n100     Data Scientist         228222.0             235068.66\n109       Data Analyst          89000.0              91670.00\n...                ...              ...                   ...\n785624   Data Engineer         139216.0             143392.48\n785641   Data Engineer         150000.0             154500.00\n785648  Data Scientist         221875.0             228531.25\n785682  Data Scientist         157500.0             162225.00\n785692  Data Scientist         157500.0             162225.00\n\n[22003 rows x 3 columns]",
      "text/html": "<div>\n<style scoped>\n    .dataframe tbody tr th:only-of-type {\n        vertical-align: middle;\n    }\n\n    .dataframe tbody tr th {\n        vertical-align: top;\n    }\n\n    .dataframe thead th {\n        text-align: right;\n    }\n</style>\n<table border=\"1\" class=\"dataframe\">\n  <thead>\n    <tr style=\"text-align: right;\">\n      <th></th>\n      <th>job_title_short</th>\n      <th>salary_year_avg</th>\n      <th>salary_year_inflated</th>\n    </tr>\n  </thead>\n  <tbody>\n    <tr>\n      <th>28</th>\n      <td>Data Scientist</td>\n      <td>109500.0</td>\n      <td>112785.00</td>\n    </tr>\n    <tr>\n      <th>77</th>\n      <td>Data Engineer</td>\n      <td>140000.0</td>\n      <td>144200.00</td>\n    </tr>\n    <tr>\n      <th>92</th>\n      <td>Data Engineer</td>\n      <td>120000.0</td>\n      <td>123600.00</td>\n    </tr>\n    <tr>\n      <th>100</th>\n      <td>Data Scientist</td>\n      <td>228222.0</td>\n      <td>235068.66</td>\n    </tr>\n    <tr>\n      <th>109</th>\n      <td>Data Analyst</td>\n      <td>89000.0</td>\n      <td>91670.00</td>\n    </tr>\n    <tr>\n      <th>...</th>\n      <td>...</td>\n      <td>...</td>\n      <td>...</td>\n    </tr>\n    <tr>\n      <th>785624</th>\n      <td>Data Engineer</td>\n      <td>139216.0</td>\n      <td>143392.48</td>\n    </tr>\n    <tr>\n      <th>785641</th>\n      <td>Data Engineer</td>\n      <td>150000.0</td>\n      <td>154500.00</td>\n    </tr>\n    <tr>\n      <th>785648</th>\n      <td>Data Scientist</td>\n      <td>221875.0</td>\n      <td>228531.25</td>\n    </tr>\n    <tr>\n      <th>785682</th>\n      <td>Data Scientist</td>\n      <td>157500.0</td>\n      <td>162225.00</td>\n    </tr>\n    <tr>\n      <th>785692</th>\n      <td>Data Scientist</td>\n      <td>157500.0</td>\n      <td>162225.00</td>\n    </tr>\n  </tbody>\n</table>\n<p>22003 rows × 3 columns</p>\n</div>"
     },
     "execution_count": 50,
     "metadata": {},
     "output_type": "execute_result"
    }
   ],
   "source": [
    "def projected_salary(row):\n",
    "    if \"Senior\" in row['job_title_short']:\n",
    "        return row['salary_year_avg'] * 1.05\n",
    "    else:\n",
    "        return row['salary_year_avg'] * 1.03\n",
    "    \n",
    "df_salary['salary_year_inflated'] = df_salary.apply(projected_salary, axis=1)\n",
    "\n",
    "df_salary[['job_title_short', 'salary_year_avg', 'salary_year_inflated']]"
   ],
   "metadata": {
    "collapsed": false,
    "ExecuteTime": {
     "end_time": "2024-06-12T07:05:05.172389Z",
     "start_time": "2024-06-12T07:05:05.041287Z"
    }
   },
   "id": "3fca73efe8b36c97"
  },
  {
   "cell_type": "code",
   "execution_count": 51,
   "outputs": [
    {
     "data": {
      "text/plain": "       job_title_short  salary_year_avg  salary_year_inflated\n28      Data Scientist         109500.0             112785.00\n77       Data Engineer         140000.0             144200.00\n92       Data Engineer         120000.0             123600.00\n100     Data Scientist         228222.0             235068.66\n109       Data Analyst          89000.0              91670.00\n...                ...              ...                   ...\n785624   Data Engineer         139216.0             143392.48\n785641   Data Engineer         150000.0             154500.00\n785648  Data Scientist         221875.0             228531.25\n785682  Data Scientist         157500.0             162225.00\n785692  Data Scientist         157500.0             162225.00\n\n[22003 rows x 3 columns]",
      "text/html": "<div>\n<style scoped>\n    .dataframe tbody tr th:only-of-type {\n        vertical-align: middle;\n    }\n\n    .dataframe tbody tr th {\n        vertical-align: top;\n    }\n\n    .dataframe thead th {\n        text-align: right;\n    }\n</style>\n<table border=\"1\" class=\"dataframe\">\n  <thead>\n    <tr style=\"text-align: right;\">\n      <th></th>\n      <th>job_title_short</th>\n      <th>salary_year_avg</th>\n      <th>salary_year_inflated</th>\n    </tr>\n  </thead>\n  <tbody>\n    <tr>\n      <th>28</th>\n      <td>Data Scientist</td>\n      <td>109500.0</td>\n      <td>112785.00</td>\n    </tr>\n    <tr>\n      <th>77</th>\n      <td>Data Engineer</td>\n      <td>140000.0</td>\n      <td>144200.00</td>\n    </tr>\n    <tr>\n      <th>92</th>\n      <td>Data Engineer</td>\n      <td>120000.0</td>\n      <td>123600.00</td>\n    </tr>\n    <tr>\n      <th>100</th>\n      <td>Data Scientist</td>\n      <td>228222.0</td>\n      <td>235068.66</td>\n    </tr>\n    <tr>\n      <th>109</th>\n      <td>Data Analyst</td>\n      <td>89000.0</td>\n      <td>91670.00</td>\n    </tr>\n    <tr>\n      <th>...</th>\n      <td>...</td>\n      <td>...</td>\n      <td>...</td>\n    </tr>\n    <tr>\n      <th>785624</th>\n      <td>Data Engineer</td>\n      <td>139216.0</td>\n      <td>143392.48</td>\n    </tr>\n    <tr>\n      <th>785641</th>\n      <td>Data Engineer</td>\n      <td>150000.0</td>\n      <td>154500.00</td>\n    </tr>\n    <tr>\n      <th>785648</th>\n      <td>Data Scientist</td>\n      <td>221875.0</td>\n      <td>228531.25</td>\n    </tr>\n    <tr>\n      <th>785682</th>\n      <td>Data Scientist</td>\n      <td>157500.0</td>\n      <td>162225.00</td>\n    </tr>\n    <tr>\n      <th>785692</th>\n      <td>Data Scientist</td>\n      <td>157500.0</td>\n      <td>162225.00</td>\n    </tr>\n  </tbody>\n</table>\n<p>22003 rows × 3 columns</p>\n</div>"
     },
     "execution_count": 51,
     "metadata": {},
     "output_type": "execute_result"
    }
   ],
   "source": [
    "df_salary['salary_year_inflated'] = df_salary.apply(lambda row: row['salary_year_avg'] * 1.05 if \"Senior\" in row['job_title_short'] else row['salary_year_avg'] * 1.03, axis=1)\n",
    "df_salary[['job_title_short', 'salary_year_avg', 'salary_year_inflated']]\n"
   ],
   "metadata": {
    "collapsed": false,
    "ExecuteTime": {
     "end_time": "2024-06-12T07:06:08.138829Z",
     "start_time": "2024-06-12T07:06:08.004921Z"
    }
   },
   "id": "876d991c1cadea04"
  },
  {
   "cell_type": "code",
   "execution_count": null,
   "outputs": [],
   "source": [],
   "metadata": {
    "collapsed": false
   },
   "id": "edc90dd2e2b46f88"
  }
 ],
 "metadata": {
  "kernelspec": {
   "display_name": "Python 3",
   "language": "python",
   "name": "python3"
  },
  "language_info": {
   "codemirror_mode": {
    "name": "ipython",
    "version": 2
   },
   "file_extension": ".py",
   "mimetype": "text/x-python",
   "name": "python",
   "nbconvert_exporter": "python",
   "pygments_lexer": "ipython2",
   "version": "2.7.6"
  }
 },
 "nbformat": 4,
 "nbformat_minor": 5
}
